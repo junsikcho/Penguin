{
  "nbformat": 4,
  "nbformat_minor": 0,
  "metadata": {
    "colab": {
      "provenance": [],
      "authorship_tag": "ABX9TyNb3ybVJQZKZDuwndYgLT3/",
      "include_colab_link": true
    },
    "kernelspec": {
      "name": "python3",
      "display_name": "Python 3"
    },
    "language_info": {
      "name": "python"
    }
  },
  "cells": [
    {
      "cell_type": "markdown",
      "metadata": {
        "id": "view-in-github",
        "colab_type": "text"
      },
      "source": [
        "<a href=\"https://colab.research.google.com/github/junsikcho/Penguin/blob/main/%ED%94%84%EB%B0%8D%EA%B8%B0%EC%B4%88_Code(0201)%EB%B3%80%EC%88%98%EC%99%80_%EB%8D%B0%EC%9D%B4%ED%84%B0%ED%98%95.ipynb\" target=\"_parent\"><img src=\"https://colab.research.google.com/assets/colab-badge.svg\" alt=\"Open In Colab\"/></a>"
      ]
    },
    {
      "cell_type": "markdown",
      "source": [
        "# 변수와 데이터형 0201\n",
        "1) print()함수로 서식에 맞추어 출력하는 방법을 익힌다.\\\n",
        "2) print()함수로 별표를 다이아몬드 모양으로 출력하는 프로그램을 만든다."
      ],
      "metadata": {
        "id": "JNKft_Hfl5hL"
      }
    },
    {
      "cell_type": "code",
      "source": [
        "print(\"안녕하세요?\")"
      ],
      "metadata": {
        "colab": {
          "base_uri": "https://localhost:8080/"
        },
        "id": "TL_pGac2mhOX",
        "outputId": "36dc40bc-bedb-4d43-8958-3a8333f60cda"
      },
      "execution_count": 1,
      "outputs": [
        {
          "output_type": "stream",
          "name": "stdout",
          "text": [
            "안녕하세요?\n"
          ]
        }
      ]
    },
    {
      "cell_type": "code",
      "source": [
        "print(\"100\")\n",
        "# 결과로 나온 100은 숫자 100이 아닌 문자 100(일영영)임.\n",
        "# \"\"안의 내용이 문자든 숫자든 무조건 문자로 취급함."
      ],
      "metadata": {
        "colab": {
          "base_uri": "https://localhost:8080/"
        },
        "id": "3qLCGEJYmtV4",
        "outputId": "253f3fcd-f5b5-4f33-c314-10ff8bb7eb48"
      },
      "execution_count": 2,
      "outputs": [
        {
          "output_type": "stream",
          "name": "stdout",
          "text": [
            "100\n"
          ]
        }
      ]
    },
    {
      "cell_type": "markdown",
      "source": [
        "#print()함수에서 사용할 수 있는 서식\n",
        "1) %d, %x, %0 => 정수(10진수, 16진수, 8진수) 예: 10, 100, 1234\\\n",
        "2) %f => 실수(소수점이 붙은 수) 예: 0.5, 1.0, 3.14\\\n",
        "3) %C => 한 글자 예: \"b\", \"한\"\\\n",
        "4) %S => 두 글자 이상인 문자열 예: \"안녕\", \"abcdefg\", \"a\""
      ],
      "metadata": {
        "id": "kp22LpWfof-Z"
      }
    },
    {
      "cell_type": "code",
      "source": [
        "print(\"%d\" % 100)\n",
        "# 결과로 나온 100은 숫자 100(백)을 의미함."
      ],
      "metadata": {
        "colab": {
          "base_uri": "https://localhost:8080/"
        },
        "id": "5bI8n3_Dm8-j",
        "outputId": "97bd26a5-0d8c-4af8-fea0-ce4dfcdb1c7a"
      },
      "execution_count": 3,
      "outputs": [
        {
          "output_type": "stream",
          "name": "stdout",
          "text": [
            "100\n"
          ]
        }
      ]
    },
    {
      "cell_type": "code",
      "source": [
        "print(\"100 + 100\")\n",
        "# 결과로 나온 100 + 100은 숫자가 아닌 문자임."
      ],
      "metadata": {
        "colab": {
          "base_uri": "https://localhost:8080/"
        },
        "id": "b0uZzRJMnFCa",
        "outputId": "271b35af-48b0-47b8-c139-687b987b509a"
      },
      "execution_count": 4,
      "outputs": [
        {
          "output_type": "stream",
          "name": "stdout",
          "text": [
            "100 + 100\n"
          ]
        }
      ]
    },
    {
      "cell_type": "code",
      "source": [
        "print(\"%d\" % (100 + 100))\n",
        "# 결과로 나온 200은 100 + 100을 더한 숫자 200임."
      ],
      "metadata": {
        "colab": {
          "base_uri": "https://localhost:8080/"
        },
        "id": "YPc4LbannP0r",
        "outputId": "bf92271e-c98f-4e10-c29f-2e003cfe0ffa"
      },
      "execution_count": 5,
      "outputs": [
        {
          "output_type": "stream",
          "name": "stdout",
          "text": [
            "200\n"
          ]
        }
      ]
    },
    {
      "cell_type": "code",
      "source": [
        "print(\"%d\" % (100, 200))\n",
        "# 에러가 나는 이유 : %d가 하나밖에 없는데 숫자가 2개 이므로 => %d 2개로 수정"
      ],
      "metadata": {
        "colab": {
          "base_uri": "https://localhost:8080/",
          "height": 147
        },
        "id": "RYjJEaMqnZz0",
        "outputId": "4177ed5e-30e9-47ac-f4e5-6008cf1585c3"
      },
      "execution_count": 6,
      "outputs": [
        {
          "output_type": "error",
          "ename": "TypeError",
          "evalue": "not all arguments converted during string formatting",
          "traceback": [
            "\u001b[0;31m---------------------------------------------------------------------------\u001b[0m",
            "\u001b[0;31mTypeError\u001b[0m                                 Traceback (most recent call last)",
            "\u001b[0;32m<ipython-input-6-1d5f2cb7b25f>\u001b[0m in \u001b[0;36m<cell line: 1>\u001b[0;34m()\u001b[0m\n\u001b[0;32m----> 1\u001b[0;31m \u001b[0mprint\u001b[0m\u001b[0;34m(\u001b[0m\u001b[0;34m\"%d\"\u001b[0m \u001b[0;34m%\u001b[0m \u001b[0;34m(\u001b[0m\u001b[0;36m100\u001b[0m\u001b[0;34m,\u001b[0m \u001b[0;36m200\u001b[0m\u001b[0;34m)\u001b[0m\u001b[0;34m)\u001b[0m\u001b[0;34m\u001b[0m\u001b[0;34m\u001b[0m\u001b[0m\n\u001b[0m",
            "\u001b[0;31mTypeError\u001b[0m: not all arguments converted during string formatting"
          ]
        }
      ]
    },
    {
      "cell_type": "code",
      "source": [
        "print(\"%d %d\" % (100, 200))\n",
        "# 수정 코드"
      ],
      "metadata": {
        "colab": {
          "base_uri": "https://localhost:8080/"
        },
        "id": "hQenI_ohn8hj",
        "outputId": "7e9d95a0-3c13-4c8c-b4e6-e5f533e3e12d"
      },
      "execution_count": 8,
      "outputs": [
        {
          "output_type": "stream",
          "name": "stdout",
          "text": [
            "100 200\n"
          ]
        }
      ]
    },
    {
      "cell_type": "code",
      "source": [
        "print(\"%d %d\" % (100))\n",
        "# 에러가 나는 이유 : %d가 2개인데 숫자가 한개라 서로 짝이 맞지 않음 -> %d 한개 삭제"
      ],
      "metadata": {
        "colab": {
          "base_uri": "https://localhost:8080/",
          "height": 147
        },
        "id": "v3Q_kZlVoHOi",
        "outputId": "3e20ae06-010c-4f81-eef5-140bee9f2a3a"
      },
      "execution_count": 9,
      "outputs": [
        {
          "output_type": "error",
          "ename": "TypeError",
          "evalue": "not enough arguments for format string",
          "traceback": [
            "\u001b[0;31m---------------------------------------------------------------------------\u001b[0m",
            "\u001b[0;31mTypeError\u001b[0m                                 Traceback (most recent call last)",
            "\u001b[0;32m<ipython-input-9-160dfdcbd264>\u001b[0m in \u001b[0;36m<cell line: 1>\u001b[0;34m()\u001b[0m\n\u001b[0;32m----> 1\u001b[0;31m \u001b[0mprint\u001b[0m\u001b[0;34m(\u001b[0m\u001b[0;34m\"%d %d\"\u001b[0m \u001b[0;34m%\u001b[0m \u001b[0;34m(\u001b[0m\u001b[0;36m100\u001b[0m\u001b[0;34m)\u001b[0m\u001b[0;34m)\u001b[0m\u001b[0;34m\u001b[0m\u001b[0;34m\u001b[0m\u001b[0m\n\u001b[0m",
            "\u001b[0;31mTypeError\u001b[0m: not enough arguments for format string"
          ]
        }
      ]
    },
    {
      "cell_type": "code",
      "source": [
        "print(\"%d\" % (100))\n",
        "# 수정 코드"
      ],
      "metadata": {
        "colab": {
          "base_uri": "https://localhost:8080/"
        },
        "id": "8cSo4mJKoVZ7",
        "outputId": "21c2eaed-0c25-4ac6-bb44-7d0be1334afb"
      },
      "execution_count": 11,
      "outputs": [
        {
          "output_type": "stream",
          "name": "stdout",
          "text": [
            "100\n"
          ]
        }
      ]
    },
    {
      "cell_type": "code",
      "source": [
        "print(\"%d / %d = %d\" % (100, 200, 0.5))\n",
        "# 첫 번째 %d는 100을 정수로 표시 => 100\n",
        "# 두 번째 %d는 200을 정수로 표시 => 200\n",
        "# 세 번째 %d는 0.5를 정수로 표시 => 0\n",
        "# 따라서 아래와 같이 코드를 수정"
      ],
      "metadata": {
        "colab": {
          "base_uri": "https://localhost:8080/"
        },
        "id": "OFGEDHKXpVwq",
        "outputId": "39ec9f19-eea1-4dff-c123-7f113d997054"
      },
      "execution_count": 14,
      "outputs": [
        {
          "output_type": "stream",
          "name": "stdout",
          "text": [
            "100 / 200 = 0\n"
          ]
        }
      ]
    },
    {
      "cell_type": "code",
      "source": [
        "print(\"%d / %d = %5.1f\" % (100, 200, 0.5))\n",
        "\n",
        "'''\n",
        "%5.1f의 의미:\n",
        "f:\n",
        "숫자를 **실수(floating-point number)**로 출력하라는 뜻입니다.\n",
        "0.5와 같은 실수를 다룰 때 사용합니다.\n",
        "\n",
        ".1:\n",
        "소수점 이하 1자리까지 표시하라는 뜻입니다.\n",
        "예: 0.5는 소수점 이하 1자리까지 그대로 출력됩니다.\n",
        "\n",
        "5:\n",
        "전체 출력 폭(자리수)이 최소 5칸이 되도록 숫자를 출력하라는 뜻입니다.\n",
        "만약 숫자가 5칸보다 짧으면 앞에 공백으로 채워집니다.\n",
        "\n",
        "왜 이렇게 할까?\n",
        "1) 출력 정렬: 여러 값을 표 형태로 출력할 때, 숫자들이 깔끔하게 정렬됩니다. (가독성)\n",
        "2) 소수점 이하 자리수 통일: 실수를 일정한 자리수로 출력해 데이터를 일관되게 보여줍니다.\n",
        "'''"
      ],
      "metadata": {
        "colab": {
          "base_uri": "https://localhost:8080/"
        },
        "id": "3IgmOnGqpl80",
        "outputId": "a039bd5e-ddfb-4600-ee56-5fd6977de994"
      },
      "execution_count": 18,
      "outputs": [
        {
          "output_type": "stream",
          "name": "stdout",
          "text": [
            "100 / 200 =   0.5\n"
          ]
        }
      ]
    },
    {
      "cell_type": "markdown",
      "source": [
        "# print()함수를 사용한 깔끔한 출력"
      ],
      "metadata": {
        "id": "gSSArdGkrPKw"
      }
    },
    {
      "cell_type": "code",
      "source": [
        "# 정수형 데이터의 서식 지정\n",
        "print(\"%d\" % 123) # 숫자의 자릿수만큼 정렬\n",
        "print(\"%5d\" % 123) # 오른쪽에 붙여서 정렬(다섯 자리 확보)\n",
        "print(\"%05d\" % 123) # 오른쪽에 붙여서 정렬 (빈칸을 0으로 채움)"
      ],
      "metadata": {
        "colab": {
          "base_uri": "https://localhost:8080/"
        },
        "id": "HGsCJE_bq1Es",
        "outputId": "77c0de29-02ca-4816-d4c8-ac3d61e7617a"
      },
      "execution_count": 19,
      "outputs": [
        {
          "output_type": "stream",
          "name": "stdout",
          "text": [
            "123\n",
            "  123\n",
            "00123\n"
          ]
        }
      ]
    },
    {
      "cell_type": "code",
      "source": [
        "# 실수형 데이터의 서식 지정\n",
        "print(\"%f\" % 123.45) # 소수점 아래 여섯자리까지 무조건 출력\n",
        "print(\"%7.1f\" % 123.45) # 소수점 아래 첫째 자리만 출력 ( 소수점 아래 둘째 자리에서 반올림 )\n",
        "print(\"%7.3f\" % 123.45) # 소수점 아래 셋째 자리까지 출력 ( 오른쪽 빈칸은 0으로 채움 )"
      ],
      "metadata": {
        "colab": {
          "base_uri": "https://localhost:8080/"
        },
        "id": "AMWGXThSrNUZ",
        "outputId": "cb91af5e-acbc-467d-fe03-91cfa63d0924"
      },
      "execution_count": 22,
      "outputs": [
        {
          "output_type": "stream",
          "name": "stdout",
          "text": [
            "123.450000\n",
            "  123.5\n",
            "123.450\n"
          ]
        }
      ]
    },
    {
      "cell_type": "code",
      "source": [
        "# 문자열 데이터의 서식 지정\n",
        "print(\"%s\" % \"Python\") # 자릿수만큼 출력\n",
        "print(\"%10s\" % \"Python\") # 오른쪽 정렬 ( 열 자리 출력 )"
      ],
      "metadata": {
        "colab": {
          "base_uri": "https://localhost:8080/"
        },
        "id": "5NOaOMV8r1X3",
        "outputId": "56e2251b-35f2-4eed-e614-7fd144b353a0"
      },
      "execution_count": 24,
      "outputs": [
        {
          "output_type": "stream",
          "name": "stdout",
          "text": [
            "Python\n",
            "    Python\n"
          ]
        }
      ]
    },
    {
      "cell_type": "code",
      "source": [
        "# format()함수와 {}를 함께 사용해 서식 저장\n",
        "# Format() 함수의 사용\n",
        "print(\"%d %5d %05d\" % (123, 123, 123))\n",
        "print(\"{0:d} {1:5d} {2:05d}\".format(123,123,123)) # 0번째 / 1번째 / 2번째"
      ],
      "metadata": {
        "colab": {
          "base_uri": "https://localhost:8080/"
        },
        "id": "9XjQ_BAhsuBN",
        "outputId": "1cec3a97-22b0-469e-dc5b-19250986f6d6"
      },
      "execution_count": 25,
      "outputs": [
        {
          "output_type": "stream",
          "name": "stdout",
          "text": [
            "123   123 00123\n",
            "123   123 00123\n"
          ]
        }
      ]
    },
    {
      "cell_type": "code",
      "source": [
        "# Format을 사용해 출력 순서 지정\n",
        "print(\"{2:d} {1:d} {0:d}\".format(100,200,300))"
      ],
      "metadata": {
        "colab": {
          "base_uri": "https://localhost:8080/"
        },
        "id": "olmro1AltWhY",
        "outputId": "0ef3e2ff-d148-4472-ec72-e27071aed3c9"
      },
      "execution_count": 26,
      "outputs": [
        {
          "output_type": "stream",
          "name": "stdout",
          "text": [
            "300 200 100\n"
          ]
        }
      ]
    },
    {
      "cell_type": "code",
      "source": [
        "# Format을 사용해 출력 순서 지정\n",
        "print(\"한 행입니다. 또 한 행입니다.\")\n",
        "print(\"한 행입니다. \\n또 한 행입니다.\")"
      ],
      "metadata": {
        "colab": {
          "base_uri": "https://localhost:8080/"
        },
        "id": "4GRST7_StiPc",
        "outputId": "a49900ac-e42e-44e1-de7d-9a8672c9b2a5"
      },
      "execution_count": 28,
      "outputs": [
        {
          "output_type": "stream",
          "name": "stdout",
          "text": [
            "한 행입니다. 또 한 행입니다.\n",
            "한 행입니다. \n",
            "또 한 행입니다.\n"
          ]
        }
      ]
    },
    {
      "cell_type": "markdown",
      "source": [
        "# 이스케이프 문자\n",
        "1) \\n => [Enter]를 누른 효과 / 새로운 줄로 이동\\\n",
        "2) \\t => [Tap]을 누른 효과 / 다음 탭으로 이동\\\n",
        "3) \\b => [Backspace]를 누른 효과 / 뒤로 한 칸 이동\\\n",
        "4) \\\\ => \\출력\\\n",
        "5) \\\\' => '출력\\\n",
        "6) \\\\\" => \"출력"
      ],
      "metadata": {
        "id": "4tNRvzikt3Pm"
      }
    },
    {
      "cell_type": "markdown",
      "source": [],
      "metadata": {
        "id": "L29CTowuucDi"
      }
    },
    {
      "cell_type": "code",
      "source": [
        "print(\"\\n줄바꿈\\n연습\")\n",
        "print(\"\\t탭키\\t연습\")\n",
        "print(\"글자가 \\\" 강조 \\\" 되는 효과1\")\n",
        "print(\"글자가 \\'강조\\' 되는 효과2\")\n",
        "print(\"\\\\\\\\\\\\ 역슬래시 세 개 출력\")\n",
        "print(r\"\\n \\t \\\" \\\\를 그대로 출력\")"
      ],
      "metadata": {
        "colab": {
          "base_uri": "https://localhost:8080/"
        },
        "id": "aby_hVajucE2",
        "outputId": "8eaeb16d-efeb-4830-c49c-36205d41ea28"
      },
      "execution_count": 38,
      "outputs": [
        {
          "output_type": "stream",
          "name": "stdout",
          "text": [
            "\n",
            "줄바꿈\n",
            "연습\n",
            "\t탭키\t연습\n",
            "글자가 \" 강조 \" 되는 효과1\n",
            "글자가 '강조' 되는 효과2\n",
            "\\\\\\ 역슬래시 세 개 출력\n",
            "\\n \\t \\\" \\\\를 그대로 출력\n"
          ]
        }
      ]
    },
    {
      "cell_type": "code",
      "source": [
        "print(\" * \")\n",
        "print(\" ***\")\n",
        "print(\" *****\")\n",
        "print(\" *******\")\n",
        "print(\" *********\")\n",
        "print(\" *******\")\n",
        "print(\" *****\")\n",
        "print(\" *** \")\n",
        "print(\" * \")"
      ],
      "metadata": {
        "colab": {
          "base_uri": "https://localhost:8080/"
        },
        "id": "ZxMalarSvIgQ",
        "outputId": "e7047817-ed99-4a1b-8ea2-38002bd8af65"
      },
      "execution_count": 45,
      "outputs": [
        {
          "output_type": "stream",
          "name": "stdout",
          "text": [
            " * \n",
            " ***\n",
            " *****\n",
            " *******\n",
            " *********\n",
            " *******\n",
            " *****\n",
            " *** \n",
            " * \n"
          ]
        }
      ]
    },
    {
      "cell_type": "code",
      "source": [
        "# Self Study\n",
        "print(\" *********\")\n",
        "print(\" ******* \")\n",
        "print(\" *****\")\n",
        "print(\" *** \")\n",
        "print(\" * \")\n",
        "print(\" *** \")\n",
        "print(\" ***** \")\n",
        "print(\" ******* \")\n",
        "print(\" ********* \")\n"
      ],
      "metadata": {
        "colab": {
          "base_uri": "https://localhost:8080/"
        },
        "id": "Q2Cl6NmGveA-",
        "outputId": "8fc9ed54-8187-4abf-fe0c-b973cd0f51e5"
      },
      "execution_count": 46,
      "outputs": [
        {
          "output_type": "stream",
          "name": "stdout",
          "text": [
            " *********\n",
            " ******* \n",
            " *****\n",
            " *** \n",
            " * \n",
            " *** \n",
            " ***** \n",
            " ******* \n",
            " ********* \n"
          ]
        }
      ]
    }
  ]
}
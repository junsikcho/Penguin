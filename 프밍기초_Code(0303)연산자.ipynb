{
  "nbformat": 4,
  "nbformat_minor": 0,
  "metadata": {
    "colab": {
      "provenance": [],
      "authorship_tag": "ABX9TyODUxEkgZf1SUxL0mu2IuQM",
      "include_colab_link": true
    },
    "kernelspec": {
      "name": "python3",
      "display_name": "Python 3"
    },
    "language_info": {
      "name": "python"
    }
  },
  "cells": [
    {
      "cell_type": "markdown",
      "metadata": {
        "id": "view-in-github",
        "colab_type": "text"
      },
      "source": [
        "<a href=\"https://colab.research.google.com/github/junsikcho/Penguin/blob/main/%ED%94%84%EB%B0%8D%EA%B8%B0%EC%B4%88_Code(0303)%EC%97%B0%EC%82%B0%EC%9E%90.ipynb\" target=\"_parent\"><img src=\"https://colab.research.google.com/assets/colab-badge.svg\" alt=\"Open In Colab\"/></a>"
      ]
    },
    {
      "cell_type": "code",
      "execution_count": 4,
      "metadata": {
        "colab": {
          "base_uri": "https://localhost:8080/"
        },
        "id": "0uknzOadLLUT",
        "outputId": "a67fe145-ea3c-496d-d9fe-94089661929e"
      },
      "outputs": [
        {
          "output_type": "execute_result",
          "data": {
            "text/plain": [
              "0"
            ]
          },
          "metadata": {},
          "execution_count": 4
        }
      ],
      "source": [
        "'''\n",
        "비트 연산자 및 연산자 우선순위\n",
        "1) 비트 연산자의 기본 개념을 이해하고 설명할 수 있다\n",
        "2) 연산자 우선순위를 고려하여 정확한 계산을 수행할 수 있다.\n",
        "'''\n",
        "# 논리연산 -> True, False\n",
        "# 비트연산 -> 정수값\n",
        "\n",
        "#비트 연산자의 개념\n",
        "\n",
        "'''\n",
        "-비트 연산자의 종류\n",
        "& : 비트 논리곱(and) 둘 다 1이면 1\n",
        "ㅣ : 비트 논리합(or) 둘 중 하나만 1이면 1\n",
        "^ : 비트 논리적배타합(xor) 둘이 같으면 0, 다르면 1\n",
        "~ : 비트 부정 1은 0으로 , 0을 1로 변경\n",
        "<< : 비트 이동(왼쪽) 비트를 왼쪽으로 시프트\n",
        ">> : 비트 이동(오른쪽) 비트를 오른쪽으로 시프트\n",
        "\n",
        "1) 1234&456은 123의 2진수인 11110112와 2진수인 1110010002의 비트 논리곱(&) 결과인 10010002가 되므로 10진수로 72가 나옴\n",
        "2) 두 수의 자릿수가 다를 때는 빈 자리에 0을 채운 후 비트 논리곱 연산\n",
        "3) 0과 비트 논리곱을 수행하면 어떤 숫자이든 무조건 0이 됨.\n",
        "'''\n",
        "10 & 7 #비트 연산 0000 1010 => 10 , 0000 0111 => 7\n",
        "123 & 456\n",
        "0XFFFF & 0X0000"
      ]
    },
    {
      "cell_type": "code",
      "source": [
        "10 & 7 #비트 연산 0000 1010 => 10 , 0000 0111 => 7"
      ],
      "metadata": {
        "colab": {
          "base_uri": "https://localhost:8080/"
        },
        "id": "LYxAbPnBNX9P",
        "outputId": "8729e3fa-e993-4e10-b425-f9a0390ff078"
      },
      "execution_count": 5,
      "outputs": [
        {
          "output_type": "execute_result",
          "data": {
            "text/plain": [
              "2"
            ]
          },
          "metadata": {},
          "execution_count": 5
        }
      ]
    },
    {
      "cell_type": "code",
      "source": [
        "123 & 456"
      ],
      "metadata": {
        "colab": {
          "base_uri": "https://localhost:8080/"
        },
        "id": "RcSFVbgkNbp8",
        "outputId": "9c07fd3d-4846-40e3-f439-ae4bf058e418"
      },
      "execution_count": 3,
      "outputs": [
        {
          "output_type": "execute_result",
          "data": {
            "text/plain": [
              "72"
            ]
          },
          "metadata": {},
          "execution_count": 3
        }
      ]
    },
    {
      "cell_type": "code",
      "source": [
        "0xFFFF & 0X0000"
      ],
      "metadata": {
        "colab": {
          "base_uri": "https://localhost:8080/"
        },
        "id": "KTpGnUtlNoYT",
        "outputId": "498bf757-b0c5-4e55-a8aa-2cf09176af7c"
      },
      "execution_count": 6,
      "outputs": [
        {
          "output_type": "execute_result",
          "data": {
            "text/plain": [
              "0"
            ]
          },
          "metadata": {},
          "execution_count": 6
        }
      ]
    },
    {
      "cell_type": "code",
      "source": [
        "'''\n",
        "비트 논리곱과 비트 논리합 연산자\n",
        "1) 10|7과 123|456은 주어진 수의 비트 논리합 연산 수행한 것\n",
        "2) OxFFFF|0x0000을 보면, OxFFFF와 0000의 비트 논리합은 0xFFFF가 됨.\n",
        "-그러므로 16진수 FFFF16는 10진수 65535가 됨\n",
        "-여기서 16진수로 출력 원하면 hex(0xFFFF | 0x0000)함수 사용\n",
        "EX. 0xFFFF => 1111 1111 1111 1111\n",
        "0x0000 => 0000 0000 0000 0000\n",
        "0xFFFF | 0x0000 => 2^16-1\n",
        "'''"
      ],
      "metadata": {
        "id": "I1Q5vmFyNzKx"
      },
      "execution_count": null,
      "outputs": []
    },
    {
      "cell_type": "code",
      "source": [
        "10 | 7"
      ],
      "metadata": {
        "colab": {
          "base_uri": "https://localhost:8080/"
        },
        "id": "Q6vxNYybOvQn",
        "outputId": "725b7b95-7e3a-462e-a16b-c954c8907d84"
      },
      "execution_count": 11,
      "outputs": [
        {
          "output_type": "execute_result",
          "data": {
            "text/plain": [
              "15"
            ]
          },
          "metadata": {},
          "execution_count": 11
        }
      ]
    },
    {
      "cell_type": "code",
      "source": [
        "123 | 456"
      ],
      "metadata": {
        "colab": {
          "base_uri": "https://localhost:8080/"
        },
        "id": "tKBGQX0TOxZV",
        "outputId": "8f019be7-1a79-4052-e58c-215b244f8ae7"
      },
      "execution_count": 13,
      "outputs": [
        {
          "output_type": "execute_result",
          "data": {
            "text/plain": [
              "507"
            ]
          },
          "metadata": {},
          "execution_count": 13
        }
      ]
    },
    {
      "cell_type": "code",
      "source": [
        "0xFFFF | 0x0000"
      ],
      "metadata": {
        "colab": {
          "base_uri": "https://localhost:8080/"
        },
        "id": "bnL2HXajOzNj",
        "outputId": "89786a09-7f07-4c33-8dd4-02e7c316472b"
      },
      "execution_count": 14,
      "outputs": [
        {
          "output_type": "execute_result",
          "data": {
            "text/plain": [
              "65535"
            ]
          },
          "metadata": {},
          "execution_count": 14
        }
      ]
    },
    {
      "cell_type": "markdown",
      "source": [
        "# 비트 배타적 논리합 ( 두 값이 다르면 1, 같으면 0 ) junsik"
      ],
      "metadata": {
        "id": "Diz4_qWNPnme"
      }
    },
    {
      "cell_type": "code",
      "source": [
        "10 ^ 7"
      ],
      "metadata": {
        "colab": {
          "base_uri": "https://localhost:8080/"
        },
        "id": "Ik3Ee72pPsZD",
        "outputId": "1799a8a2-c322-4322-eb1f-7b35532eee11"
      },
      "execution_count": 16,
      "outputs": [
        {
          "output_type": "execute_result",
          "data": {
            "text/plain": [
              "13"
            ]
          },
          "metadata": {},
          "execution_count": 16
        }
      ]
    },
    {
      "cell_type": "code",
      "source": [
        "123 ^ 456"
      ],
      "metadata": {
        "colab": {
          "base_uri": "https://localhost:8080/"
        },
        "id": "otBBM9LnPwCp",
        "outputId": "4269c2f9-fe76-4199-e3f3-5c149ad06910"
      },
      "execution_count": 17,
      "outputs": [
        {
          "output_type": "execute_result",
          "data": {
            "text/plain": [
              "435"
            ]
          },
          "metadata": {},
          "execution_count": 17
        }
      ]
    },
    {
      "cell_type": "code",
      "source": [
        "0xFFFF ^ 0x0000"
      ],
      "metadata": {
        "colab": {
          "base_uri": "https://localhost:8080/"
        },
        "id": "9R5Psg9mPxXl",
        "outputId": "d35fae4a-692c-49f6-de05-f387ef5a093e"
      },
      "execution_count": 18,
      "outputs": [
        {
          "output_type": "execute_result",
          "data": {
            "text/plain": [
              "65535"
            ]
          },
          "metadata": {},
          "execution_count": 18
        }
      ]
    },
    {
      "cell_type": "markdown",
      "source": [
        "비트 연산 활용 예제"
      ],
      "metadata": {
        "id": "UFo3eWkYQA3z"
      }
    },
    {
      "cell_type": "code",
      "source": [
        "a = ord('A')\n",
        "mask = 0x0F\n",
        "\n",
        "print(\"%x & %x = %x\" % (a, mask, a & mask))\n",
        "print(\"%x | %x = %x\" % (a, mask, a | mask))\n",
        "\n",
        "mask = ord('a') - ord('A')\n",
        "\n",
        "b = a ^ mask\n",
        "print(\"%c ^ %d = %c\" % (a, mask, b))\n",
        "a = b ^ mask\n",
        "print(\"%c ^ %d = %c\" % (b, mask, a))"
      ],
      "metadata": {
        "colab": {
          "base_uri": "https://localhost:8080/"
        },
        "id": "5CnRKGJkQE7B",
        "outputId": "1555d2a9-b250-4b79-f631-d396c7f2f480"
      },
      "execution_count": 19,
      "outputs": [
        {
          "output_type": "stream",
          "name": "stdout",
          "text": [
            "41 & f = 1\n",
            "41 | f = 4f\n",
            "A ^ 32 = a\n",
            "a ^ 32 = A\n"
          ]
        }
      ]
    },
    {
      "cell_type": "markdown",
      "source": [
        "시프트 연산자 \\\n",
        "1) 왼쪽 시프트 연산자 => 왼쪽으로 시프트할 때마다 2^n을 곱한 효과\\\n",
        "2) 오른쪽 시프트 연산자 => 오른쪽으로 시프트할 때마다 2^n을 나눈 효과"
      ],
      "metadata": {
        "id": "n-6N7IRDRMkg"
      }
    },
    {
      "cell_type": "code",
      "source": [
        "a = 10\n",
        "a << 1"
      ],
      "metadata": {
        "colab": {
          "base_uri": "https://localhost:8080/"
        },
        "id": "ypor2jw0Rs7-",
        "outputId": "d872797c-9cac-4751-a115-55c45af970f7"
      },
      "execution_count": 28,
      "outputs": [
        {
          "output_type": "execute_result",
          "data": {
            "text/plain": [
              "20"
            ]
          },
          "metadata": {},
          "execution_count": 28
        }
      ]
    },
    {
      "cell_type": "code",
      "source": [
        "a<<2"
      ],
      "metadata": {
        "colab": {
          "base_uri": "https://localhost:8080/"
        },
        "id": "6yG1vtsZR-4f",
        "outputId": "dddac613-ba67-4c1c-cae4-20a7c82f0007"
      },
      "execution_count": 25,
      "outputs": [
        {
          "output_type": "execute_result",
          "data": {
            "text/plain": [
              "40"
            ]
          },
          "metadata": {},
          "execution_count": 25
        }
      ]
    },
    {
      "cell_type": "code",
      "source": [
        "a<<3"
      ],
      "metadata": {
        "colab": {
          "base_uri": "https://localhost:8080/"
        },
        "id": "cCSAHmV_SBwI",
        "outputId": "dc3370fe-2484-4add-f623-a0afe7101ca3"
      },
      "execution_count": 30,
      "outputs": [
        {
          "output_type": "execute_result",
          "data": {
            "text/plain": [
              "80"
            ]
          },
          "metadata": {},
          "execution_count": 30
        }
      ]
    },
    {
      "cell_type": "code",
      "source": [
        "a<<4"
      ],
      "metadata": {
        "colab": {
          "base_uri": "https://localhost:8080/"
        },
        "id": "0UtwcTVbSH81",
        "outputId": "3881be05-a099-4355-fb5b-8a4e9200fa12"
      },
      "execution_count": 31,
      "outputs": [
        {
          "output_type": "execute_result",
          "data": {
            "text/plain": [
              "160"
            ]
          },
          "metadata": {},
          "execution_count": 31
        }
      ]
    },
    {
      "cell_type": "code",
      "source": [
        "a = 10\n",
        "a >> 1"
      ],
      "metadata": {
        "colab": {
          "base_uri": "https://localhost:8080/"
        },
        "id": "BptpJvdoSLTA",
        "outputId": "0ec64639-2b0a-4914-87d8-81d937d3fc92"
      },
      "execution_count": 32,
      "outputs": [
        {
          "output_type": "execute_result",
          "data": {
            "text/plain": [
              "5"
            ]
          },
          "metadata": {},
          "execution_count": 32
        }
      ]
    },
    {
      "cell_type": "code",
      "source": [
        "a >> 2"
      ],
      "metadata": {
        "colab": {
          "base_uri": "https://localhost:8080/"
        },
        "id": "Jqvqc9mqSNZO",
        "outputId": "0164f062-0506-43ec-a0ea-8540968b1769"
      },
      "execution_count": 33,
      "outputs": [
        {
          "output_type": "execute_result",
          "data": {
            "text/plain": [
              "2"
            ]
          },
          "metadata": {},
          "execution_count": 33
        }
      ]
    },
    {
      "cell_type": "code",
      "source": [
        "a >> 3"
      ],
      "metadata": {
        "colab": {
          "base_uri": "https://localhost:8080/"
        },
        "id": "2Xe80QKsSOid",
        "outputId": "0ea74b47-4fe8-41b5-853c-e614d3a505e6"
      },
      "execution_count": 34,
      "outputs": [
        {
          "output_type": "execute_result",
          "data": {
            "text/plain": [
              "1"
            ]
          },
          "metadata": {},
          "execution_count": 34
        }
      ]
    },
    {
      "cell_type": "code",
      "source": [
        "a >> 4"
      ],
      "metadata": {
        "colab": {
          "base_uri": "https://localhost:8080/"
        },
        "id": "BV9NzkfvSQjO",
        "outputId": "a0189f55-b1b6-41d2-d2d7-df033ca97a5c"
      },
      "execution_count": 36,
      "outputs": [
        {
          "output_type": "execute_result",
          "data": {
            "text/plain": [
              "0"
            ]
          },
          "metadata": {},
          "execution_count": 36
        }
      ]
    },
    {
      "cell_type": "code",
      "source": [
        "a = 100\n",
        "result = 0\n",
        "i = 0\n",
        "\n",
        "for i in range(1, 5) : # for문은 반복을 위한 것\n",
        "  result = a << i # 4회(i값 1~4)반복\n",
        "  print(\"%d << %d = %d\" % (a, i, result))\n",
        "\n",
        "for i in range(1, 5) : # 100//21=50, 100//22=25 등이 출력\n",
        "  result = a >> i\n",
        "  print(\"%d >> %d = %d\" % (a, i, result))"
      ],
      "metadata": {
        "colab": {
          "base_uri": "https://localhost:8080/"
        },
        "id": "FNc_zPQMSW2J",
        "outputId": "bcee55c0-aeaf-4055-f46d-4b7a5276e587"
      },
      "execution_count": 37,
      "outputs": [
        {
          "output_type": "stream",
          "name": "stdout",
          "text": [
            "100 << 1 = 200\n",
            "100 << 2 = 400\n",
            "100 << 3 = 800\n",
            "100 << 4 = 1600\n",
            "100 >> 1 = 50\n",
            "100 >> 2 = 25\n",
            "100 >> 3 = 12\n",
            "100 >> 4 = 6\n"
          ]
        }
      ]
    },
    {
      "cell_type": "markdown",
      "source": [
        "연산자 우선순위"
      ],
      "metadata": {
        "id": "aO6rVyDbSvDF"
      }
    },
    {
      "cell_type": "code",
      "source": [
        "'''\n",
        "1. ()[]{} => 괄호, 리스트, 딕셔너리, 세트 등\n",
        "2. ** => 지수\n",
        "3. +-~ => 단항 연산자\n",
        "4. */%// , +- => 산술 연산자\n",
        "5. <<>> => 비트 시프트 연산자\n",
        "6. & => 비트 논리곱\n",
        "7. ^ => 비트 배타적 논리합\n",
        "8. | => 비트 논리합\n",
        "9. < > >= <= 관계 연산자\n",
        "10. == != 동등 연산자\n",
        "11. 대입 연산자\n",
        "12. not and or 논리 연산자\n",
        "13. if~else 비교식\n",
        "'''"
      ],
      "metadata": {
        "id": "kBHmZ2X8SykM"
      },
      "execution_count": null,
      "outputs": []
    }
  ]
}
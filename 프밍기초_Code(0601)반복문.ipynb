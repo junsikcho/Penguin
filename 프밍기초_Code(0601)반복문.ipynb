{
  "nbformat": 4,
  "nbformat_minor": 0,
  "metadata": {
    "colab": {
      "provenance": [],
      "authorship_tag": "ABX9TyP0ajqkRw2a/8OKlGtKgZYS",
      "include_colab_link": true
    },
    "kernelspec": {
      "name": "python3",
      "display_name": "Python 3"
    },
    "language_info": {
      "name": "python"
    }
  },
  "cells": [
    {
      "cell_type": "markdown",
      "metadata": {
        "id": "view-in-github",
        "colab_type": "text"
      },
      "source": [
        "<a href=\"https://colab.research.google.com/github/junsikcho/Programming-Basics/blob/main/%ED%94%84%EB%B0%8D%EA%B8%B0%EC%B4%88_Code(0601)%EB%B0%98%EB%B3%B5%EB%AC%B8.ipynb\" target=\"_parent\"><img src=\"https://colab.research.google.com/assets/colab-badge.svg\" alt=\"Open In Colab\"/></a>"
      ]
    },
    {
      "cell_type": "markdown",
      "source": [
        "'''\n",
        "for문\n",
        "- for문의 기본 구조와 사용법을 이해하고, 이를 통해 간단한 반복 작업을 수행하는 프로그램을 작성할 수 있다.\n",
        "- range 함수를 활용하여 반복 횟수를 설정하고, 반복문의 흐름을 조절할 수 있다.\n",
        "'''\n"
      ],
      "metadata": {
        "id": "bhUgnMoKmI8K"
      }
    },
    {
      "cell_type": "code",
      "source": [
        "\n",
        "# 기본 for문\n",
        "\n",
        "# 반복문의 개념과 필요성\n",
        "# 예 : 반복문을 사용 않는 경우\n",
        "\n",
        "print(\"안녕하세요? for 문을 공부 중입니다. ^^\")\n",
        "print(\"안녕하세요? for 문을 공부 중입니다. ^^\")\n",
        "print(\"안녕하세요? for 문을 공부 중입니다. ^^\")"
      ],
      "metadata": {
        "colab": {
          "base_uri": "https://localhost:8080/"
        },
        "id": "oAcWOGz_nOHH",
        "outputId": "5477090d-2386-43a1-ee4b-53098a39e09c"
      },
      "execution_count": 3,
      "outputs": [
        {
          "output_type": "stream",
          "name": "stdout",
          "text": [
            "안녕하세요? for 문을 공부 중입니다. ^^\n",
            "안녕하세요? for 문을 공부 중입니다. ^^\n",
            "안녕하세요? for 문을 공부 중입니다. ^^\n"
          ]
        }
      ]
    },
    {
      "cell_type": "code",
      "source": [
        "# 기본 for문\n",
        "\n",
        "# 기본 형식\n",
        "# range(3)은 range(0, 3,1)과 같음\n",
        "for 변수 in range(시작값, 끝값 + 1, 증가값) :\n",
        "  # 이부분을 반복"
      ],
      "metadata": {
        "id": "LMSBxC6OnPNn"
      },
      "execution_count": null,
      "outputs": []
    },
    {
      "cell_type": "code",
      "source": [
        "for i in range(0, 3, 1) :\n",
        "  print(\"안녕하세요? for 문을 공부 중입니다.^^\")"
      ],
      "metadata": {
        "colab": {
          "base_uri": "https://localhost:8080/"
        },
        "id": "lb1GWD4GoKEL",
        "outputId": "b8bc8a9d-65aa-4bb1-c5b1-48b93118ba8c"
      },
      "execution_count": 6,
      "outputs": [
        {
          "output_type": "stream",
          "name": "stdout",
          "text": [
            "안녕하세요? for 문을 공부 중입니다.^^\n",
            "안녕하세요? for 문을 공부 중입니다.^^\n",
            "안녕하세요? for 문을 공부 중입니다.^^\n"
          ]
        }
      ]
    },
    {
      "cell_type": "code",
      "source": [
        "for i in [0, 1, 2] :\n",
        "  print(\"안녕하세요? for 문을 공부 중입니다.^^\")"
      ],
      "metadata": {
        "colab": {
          "base_uri": "https://localhost:8080/"
        },
        "id": "B3eIVKlioM99",
        "outputId": "94a6158c-d077-4ed4-818e-a514f39374f8"
      },
      "execution_count": 7,
      "outputs": [
        {
          "output_type": "stream",
          "name": "stdout",
          "text": [
            "안녕하세요? for 문을 공부 중입니다.^^\n",
            "안녕하세요? for 문을 공부 중입니다.^^\n",
            "안녕하세요? for 문을 공부 중입니다.^^\n"
          ]
        }
      ]
    },
    {
      "cell_type": "code",
      "source": [
        "# i값 코드 내부 사용\n",
        "for i in range(0, 3, 1) :\n",
        "  print(\"%d : 안녕하세요? for 문을 공부 중입니다. ^^\" %i)"
      ],
      "metadata": {
        "colab": {
          "base_uri": "https://localhost:8080/"
        },
        "id": "fcI8fLrYoazR",
        "outputId": "ebfcff82-ebf3-4473-b436-d9c7126b42f6"
      },
      "execution_count": 8,
      "outputs": [
        {
          "output_type": "stream",
          "name": "stdout",
          "text": [
            "0 : 안녕하세요? for 문을 공부 중입니다. ^^\n",
            "1 : 안녕하세요? for 문을 공부 중입니다. ^^\n",
            "2 : 안녕하세요? for 문을 공부 중입니다. ^^\n"
          ]
        }
      ]
    },
    {
      "cell_type": "code",
      "source": [
        "# TIP) *_ : i를 사용하지 않으려면 i대신 _(언더바) 사용\n",
        "\n",
        "for _ in range(0, 3, 1) :\n",
        "  print(\"안녕하세요? for 문을 공부 중입니다. ^^\")"
      ],
      "metadata": {
        "colab": {
          "base_uri": "https://localhost:8080/"
        },
        "id": "lTEloS8cor2l",
        "outputId": "97a2aadc-8e49-4978-9cd1-4d6ebcb70f6b"
      },
      "execution_count": 9,
      "outputs": [
        {
          "output_type": "stream",
          "name": "stdout",
          "text": [
            "안녕하세요? for 문을 공부 중입니다. ^^\n",
            "안녕하세요? for 문을 공부 중입니다. ^^\n",
            "안녕하세요? for 문을 공부 중입니다. ^^\n"
          ]
        }
      ]
    },
    {
      "cell_type": "code",
      "source": [
        "# 예 : range()함수의 시작값 2, i값을 1씩 줄여(0이 될 때까지) print()함수 3번 실행\n",
        "for i in range(2, -1, -1) :\n",
        "  print(\"%d : 안녕하세요? for 문을 공부 중입니다. ^^\" %i)"
      ],
      "metadata": {
        "colab": {
          "base_uri": "https://localhost:8080/"
        },
        "id": "ZS61JFwto5Yc",
        "outputId": "93a5d9f1-7317-4424-b930-270bf2e03aae"
      },
      "execution_count": 10,
      "outputs": [
        {
          "output_type": "stream",
          "name": "stdout",
          "text": [
            "2 : 안녕하세요? for 문을 공부 중입니다. ^^\n",
            "1 : 안녕하세요? for 문을 공부 중입니다. ^^\n",
            "0 : 안녕하세요? for 문을 공부 중입니다. ^^\n"
          ]
        }
      ]
    },
    {
      "cell_type": "code",
      "source": [
        "# 예 : 1~5의 숫자들을 차례로 출력\n",
        "for i in range(1, 6, 1) :\n",
        "  print(\"%d\" %i, end = \" \")"
      ],
      "metadata": {
        "colab": {
          "base_uri": "https://localhost:8080/"
        },
        "id": "PlY_rWe-pIb3",
        "outputId": "2f01338c-d85d-412a-aabe-3b91b9f9cb3b"
      },
      "execution_count": 12,
      "outputs": [
        {
          "output_type": "stream",
          "name": "stdout",
          "text": [
            "1 2 3 4 5 "
          ]
        }
      ]
    },
    {
      "cell_type": "markdown",
      "source": [
        "# for 문을 활용한 합계구하기"
      ],
      "metadata": {
        "id": "mcHbQ0i7pYRO"
      }
    },
    {
      "cell_type": "code",
      "source": [
        "# for문을 배우기 전의 방식으로 1 ~1 10 의 합계를 구하는 프로그램 만들기\n",
        "\n",
        "hap = 1 + 2 + 3 + 4 + 5 + 6 + 7 + 8 + 9 + 10\n",
        "print(\"1에서 10까지의 합계 : %d\" % hap)"
      ],
      "metadata": {
        "colab": {
          "base_uri": "https://localhost:8080/"
        },
        "id": "8sJS5abgpcxq",
        "outputId": "3bb9fb05-29ee-495a-ba89-f8bbd36ec1f5"
      },
      "execution_count": 13,
      "outputs": [
        {
          "output_type": "stream",
          "name": "stdout",
          "text": [
            "1에서 10까지의 합계 : 55\n"
          ]
        }
      ]
    },
    {
      "cell_type": "code",
      "source": [
        "# for 문 작성 내용\n",
        "# 1부터 10까지 변할 i 변수 준비\n",
        "\n",
        "for i 변수가 1을 시작으로 10까지 1씩 증가\n",
        "    hap값에 i값을 더해 줌\n",
        "\n",
        "hap값 출력"
      ],
      "metadata": {
        "id": "RxxQVj7DqL-r"
      },
      "execution_count": null,
      "outputs": []
    },
    {
      "cell_type": "code",
      "source": [
        "i = 0\n",
        "hap = 0\n",
        "# 시작 전 항상 변수의 값을 초기화 시키고 하기\n",
        "\n",
        "for i in range(1, 11, 1) :\n",
        "  hap = hap + i\n",
        "\n",
        "print(\"1에서 10까지의 합계 : %d\" % hap)"
      ],
      "metadata": {
        "colab": {
          "base_uri": "https://localhost:8080/"
        },
        "id": "FYNDv05mqcYH",
        "outputId": "d0d49587-f1a1-4406-9972-add134dd2123"
      },
      "execution_count": 16,
      "outputs": [
        {
          "output_type": "stream",
          "name": "stdout",
          "text": [
            "1에서 10까지의 합계 : 55\n"
          ]
        }
      ]
    },
    {
      "cell_type": "code",
      "source": [
        "# 예 : 500과 1000 사이에 있는 홀수의 합계\n",
        "i = 0;\n",
        "hap = 0;\n",
        "\n",
        "for i in range(501, 1001, 2) :\n",
        "  hap = hap + i\n",
        "\n",
        "print(\"500과 1000 사이에 있는 홀수의 합계 : %d\" % hap)"
      ],
      "metadata": {
        "colab": {
          "base_uri": "https://localhost:8080/"
        },
        "id": "k9wBTFeJq8OT",
        "outputId": "fc9f1d04-6b6b-4e76-875c-fa88031edbe1"
      },
      "execution_count": 17,
      "outputs": [
        {
          "output_type": "stream",
          "name": "stdout",
          "text": [
            "500과 1000 사이에 있는 홀수의 합계 : 187500\n"
          ]
        }
      ]
    },
    {
      "cell_type": "code",
      "source": [
        "\n",
        "# SELF STUDY 6-1 위 코드를 0과 100 사이에 있는 7의 배수 합계를 구하도록 수정해 보자.\n",
        "i = 0\n",
        "hap = 0\n",
        "\n",
        "for i in range(0, 101, 7) :\n",
        "  hap = hap + i # 이 줄 코드는 hap += i 로 작성해도 됨.\n",
        "print(\"0과 100사이에 있는 7의 배수의 합계 : %d \" % hap)"
      ],
      "metadata": {
        "colab": {
          "base_uri": "https://localhost:8080/"
        },
        "id": "hRB8TVUprTta",
        "outputId": "7daa3a76-b42a-4a78-b694-f414df659738"
      },
      "execution_count": 24,
      "outputs": [
        {
          "output_type": "stream",
          "name": "stdout",
          "text": [
            "0과 100사이에 있는 7의 배수의 합계 : 735 \n"
          ]
        }
      ]
    },
    {
      "cell_type": "code",
      "source": [
        "# 키보드로 입력한 값까지 합계 구하기\n",
        "\n",
        "# input()함수로 1부터 사용자가 입력한 수까지 합계 구하는 프로그램\n",
        "\n",
        "i = 0\n",
        "hap = 0\n",
        "num = 0 # 입력한 값 저장할 num 변수 선언\n",
        "\n",
        "num = int(input(\"값을 입력하세요 : \")) # input()함수로 사용자가 입력한 숫자를 num에 대입\n",
        "\n",
        "for i in range(1, num + 1, 1) : # range(1, 입력숫자+1, 1)을 사용해 1부터 사용자가 입력한 숫자(num)까지 1씩 증가하면서 for문 반복\n",
        "  hap = hap + i\n",
        "\n",
        "print(\"1에서 %d까지의 합계 : %d\" % (num, hap)) # 사용자가 입력한 숫자까지 합계를 구해 사용자가 입력한 숫자와 함계 출력"
      ],
      "metadata": {
        "colab": {
          "base_uri": "https://localhost:8080/"
        },
        "id": "iLoj8gW4sXCR",
        "outputId": "66a0e176-acd8-4500-83f6-7b64c0dd1223"
      },
      "execution_count": 25,
      "outputs": [
        {
          "output_type": "stream",
          "name": "stdout",
          "text": [
            "값을 입력하세요 : 1510\n",
            "1에서 1510까지의 합계 : 1140805\n"
          ]
        }
      ]
    },
    {
      "cell_type": "code",
      "source": [
        "# 시작값과 끝값, 증가값까지 사용자 입력\n",
        "\n",
        "i = 0\n",
        "hap = 0\n",
        "num1, num2, num3 = 0, 0, 0\n",
        "\n",
        "num1 = int((input(\"시작값을 입력하세요 : \")))\n",
        "num2 = int((input(\"끝값을 입력하세요 : \")))\n",
        "num3 = int((input(\"증가값을 입력하세요 : \")))\n",
        "\n",
        "for i in range(num1, num2 +1, num3) :\n",
        "  hap = hap + i\n",
        "\n",
        "print(\"%d에서 %d까지 %d씩 증가시킨 값의 합계 : %d\" % (num1, num2, num3, hap ))"
      ],
      "metadata": {
        "colab": {
          "base_uri": "https://localhost:8080/"
        },
        "id": "tLAedyljuNaH",
        "outputId": "6d8eda4f-bcef-4f49-863a-ef6f1c5d7c83"
      },
      "execution_count": 26,
      "outputs": [
        {
          "output_type": "stream",
          "name": "stdout",
          "text": [
            "시작값을 입력하세요 : 2\n",
            "끝값을 입력하세요 : 300\n",
            "증가값을 입력하세요 : 3\n",
            "2에서 300까지 3씩 증가시킨 값의 합계 : 15050\n"
          ]
        }
      ]
    },
    {
      "cell_type": "code",
      "source": [
        "# 사용자가 입력한 숫자의 단에서 구구단을 출력\n",
        "\n",
        "i = 0\n",
        "dan = 0 # 출력하려는 단을 입력받을 변수 선언\n",
        "\n",
        "dan = int(input(\"단을 입력하세요 : \"))\n",
        "\n",
        "for i in range(1, 10, 1) : # i는 1에서 9까지 증가\n",
        "  print(\"%d X %d = %2d\" % (dan, i, dan * i))"
      ],
      "metadata": {
        "colab": {
          "base_uri": "https://localhost:8080/"
        },
        "id": "cvRwIdxOuwEZ",
        "outputId": "dde52035-6206-4ac3-9ce8-5b74bdb1218a"
      },
      "execution_count": 30,
      "outputs": [
        {
          "output_type": "stream",
          "name": "stdout",
          "text": [
            "단을 입력하세요 : 7\n",
            "7 X 1 =  7\n",
            "7 X 2 = 14\n",
            "7 X 3 = 21\n",
            "7 X 4 = 28\n",
            "7 X 5 = 35\n",
            "7 X 6 = 42\n",
            "7 X 7 = 49\n",
            "7 X 8 = 56\n",
            "7 X 9 = 63\n"
          ]
        }
      ]
    },
    {
      "cell_type": "code",
      "source": [
        "# 사용자가 입력한 숫자의 단에서 구구단을 출력\n",
        "\n",
        "# SELF STUDY 입력한 단을 거꾸로 출력하도록 해보자.\n",
        "\n",
        "i = 0\n",
        "dan = 0\n",
        "\n",
        "dan = int(input(\"단을 입력하세요 : \"))\n",
        "\n",
        "for i in range(9, 0, -1) :\n",
        "  print(\"%d X %d = %2d\" % (dan, i, dan * i))"
      ],
      "metadata": {
        "colab": {
          "base_uri": "https://localhost:8080/"
        },
        "id": "Css2CRX1vU3D",
        "outputId": "056ed5ce-c7ff-4d98-d2db-1c96ceb19bf8"
      },
      "execution_count": 31,
      "outputs": [
        {
          "output_type": "stream",
          "name": "stdout",
          "text": [
            "단을 입력하세요 : 7\n",
            "7 X 9 = 63\n",
            "7 X 8 = 56\n",
            "7 X 7 = 49\n",
            "7 X 6 = 42\n",
            "7 X 5 = 35\n",
            "7 X 4 = 28\n",
            "7 X 3 = 21\n",
            "7 X 2 = 14\n",
            "7 X 1 =  7\n"
          ]
        }
      ]
    }
  ]
}
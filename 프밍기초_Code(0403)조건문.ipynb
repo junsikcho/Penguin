{
  "nbformat": 4,
  "nbformat_minor": 0,
  "metadata": {
    "colab": {
      "provenance": [],
      "authorship_tag": "ABX9TyO3Ya8ssin7MZr5TGM3v8s3",
      "include_colab_link": true
    },
    "kernelspec": {
      "name": "python3",
      "display_name": "Python 3"
    },
    "language_info": {
      "name": "python"
    }
  },
  "cells": [
    {
      "cell_type": "markdown",
      "metadata": {
        "id": "view-in-github",
        "colab_type": "text"
      },
      "source": [
        "<a href=\"https://colab.research.google.com/github/junsikcho/Penguin/blob/main/%ED%94%84%EB%B0%8D%EA%B8%B0%EC%B4%88_Code(0403)%EC%A1%B0%EA%B1%B4%EB%AC%B8.ipynb\" target=\"_parent\"><img src=\"https://colab.research.google.com/assets/colab-badge.svg\" alt=\"Open In Colab\"/></a>"
      ]
    },
    {
      "cell_type": "markdown",
      "source": [
        "if문 응용\\\n",
        "학습 목표\\\n",
        "1) if문을 다양한 상황에 응용하여 사용할 수 있다.\\\n",
        "2) 파이썬의 if-elif-else 구문을 이용해 여러 조건을 처리하는 방법을 학습한다.\\\n",
        "3) if문을 활용한 실습을 통해 실용적인 프로그램을 작성하는 능력을 기른다.\n"
      ],
      "metadata": {
        "id": "P-5sdiAtgqSW"
      }
    },
    {
      "cell_type": "markdown",
      "source": [
        "리스트(List) : 데이터 여러 개를 한곳에 담아 놓은 것\\\n",
        "방법 : 대괄호 []로 묶고 그 안에 필요한 것들을 한꺼번에 넣음"
      ],
      "metadata": {
        "id": "XjxTCFyChYmt"
      }
    },
    {
      "cell_type": "code",
      "source": [
        "# 예) fruit 변수에 값 4개를 리스트 하나로 묶어 대입\n",
        "\n",
        "fruit = ['사과', '배', '딸기', '포도']\n",
        "print(fruit)"
      ],
      "metadata": {
        "colab": {
          "base_uri": "https://localhost:8080/"
        },
        "id": "WkhkIrVOiLbW",
        "outputId": "a008ee08-9b51-48ff-de4b-e74f2410712e"
      },
      "execution_count": 1,
      "outputs": [
        {
          "output_type": "stream",
          "name": "stdout",
          "text": [
            "['사과', '배', '딸기', '포도']\n"
          ]
        }
      ]
    },
    {
      "cell_type": "code",
      "source": [
        "# 추가하는 방법\n",
        "fruit.append('귤')\n",
        "print(fruit)"
      ],
      "metadata": {
        "colab": {
          "base_uri": "https://localhost:8080/"
        },
        "id": "GOeojYWiidKt",
        "outputId": "c1938e4c-3c7c-4fbc-e24e-6ff62e812d7c"
      },
      "execution_count": 2,
      "outputs": [
        {
          "output_type": "stream",
          "name": "stdout",
          "text": [
            "['사과', '배', '딸기', '포도', '귤']\n"
          ]
        }
      ]
    },
    {
      "cell_type": "code",
      "source": [
        "# if 항목 in 리스트 (리스트에 해당 항목이 있다면 True를 반환)\n",
        "if '딸기' in fruit:\n",
        "  print('딸기가 있네요.^^')"
      ],
      "metadata": {
        "colab": {
          "base_uri": "https://localhost:8080/"
        },
        "id": "EnXNz80oilip",
        "outputId": "44190f46-69e1-47fd-e823-31a6eeb6cda5"
      },
      "execution_count": 3,
      "outputs": [
        {
          "output_type": "stream",
          "name": "stdout",
          "text": [
            "딸기가 있네요.^^\n"
          ]
        }
      ]
    },
    {
      "cell_type": "code",
      "source": [
        "# 예) 0부터 9까지 숫자 중에서 리스트 안에 없는 숫자 찾기\n",
        "\n",
        "import random\n",
        "\n",
        "numbers = []\n",
        "for num in range(0, 10) :\n",
        "  numbers.append(random.randint(0, 10))\n",
        "\n",
        "print(\"생성된 리스트\", numbers)\n",
        "\n",
        "for num in range(0,10):\n",
        "  if num not in numbers:\n",
        "    print(\"숫자 %d는(은) 리스트에 없네요.\" %num)"
      ],
      "metadata": {
        "colab": {
          "base_uri": "https://localhost:8080/"
        },
        "id": "X9cOHBkQiwfN",
        "outputId": "24736d7e-62cc-4e7e-affb-103441803735"
      },
      "execution_count": 5,
      "outputs": [
        {
          "output_type": "stream",
          "name": "stdout",
          "text": [
            "생성된 리스트 [2, 9, 10, 6, 2, 1, 1, 4, 0, 5]\n",
            "숫자 3는(은) 리스트에 없네요.\n",
            "숫자 7는(은) 리스트에 없네요.\n",
            "숫자 8는(은) 리스트에 없네요.\n"
          ]
        }
      ]
    },
    {
      "cell_type": "code",
      "source": [
        "# 프로그램 2\n",
        "## 변수 선언 부분 ##\n",
        "select, answer, numStr, num1, num2 = 0, 0, \"\", 0, 0\n",
        "\n",
        "## 메인 코드 부분 ##\n",
        "select = int(input(\"1. 입력한 수식 계산 2. 두 수 사이의 합계 :\"))\n",
        "\n",
        "if select == 1 :\n",
        "  numStr = input(\" *** 수식을 입력하세요 : \")\n",
        "  answer = eval(numStr)\n",
        "  print(\" %s 결과는 %5.1f 입니다.\" %(numStr, answer))\n",
        "elif select == 2 :\n",
        "  num1 = int(input(\" *** 첫 번째 수를 입력하세요 : \"))\n",
        "  num2 = int(input(\" *** 두 번째 수를 입력하세요 : \"))\n",
        "  for i in range(num1, num2 + 1) :\n",
        "    answer = answer + i\n",
        "  print(\"%d+...+%d는 %d입니다. \" % (num1, num2, answer))\n",
        "else :\n",
        "  print(\"1 또는 2만 입력해야 합니다.\")"
      ],
      "metadata": {
        "colab": {
          "base_uri": "https://localhost:8080/"
        },
        "id": "NEsaQozBjg44",
        "outputId": "12837e4e-0c0c-4988-b27a-c430f9ed1497"
      },
      "execution_count": 6,
      "outputs": [
        {
          "output_type": "stream",
          "name": "stdout",
          "text": [
            "1. 입력한 수식 계산 2. 두 수 사이의 합계 :1\n",
            " *** 수식을 입력하세요 : 3*4/2-5\n",
            " 3*4/2-5 결과는   1.0 입니다.\n"
          ]
        }
      ]
    },
    {
      "cell_type": "code",
      "source": [
        "# 연습1\n",
        "num = int(input(\"정수를 입력하세요 : \"))\n",
        "\n",
        "if num % 5 != 0:\n",
        "    print(\"5의 배수가 아닙니다.\")\n",
        "else:\n",
        "    print(\"5의 배수입니다.\")"
      ],
      "metadata": {
        "colab": {
          "base_uri": "https://localhost:8080/"
        },
        "id": "Q0IMYheKmDsS",
        "outputId": "573455c6-bbb6-4250-e688-39986acff53c"
      },
      "execution_count": 10,
      "outputs": [
        {
          "output_type": "stream",
          "name": "stdout",
          "text": [
            "정수를 입력하세요 : 100\n",
            "5의 배수입니다.\n"
          ]
        }
      ]
    },
    {
      "cell_type": "markdown",
      "source": [
        "연습1 부가 설명\\\n",
        "num % 5:\\\n",
        "\\\n",
        "%는 나머지를 구하는 연산자입니다. 예를 들어 10 % 5는 0이 되고, 11 % 5는 1이 됩니다.\\\n",
        "num % 5는 num을 5로 나누었을 때의 나머지를 구합니다.\\\n",
        "if num % 5 != 0:\\\n",
        "\\\n",
        "num % 5 != 0은 **\"num을 5로 나눴을 때 나머지가 0이 아니면\"**이라는 뜻입니다.\\\n",
        "예를 들어, 11을 입력하면 11 % 5는 1이므로 5의 배수가 아니기 때문에 5의 배수가 아닙니다.가 출력됩니다.\\\n",
        "반대로, 10을 입력하면 10 % 5는 0이 되므로 나머지가 0이 됩니다.\\\n",
        "else 부분:\\\n",
        "\\\n",
        "else는 if 조건이 False일 때 실행됩니다.\\\n",
        "따라서 num % 5 == 0일 때, 즉 num이 5의 배수일 때 5의 배수입니다.가 출력됩니다.\\"
      ],
      "metadata": {
        "id": "D715JReLkelo"
      }
    },
    {
      "cell_type": "code",
      "source": [
        "# 연습2 (장학생, 합격, 불합격으로 구분하는 중첩if문 => if elif문으로 변경하기)\n",
        "score = int(input(\"점수를 입력하세요:\"))\n",
        "\n",
        "if score >= 90 :\n",
        "  print(\"장학생\", end=\"\")\n",
        "else :\n",
        "  if score >= 60 :\n",
        "      print(\"합격\", end=\"\")\n",
        "  else :\n",
        "      print(\"불합격\", end=\"\")\n",
        "\n",
        "print(\"입니다.^^\")\n"
      ],
      "metadata": {
        "colab": {
          "base_uri": "https://localhost:8080/"
        },
        "id": "UkR0sr5_m6By",
        "outputId": "ff71b4ce-eac3-4a03-e3ff-9035bae95b29"
      },
      "execution_count": 17,
      "outputs": [
        {
          "output_type": "stream",
          "name": "stdout",
          "text": [
            "점수를 입력하세요:100\n",
            "장학생입니다.^^\n"
          ]
        }
      ]
    },
    {
      "cell_type": "markdown",
      "source": [
        "연습2 (중첩if문)\\\n",
        "동작 방식\\\n",
        "먼저 score >= 90을 검사하여 90점 이상이면 \"장학생\"을 출력합니다.\\\n",
        "score가 90 미만이면, else 블록에 들어가서 다시 score >= 60인지 확인합니다.\\\n",
        "60점 이상이라면 \"합격\"을 출력합니다.\\\n",
        "60점 미만이라면 \"불합격\"을 출력합니다."
      ],
      "metadata": {
        "id": "tsXFv1MHpMYU"
      }
    },
    {
      "cell_type": "code",
      "source": [
        "score = int(input(\"점수를 입력하세요:\"))\n",
        "\n",
        "if score >= 90 :\n",
        "  print(\"장학생\", end=\"\")\n",
        "elif score >= 60 :\n",
        "  print(\"합격\", end=\"\")\n",
        "else :\n",
        "  print(\"불합격\", end=\"\")\n",
        "\n",
        "print(\"입니다.^^\")"
      ],
      "metadata": {
        "colab": {
          "base_uri": "https://localhost:8080/"
        },
        "id": "_3QAqiJvoEDK",
        "outputId": "49dcfa73-d398-480a-ed31-3596bd0f7adf"
      },
      "execution_count": 22,
      "outputs": [
        {
          "output_type": "stream",
          "name": "stdout",
          "text": [
            "점수를 입력하세요:100\n",
            "장학생입니다.^^\n"
          ]
        }
      ]
    },
    {
      "cell_type": "markdown",
      "source": [
        "연습2( if elif문)\\\n",
        "변경된 방식\\\n",
        "이제 중첩된 if 문 없이, 한 번에 if, elif, else 구조로 바꾸었습니다.\\\n",
        "if score >= 90: 90점 이상이면 바로 \"장학생\"을 출력합니다.\\\n",
        "elif score >= 60: 90점 미만이지만 60점 이상이면 \"합격\"을 출력합니다.\\\n",
        "else: 60점 미만인 경우 \"불합격\"을 출력합니다.\\\n",
        "\n",
        "변경의 장점\\\n",
        "중첩된 if 문을 없애고, 한 번에 조건을 나열한 if-elif-else 구조를 사용하면 코드가 더 간결해지고 읽기 쉬워집니다.\\\n",
        "if-elif-else 구조에서는 조건을 위에서부터 순차적으로 검사하기 때문에, 중첩 없이도 if와 else에서 모든 조건을 처리할 수 있습니다."
      ],
      "metadata": {
        "id": "YkkdtXt6pX90"
      }
    },
    {
      "cell_type": "code",
      "source": [
        "# 연습3\n",
        "import random\n",
        "\n",
        "num_a1 = random.randrange(1, 7)\n",
        "num_a2 = random.randrange(1, 7)\n",
        "print (\"A의 주사위 숫자는 %d %d입니다.\" % (num_a1, num_a2))\n",
        "\n",
        "num_b1 = random.randrange(1, 7)\n",
        "num_b2 = random.randrange(1, 7)\n",
        "print (\"B의 주사위 숫자는 %d %d입니다.\" % (num_b1, num_b2))\n",
        "\n",
        "if num_a1+num_a2 > num_b1 + num_b2:\n",
        "  print(\"A가 이겼습니다.\")\n",
        "elif num_a1+num_a2 < num_b1 + num_b2:\n",
        "  print(\"B가 이겼습니다.\")\n",
        "else:\n",
        "  print(\"둘이 비겼네요.\")"
      ],
      "metadata": {
        "colab": {
          "base_uri": "https://localhost:8080/"
        },
        "id": "LpjP5eFcpshk",
        "outputId": "85fb24e3-bf35-470c-f420-d2ad6e51d547"
      },
      "execution_count": 43,
      "outputs": [
        {
          "output_type": "stream",
          "name": "stdout",
          "text": [
            "A의 주사위 숫자는 1 4입니다.\n",
            "B의 주사위 숫자는 1 1입니다.\n",
            "A가 이겼습니다.\n"
          ]
        }
      ]
    },
    {
      "cell_type": "code",
      "source": [
        "import random\n",
        "import random은 random 모듈을 불러오는 코드입니다. 이 모듈을 사용하면 랜덤(무작위)한 숫자를 생성할 수 있습니다. 주사위 숫자를 무작위로 만들기 위해 이 모듈을 사용합니다.\n",
        "\n",
        "num_a1 = random.randrange(1, 7)\n",
        "num_a2 = random.randrange(1, 7)\n",
        "num_a1과 num_a2는 각각 A가 던진 첫 번째와 두 번째 주사위의 숫자를 저장하는 변수입니다.\n",
        "random.randrange(1, 7)은 1부터 6까지의 정수 중 하나를 무작위로 생성합니다. 7은 포함되지 않으므로 주사위 숫자인 1~6 사이의 숫자를 만들어 냅니다.\n",
        "\n",
        "print(\"A의 주사위 숫자는 %d %d입니다.\" % (num_a1, num_a2))\n",
        "A가 던진 주사위 숫자를 출력합니다.\n",
        "%d는 정수를 출력하기 위한 형식 지정자로, num_a1과 num_a2의 값을 차례로 출력합니다.\n",
        "예를 들어, num_a1이 4이고 num_a2가 2라면 **\"A의 주사위 숫자는 4 2입니다.\"**라고 출력됩니다.\n",
        "\n",
        "num_b1 = random.randrange(1, 7)\n",
        "num_b2 = random.randrange(1, 7)\n",
        "num_b1과 num_b2는 B가 던진 첫 번째와 두 번째 주사위의 숫자를 저장합니다. A와 마찬가지로 각각 1부터 6 사이의 숫자를 랜덤하게 생성합니다.\n",
        "\n",
        "print(\"B의 주사위 숫자는 %d %d입니다.\" % (num_b1, num_b2))\n",
        "B가 던진 주사위 숫자를 출력합니다.\n",
        "예를 들어, num_b1이 5이고 num_b2가 3이라면 **\"B의 주사위 숫자는 5 3입니다.\"**라고 출력됩니다.\n",
        "\n",
        "if num_a1 + num_a2 > num_b1 + num_b2:\n",
        "    print(\"A가 이겼습니다.\")\n",
        "elif num_a1 + num_a2 < num_b1 + num_b2:\n",
        "    print(\"B가 이겼습니다.\")\n",
        "else:\n",
        "    print(\"둘이 비겼네요.\")\n",
        "A와 B의 주사위 숫자의 합을 비교하여 승자를 결정하는 코드입니다.\n",
        "\n",
        "num_a1 + num_a2는 A가 던진 두 주사위 숫자의 합입니다.\n",
        "num_b1 + num_b2는 B가 던진 두 주사위 숫자의 합입니다.\n",
        "조건문으로 두 숫자의 합을 비교합니다:\n",
        "\n",
        "if num_a1 + num_a2 > num_b1 + num_b2: A의 주사위 합이 더 크면 \"A가 이겼습니다.\"라고 출력합니다.\n",
        "elif num_a1 + num_a2 < num_b1 + num_b2: B의 주사위 합이 더 크면 \"B가 이겼습니다.\"라고 출력합니다.\n",
        "else: 두 사람의 주사위 합이 같으면 \"둘이 비겼네요.\"라고 출력합니다.\n",
        "실행 예시\n",
        "만약 num_a1 = 4, num_a2 = 2, num_b1 = 5, num_b2 = 1이라면:\n",
        "\n",
        "A의 주사위 숫자는 4 2입니다.\n",
        "B의 주사위 숫자는 5 1입니다.\n",
        "둘이 비겼네요.\n",
        "요약\n",
        "A와 B가 각각 두 번씩 주사위를 던져 숫자를 랜덤하게 얻습니다.\n",
        "두 주사위 숫자의 합을 비교하여 A와 B 중 누가 이겼는지, 또는 비겼는지를 출력합니다.\n"
      ],
      "metadata": {
        "id": "_3rcvtDmsj9r"
      },
      "execution_count": null,
      "outputs": []
    },
    {
      "cell_type": "markdown",
      "source": [
        "import random는 파이썬의 random 모듈을 프로그램에 불러오는 코드입니다.\\\n",
        "이 모듈은 무작위(random) 숫자를 생성하거나 난수 관련 기능을 사용할 수 있게 해 줍니다.\\\n",
        "\\\n",
        "왜 import random를 사용하는가?\\\n",
        "주사위를 던지는 것처럼 무작위 결과가 필요한 상황에서는 random 모듈이 필수적입니다.\\\n",
        "예를 들어, 1부터 6까지의 숫자를 무작위로 얻기 위해 random.randint(1, 6) 함수를 사용합니다.\\\n",
        "이 함수는 1과 6 사이의 정수를 랜덤하게 생성합니다."
      ],
      "metadata": {
        "id": "Y82iWfLFrNnl"
      }
    }
  ]
}
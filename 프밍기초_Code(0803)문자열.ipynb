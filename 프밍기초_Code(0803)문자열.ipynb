{
  "nbformat": 4,
  "nbformat_minor": 0,
  "metadata": {
    "colab": {
      "provenance": [],
      "authorship_tag": "ABX9TyN3UUxAOP9YBeg/QWjO1b5g",
      "include_colab_link": true
    },
    "kernelspec": {
      "name": "python3",
      "display_name": "Python 3"
    },
    "language_info": {
      "name": "python"
    }
  },
  "cells": [
    {
      "cell_type": "markdown",
      "metadata": {
        "id": "view-in-github",
        "colab_type": "text"
      },
      "source": [
        "<a href=\"https://colab.research.google.com/github/junsikcho/Programming-Basics/blob/main/%ED%94%84%EB%B0%8D%EA%B8%B0%EC%B4%88_Code(0803)%EB%AC%B8%EC%9E%90%EC%97%B4.ipynb\" target=\"_parent\"><img src=\"https://colab.research.google.com/assets/colab-badge.svg\" alt=\"Open In Colab\"/></a>"
      ]
    },
    {
      "cell_type": "markdown",
      "source": [
        "# 문자열\n",
        "# 문자열 활용 실습 예제\n",
        "- 문자열의 공백 제거, 특정 문자 교체, 문자열 분리 및 결합 등 고급 문자열 조작 방법을 실습할 수 있다.\n",
        "- 문자열 실습 예제를 통해 다양한 문자열 함수의 활용 능력을 강화할 수 있다."
      ],
      "metadata": {
        "id": "GohqQAz6-8kw"
      }
    },
    {
      "cell_type": "markdown",
      "source": [
        "# 실습 예제 8 - 1: 특정 위치에 문자 삽입하기\n",
        "- 목표 : 문자열에서 짝수 번째는 원래 글자를 유지하고, 홀수 번째에는 '#'을 삽입하여 출력.\\\n",
        "1) 문자열을 정의하고 반복문을 사용하여 문자열을 순회함\\\n",
        "2) 짝수 인덱스에는 원래 글자를, 홀수 인덱스에는 '#'을 출력"
      ],
      "metadata": {
        "id": "vzQUbuw1AJ9a"
      }
    },
    {
      "cell_type": "code",
      "source": [
        "text = '파이썬은 완전히 재미있어요'\n",
        "for i in range(len(text)):\n",
        "  if i % 2 == 0:\n",
        "    print(text[i], end='')\n",
        "  else:\n",
        "    print('#', end='')"
      ],
      "metadata": {
        "colab": {
          "base_uri": "https://localhost:8080/"
        },
        "id": "aUeMtkOFAe9K",
        "outputId": "4b8ceb37-0cb5-429f-a887-04858d98c75a"
      },
      "execution_count": 4,
      "outputs": [
        {
          "output_type": "stream",
          "name": "stdout",
          "text": [
            "파#썬# #전# #미#어#"
          ]
        }
      ]
    },
    {
      "cell_type": "markdown",
      "source": [
        "# 실습 예제 8 - 2 : 문자열에서 괄호 제거하기\n",
        "- 목표 : 문자열에서 괄호('[]')를 제거하고 나머지 문자만 출력\\\n",
        "1) 문자열을 정의하고 빈 문자열에 결과를 저장\\\n",
        "2) 괄호가 아닌 문자를 조건문으로 필터링하여 추가"
      ],
      "metadata": {
        "id": "eaw0p4T-BIVD"
      }
    },
    {
      "cell_type": "code",
      "source": [
        "text = '[파] [이] [썬] [재] [미]'\n",
        "result = ''\n",
        "for char in text :\n",
        "  if char != '[' and char != ']' :\n",
        "    result += char\n",
        "print(result)"
      ],
      "metadata": {
        "colab": {
          "base_uri": "https://localhost:8080/"
        },
        "id": "KzoliSzfBYxv",
        "outputId": "8aeab967-83c4-4898-875a-5ed718c67f66"
      },
      "execution_count": 7,
      "outputs": [
        {
          "output_type": "stream",
          "name": "stdout",
          "text": [
            "파 이 썬 재 미\n"
          ]
        }
      ]
    },
    {
      "cell_type": "markdown",
      "source": [
        "# 실습 예제 8 - 3 : 특정 위치에 문자 삽입하기\n",
        "- 목표 : 문자열이 숫자, 문자, 문자 + 숫자 조합, 또는 특수 문자로 이루어졌는지 판별\\\n",
        "1) 사용자로부터 문자열을 입력받고, 'is' 함수들을 통해 조건을 판별\\\n",
        "2) 각 조건에 맞는 결과를 출력\n"
      ],
      "metadata": {
        "id": "-arm3XutB9Xd"
      }
    },
    {
      "cell_type": "code",
      "source": [
        "user_input = input('문자열을 입력하세요 : ')\n",
        "if user_input.isdigit():\n",
        "  print('숫자입니다')\n",
        "elif user_input.isalpha():\n",
        "  print('글자입니다.')\n",
        "elif user_input.isalnum():\n",
        "  print('글자 + 숫자입니다.')\n",
        "else:\n",
        "  print('모르겠습니다.')"
      ],
      "metadata": {
        "colab": {
          "base_uri": "https://localhost:8080/"
        },
        "id": "XWS1MA1ZCP_s",
        "outputId": "68c7e264-ce24-4f17-82a7-800c681745b9"
      },
      "execution_count": 10,
      "outputs": [
        {
          "output_type": "stream",
          "name": "stdout",
          "text": [
            "문자열을 입력하세요 : 글자123\n",
            "글자 + 숫자입니다.\n"
          ]
        }
      ]
    }
  ]
}
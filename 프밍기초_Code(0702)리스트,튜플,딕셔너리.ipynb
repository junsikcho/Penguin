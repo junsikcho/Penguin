{
  "nbformat": 4,
  "nbformat_minor": 0,
  "metadata": {
    "colab": {
      "provenance": [],
      "authorship_tag": "ABX9TyMti6r5a7Ni9bv5LenmCByj",
      "include_colab_link": true
    },
    "kernelspec": {
      "name": "python3",
      "display_name": "Python 3"
    },
    "language_info": {
      "name": "python"
    }
  },
  "cells": [
    {
      "cell_type": "markdown",
      "metadata": {
        "id": "view-in-github",
        "colab_type": "text"
      },
      "source": [
        "<a href=\"https://colab.research.google.com/github/junsikcho/Programming-Basics/blob/main/%ED%94%84%EB%B0%8D%EA%B8%B0%EC%B4%88_Code(0702)%EB%A6%AC%EC%8A%A4%ED%8A%B8%2C%ED%8A%9C%ED%94%8C%2C%EB%94%95%EC%85%94%EB%84%88%EB%A6%AC.ipynb\" target=\"_parent\"><img src=\"https://colab.research.google.com/assets/colab-badge.svg\" alt=\"Open In Colab\"/></a>"
      ]
    },
    {
      "cell_type": "markdown",
      "source": [
        "# 07장-2 리스트, 튜플, 딕셔너리\n",
        "# 2차원 리스트 튜플\n",
        "1) 2차원 리스트의 구조와 활용 방법을 이해하고, 데이터 행과 열로 관리할 수 있다.\\\n",
        "2) 튜플의 불변성 및 사용법을 이해하고, 필요한 경우 리스트와의 차이를 설명할 수 있다."
      ],
      "metadata": {
        "id": "qZzN-3P4XZYg"
      }
    },
    {
      "cell_type": "markdown",
      "source": [
        "# 2차원 리스트의 개념\n",
        "1) 1차원 리스트를 여러 개 연결한 것, 첨자를 2개 사용\\\n",
        "1차원 : aa = [10, 20, 30]\\\n",
        "Ex. aa[0] aa[1] aa[2]\n",
        "\n",
        "2차원 : aa [[1,2 ,3, 4], [5, 6, 7, 8], [9, 10, 11, 12]]\\\n",
        "Ex. aa[0] -> aa[0][0] aa[0][1] aa[0][2] aa[0[3]] , aa[1] -> aa[1][0] aa[1][1] ...\n"
      ],
      "metadata": {
        "id": "z9sqvYR-Xssz"
      }
    },
    {
      "cell_type": "code",
      "source": [
        "list1 = []  # 한 행(row)을 저장할 리스트\n",
        "list2 = []  # 2차원 리스트를 저장할 리스트\n",
        "value = 1   # 리스트에 저장할 초기 값\n",
        "\n",
        "# 중첩 반복문으로 3행 4열 리스트 생성\n",
        "for i in range(0, 3):  # 3개의 행을 반복\n",
        "    list1 = []  # 각 행(row)을 새로 생성\n",
        "    for k in range(0, 4):  # 4개의 열을 반복\n",
        "        list1.append(value)  # 현재 값을 list1에 추가\n",
        "        value += 1  # 값을 1씩 증가\n",
        "    list2.append(list1)  # 완성된 한 행(row)을 list2에 추가\n",
        "\n",
        "# 리스트 출력\n",
        "for i in range(0, 3):  # 3개의 행 반복\n",
        "    for k in range(0, 4):  # 각 행의 4개의 열 반복\n",
        "        print(\"%3d\" % list2[i][k], end=\" \")  # 2차원 리스트의 값 출력\n",
        "    print(\"\")  # 한 행(row)의 출력이 끝나면 줄바꿈\n",
        "\n",
        "'''\n",
        "중첩 for 문을 사용, 3행 4열짜리 리스트 생성 후 항목 1 ~ 12를 입력하고 출력\n",
        "'''\n"
      ],
      "metadata": {
        "colab": {
          "base_uri": "https://localhost:8080/"
        },
        "id": "sHh9HceSYa79",
        "outputId": "9fbe5cf6-c255-4e0d-8002-0206ecf9423b"
      },
      "execution_count": null,
      "outputs": [
        {
          "output_type": "stream",
          "name": "stdout",
          "text": [
            "  1   2   3   4 \n",
            "  5   6   7   8 \n",
            "  9  10  11  12 \n"
          ]
        }
      ]
    },
    {
      "cell_type": "code",
      "source": [
        "# SELF STUDY ( 2차원 리스트의 개념 )\n",
        "# 4행 5열의 2차원 리스트를 만들고, 0 부터 3의 배수를 입력하여 출력하도록 위 코드를 수정해보자. 출력 결과는 다음과 같다\n",
        "\n",
        "list1 = []  # 한 행(row)을 저장할 리스트\n",
        "list2 = []  # 2차원 리스트를 저장할 리스트\n",
        "value = 0   # 리스트에 저장할 초기 값\n",
        "\n",
        "# 중첩 반복문으로 4행 5열 리스트 생성\n",
        "for i in range(0, 4):  # 4개의 행을 반복\n",
        "    list1 = []  # 각 행(row)을 새로 생성\n",
        "    for k in range(0, 5):  # 5개의 열을 반복\n",
        "        list1.append(value)  # 현재 값을 list1에 추가\n",
        "        value += 3  # 값을 1씩 증가\n",
        "    list2.append(list1)  # 완성된 한 행(row)을 list2에 추가\n",
        "\n",
        "# 리스트 출력\n",
        "for i in range(0, 4):  # 4개의 행 반복\n",
        "    for k in range(0, 5):  # 각 행의 5개의 열 반복\n",
        "        print(\"%3d\" % list2[i][k], end=\" \")  # 2차원 리스트의 값 출력\n",
        "    print(\"\")  # 한 행(row)의 출력이 끝나면 줄바꿈\n"
      ],
      "metadata": {
        "colab": {
          "base_uri": "https://localhost:8080/"
        },
        "id": "CNCc0GR34KU7",
        "outputId": "f244b369-3dc4-489b-d412-3b5d746d5680"
      },
      "execution_count": 5,
      "outputs": [
        {
          "output_type": "stream",
          "name": "stdout",
          "text": [
            "  0   3   6   9  12 \n",
            " 15  18  21  24  27 \n",
            " 30  33  36  39  42 \n",
            " 45  48  51  54  57 \n"
          ]
        }
      ]
    },
    {
      "cell_type": "code",
      "source": [
        "# 2차원 리스트의 개념 (불규칙한 크기의 2차원 리스트)\n",
        "\n",
        "aa = [[1, 2, 3, 4], [5, 6], [7, 8, 9]]\n",
        "\n",
        "'''\n",
        "aa[0][0] , aa[0][1], aa[0][2], aa[0][3]\n",
        "aa[1][0] , aa[1][2]\n",
        "aa[2][0] , aa[2][1], aa[2][2]\n",
        "'''"
      ],
      "metadata": {
        "id": "hjmo5ai95eTN"
      },
      "execution_count": null,
      "outputs": []
    },
    {
      "cell_type": "markdown",
      "source": [
        "# 튜플"
      ],
      "metadata": {
        "id": "oIXmKHyL6-FX"
      }
    },
    {
      "cell_type": "markdown",
      "source": [
        "# 튜플의 생성\n",
        "1) 리스트는 대괄호 []로 생성, 튜플은 소괄호 ()로 생성\\\n",
        "2) 튜플은 값을 수정할 수 없으며, 읽기만 가능해 읽기 전용 자료를 저장할 때 사용"
      ],
      "metadata": {
        "id": "dzxnMXa27lPs"
      }
    },
    {
      "cell_type": "code",
      "source": [
        "tt1 = (10, 20, 30); tt1"
      ],
      "metadata": {
        "colab": {
          "base_uri": "https://localhost:8080/"
        },
        "id": "zeQeAAjp7yrs",
        "outputId": "61bdf71a-8d9f-4155-e92c-b04c7a745253"
      },
      "execution_count": 9,
      "outputs": [
        {
          "output_type": "execute_result",
          "data": {
            "text/plain": [
              "(10, 20, 30)"
            ]
          },
          "metadata": {},
          "execution_count": 9
        }
      ]
    },
    {
      "cell_type": "code",
      "source": [
        "tt2 = 10, 20, 30; tt2"
      ],
      "metadata": {
        "colab": {
          "base_uri": "https://localhost:8080/"
        },
        "id": "CUzawDzf78Z2",
        "outputId": "5c2bb83d-fe6b-473b-add4-22723dd98de0"
      },
      "execution_count": 10,
      "outputs": [
        {
          "output_type": "execute_result",
          "data": {
            "text/plain": [
              "(10, 20, 30)"
            ]
          },
          "metadata": {},
          "execution_count": 10
        }
      ]
    },
    {
      "cell_type": "markdown",
      "source": [
        "3) 튜플은 소괄호 ()를 생략 가능,\\\n",
        "항목이 하나인 튜플은 tt5와 tt6처럼 뒤에 쉼표(,) 붙임"
      ],
      "metadata": {
        "id": "eRHp4Y9g7_8C"
      }
    },
    {
      "cell_type": "code",
      "source": [
        "tt3 = (10); tt3"
      ],
      "metadata": {
        "colab": {
          "base_uri": "https://localhost:8080/"
        },
        "id": "7PFMrdmI8Ihf",
        "outputId": "e6cbabdd-333d-4199-b0b5-c169f8005384"
      },
      "execution_count": 13,
      "outputs": [
        {
          "output_type": "execute_result",
          "data": {
            "text/plain": [
              "10"
            ]
          },
          "metadata": {},
          "execution_count": 13
        }
      ]
    },
    {
      "cell_type": "code",
      "source": [
        "tt4 = 10; tt4"
      ],
      "metadata": {
        "colab": {
          "base_uri": "https://localhost:8080/"
        },
        "id": "l6eZ9d3-8bh_",
        "outputId": "2bacc703-4a00-440e-c9e3-651b5ea45911"
      },
      "execution_count": 14,
      "outputs": [
        {
          "output_type": "execute_result",
          "data": {
            "text/plain": [
              "10"
            ]
          },
          "metadata": {},
          "execution_count": 14
        }
      ]
    },
    {
      "cell_type": "code",
      "source": [
        "tt5 = (10,); tt5"
      ],
      "metadata": {
        "colab": {
          "base_uri": "https://localhost:8080/"
        },
        "id": "o1rcwDoH8dSF",
        "outputId": "a05771d8-6bf1-40b3-aed0-16666c3564ca"
      },
      "execution_count": 17,
      "outputs": [
        {
          "output_type": "execute_result",
          "data": {
            "text/plain": [
              "(10,)"
            ]
          },
          "metadata": {},
          "execution_count": 17
        }
      ]
    },
    {
      "cell_type": "code",
      "source": [
        "tt6 = 10,; tt6"
      ],
      "metadata": {
        "colab": {
          "base_uri": "https://localhost:8080/"
        },
        "id": "c2Y4MOZr8j0F",
        "outputId": "deaced26-c30e-42e3-f0b5-286e9c3fd73d"
      },
      "execution_count": 18,
      "outputs": [
        {
          "output_type": "execute_result",
          "data": {
            "text/plain": [
              "(10,)"
            ]
          },
          "metadata": {},
          "execution_count": 18
        }
      ]
    },
    {
      "cell_type": "code",
      "source": [
        "# 튜플의 오류\n",
        "tt1.append(40)\n",
        "tt1[0] = 40\n",
        "del(tt1(0))"
      ],
      "metadata": {
        "colab": {
          "base_uri": "https://localhost:8080/",
          "height": 110
        },
        "id": "179dyiEA8mYq",
        "outputId": "94d85e7b-3649-425c-885e-125017bfb54e"
      },
      "execution_count": 20,
      "outputs": [
        {
          "output_type": "error",
          "ename": "SyntaxError",
          "evalue": "cannot delete function call (<ipython-input-20-d8e2de51f1f7>, line 4)",
          "traceback": [
            "\u001b[0;36m  File \u001b[0;32m\"<ipython-input-20-d8e2de51f1f7>\"\u001b[0;36m, line \u001b[0;32m4\u001b[0m\n\u001b[0;31m    del(tt1(0))\u001b[0m\n\u001b[0m        ^\u001b[0m\n\u001b[0;31mSyntaxError\u001b[0m\u001b[0;31m:\u001b[0m cannot delete function call\n"
          ]
        }
      ]
    },
    {
      "cell_type": "code",
      "source": [
        "# 튜플의 삭제\n",
        "del(tt1)"
      ],
      "metadata": {
        "id": "VD561dD18y5L"
      },
      "execution_count": 21,
      "outputs": []
    },
    {
      "cell_type": "code",
      "source": [
        "# 튜플의 삭제\n",
        "del(tt2)"
      ],
      "metadata": {
        "id": "A4uyTCk2832o"
      },
      "execution_count": 22,
      "outputs": []
    },
    {
      "cell_type": "markdown",
      "source": [
        "# 튜플의 사용"
      ],
      "metadata": {
        "id": "SHxRRv6e86re"
      }
    },
    {
      "cell_type": "code",
      "source": [
        "# 튜플 항목에 접근\n",
        "tt1 = (10, 20, 30, 40)\n",
        "tt1[0]"
      ],
      "metadata": {
        "colab": {
          "base_uri": "https://localhost:8080/"
        },
        "id": "kQlXwSUt9BNF",
        "outputId": "193a3503-08c5-42de-934c-ec869c30e9be"
      },
      "execution_count": 23,
      "outputs": [
        {
          "output_type": "execute_result",
          "data": {
            "text/plain": [
              "10"
            ]
          },
          "metadata": {},
          "execution_count": 23
        }
      ]
    },
    {
      "cell_type": "code",
      "source": [
        "tt1 = (10, 20, 30, 40)\n",
        "tt1[0] + tt1[1] + tt1[2]"
      ],
      "metadata": {
        "colab": {
          "base_uri": "https://localhost:8080/"
        },
        "id": "LI_XhVWx9INA",
        "outputId": "c6365359-34d3-452b-9e50-7f69d757bec2"
      },
      "execution_count": 25,
      "outputs": [
        {
          "output_type": "execute_result",
          "data": {
            "text/plain": [
              "60"
            ]
          },
          "metadata": {},
          "execution_count": 25
        }
      ]
    },
    {
      "cell_type": "code",
      "source": [
        "# 튜플 범위에 접근\n",
        "tt1[1 : 3]"
      ],
      "metadata": {
        "colab": {
          "base_uri": "https://localhost:8080/"
        },
        "id": "XVxy3yYh9P2j",
        "outputId": "1ea2295c-1fce-4260-9a41-ab458695c122"
      },
      "execution_count": 27,
      "outputs": [
        {
          "output_type": "execute_result",
          "data": {
            "text/plain": [
              "(20, 30)"
            ]
          },
          "metadata": {},
          "execution_count": 27
        }
      ]
    },
    {
      "cell_type": "code",
      "source": [
        "tt1[ 1 : ]"
      ],
      "metadata": {
        "colab": {
          "base_uri": "https://localhost:8080/"
        },
        "id": "qXKZ_x6O9X61",
        "outputId": "62856196-6981-468c-911f-4c10c6ce3212"
      },
      "execution_count": 28,
      "outputs": [
        {
          "output_type": "execute_result",
          "data": {
            "text/plain": [
              "(20, 30, 40)"
            ]
          },
          "metadata": {},
          "execution_count": 28
        }
      ]
    },
    {
      "cell_type": "code",
      "source": [
        "tt1[ : 3]"
      ],
      "metadata": {
        "colab": {
          "base_uri": "https://localhost:8080/"
        },
        "id": "Jnml7U5c9ZvS",
        "outputId": "af9e55fc-95e0-4979-9bc4-be34e4bd1e3d"
      },
      "execution_count": 29,
      "outputs": [
        {
          "output_type": "execute_result",
          "data": {
            "text/plain": [
              "(10, 20, 30)"
            ]
          },
          "metadata": {},
          "execution_count": 29
        }
      ]
    },
    {
      "cell_type": "code",
      "source": [
        "# 튜플의 덧셈 및 곱셈 연산\n",
        "tt2 = ('A', 'B')\n",
        "tt1 + tt2"
      ],
      "metadata": {
        "colab": {
          "base_uri": "https://localhost:8080/"
        },
        "id": "6z9TdWNh9bZi",
        "outputId": "0767bcf3-3e25-4297-b051-63cf02c49734"
      },
      "execution_count": 31,
      "outputs": [
        {
          "output_type": "execute_result",
          "data": {
            "text/plain": [
              "(10, 20, 30, 40, 'A', 'B')"
            ]
          },
          "metadata": {},
          "execution_count": 31
        }
      ]
    },
    {
      "cell_type": "code",
      "source": [
        "tt2 * 3"
      ],
      "metadata": {
        "colab": {
          "base_uri": "https://localhost:8080/"
        },
        "id": "UJaZ7-ms9mLx",
        "outputId": "19998128-09e3-4841-d4c9-fae339a440f4"
      },
      "execution_count": 32,
      "outputs": [
        {
          "output_type": "execute_result",
          "data": {
            "text/plain": [
              "('A', 'B', 'A', 'B', 'A', 'B')"
            ]
          },
          "metadata": {},
          "execution_count": 32
        }
      ]
    },
    {
      "cell_type": "code",
      "source": [
        "# 2차원 튜플 생성\n",
        "tt = ((1, 2, 3),\n",
        "      (4, 5, 6),\n",
        "      (7, 8, 9))\n",
        "\n",
        "# 튜플 덧셈과 곱셈을 이용해 출력\n",
        "result = tt[0] * 1 + tt[1] * 1 + tt[2] * 1\n",
        "\n",
        "# 출력\n",
        "print(result[0], result[1], result[2])\n",
        "print(result[3], result[4], result[5])\n",
        "print(result[6], result[7], result[8])\n"
      ],
      "metadata": {
        "colab": {
          "base_uri": "https://localhost:8080/"
        },
        "id": "uCudgzMr9nnK",
        "outputId": "7797ca4f-df8a-4f5f-f580-44c046624a75"
      },
      "execution_count": 47,
      "outputs": [
        {
          "output_type": "stream",
          "name": "stdout",
          "text": [
            "1 2 3\n",
            "4 5 6\n",
            "7 8 9\n"
          ]
        }
      ]
    },
    {
      "cell_type": "code",
      "source": [
        "# 예 : 튜플 -> 리스트 -> 튜플 변환\n",
        "myTuple = (10, 20, 30)\n",
        "myList = list(myTuple)\n",
        "myList.append(40)\n",
        "myTuple = tuple(myList)\n",
        "myTuple"
      ],
      "metadata": {
        "colab": {
          "base_uri": "https://localhost:8080/"
        },
        "id": "x9YHPgt1-5AW",
        "outputId": "c31fff78-13ce-4677-81ae-547aab520932"
      },
      "execution_count": 48,
      "outputs": [
        {
          "output_type": "execute_result",
          "data": {
            "text/plain": [
              "(10, 20, 30, 40)"
            ]
          },
          "metadata": {},
          "execution_count": 48
        }
      ]
    }
  ]
}
{
  "nbformat": 4,
  "nbformat_minor": 0,
  "metadata": {
    "colab": {
      "provenance": [],
      "authorship_tag": "ABX9TyN4NDnsa1nkV5DbrRaYcvRR",
      "include_colab_link": true
    },
    "kernelspec": {
      "name": "python3",
      "display_name": "Python 3"
    },
    "language_info": {
      "name": "python"
    }
  },
  "cells": [
    {
      "cell_type": "markdown",
      "metadata": {
        "id": "view-in-github",
        "colab_type": "text"
      },
      "source": [
        "<a href=\"https://colab.research.google.com/github/junsikcho/Programming-Basics/blob/main/%ED%94%84%EB%B0%8D%EA%B8%B0%EC%B4%88_Code(1303)_%EA%B0%9D%EC%B2%B4%EC%A7%80%ED%96%A5_%ED%94%84%EB%A1%9C%EA%B7%B8%EB%9E%98%EB%B0%8D.ipynb\" target=\"_parent\"><img src=\"https://colab.research.google.com/assets/colab-badge.svg\" alt=\"Open In Colab\"/></a>"
      ]
    },
    {
      "cell_type": "markdown",
      "source": [
        "# 13장 03 객체지향 프로그래밍"
      ],
      "metadata": {
        "id": "fJzFYgucynHb"
      }
    },
    {
      "cell_type": "markdown",
      "source": [
        "- 객체지향 프로그래밍의 심화 내용\\\n",
        "1) 상속과 다형성의 개념을 이해하고 활용할 수 있다.\\\n",
        "2) 객체지향의 개념을 이용한 프로그램을 작성할 수 있다."
      ],
      "metadata": {
        "id": "lIRidiZ9y8ge"
      }
    },
    {
      "cell_type": "markdown",
      "source": [
        "# 클래스의 특별한 메서드"
      ],
      "metadata": {
        "id": "PENn27ZfzGH2"
      }
    },
    {
      "cell_type": "markdown",
      "source": [
        "-  __ del __() 메서드\\\n",
        "1) 소멸자(Destructor), 생성자와 반대로 인스턴스 삭제할 때 자동호출"
      ],
      "metadata": {
        "id": "lwJRncAVzMqI"
      }
    },
    {
      "cell_type": "markdown",
      "source": [
        "- __ repr __() 메서드\\\n",
        "1) 인스턴스를 print()문으로 출력할 때 실행"
      ],
      "metadata": {
        "id": "cxRxdXRPzYal"
      }
    },
    {
      "cell_type": "markdown",
      "source": [
        "- __ add __() 메서드\\\n",
        "1) 인스턴스 사이에 덧셈 작업이 일어날 때 실행되는 메서드, 인스턴스 사이의 덧셈 작업 가능"
      ],
      "metadata": {
        "id": "ZPzZf15NzvGi"
      }
    },
    {
      "cell_type": "markdown",
      "source": [
        "- 비교 메서드 : __ eq __(), __ ne __(), __ lt __(), __ gt __(), __ le __(), __ ge __()\\\n",
        "1) 인스턴스 사이의 비교 연산자(<, <=, >, >=, ==, !=등) 사용할 때 호출"
      ],
      "metadata": {
        "id": "gn9h-mLUz1hp"
      }
    },
    {
      "cell_type": "code",
      "source": [
        "#Code12-09.py\n",
        "\n",
        "## 클래스 선언 부분 ##\n",
        "class Line :\n",
        "  length = 0\n",
        "  def __init__(self, length) :\n",
        "    self.length = length\n",
        "    print(self.length, '길이의 선이 생성되었습니다.')\n",
        "\n",
        "  def __del__(self) :\n",
        "    print(self.length, '길이의 선이 삭제되었습니다.')\n",
        "\n",
        "  def __repr__(self) :\n",
        "    return '선의 길이 : ' + str(self.length)\n",
        "\n",
        "  def __add__(self, other) :\n",
        "    return self.length + other.length\n",
        "\n",
        "  def __lt__(self, other) :\n",
        "    return self.length < other.length\n",
        "\n",
        "  def __gt__(self, other) :\n",
        "    return self.length > other.length\n",
        "\n",
        "## 메인 코드 부분 ##\n",
        "myLine1 = Line(100)\n",
        "myLine2 = Line(200)\n",
        "\n",
        "print(myLine1)\n",
        "print(myLine2)\n",
        "print('두 선의 길이 합 : ', myLine1 + myLine2)\n",
        "\n",
        "if myLine1 < myLine2 :\n",
        "  print('선분 2가 더 기네요.')\n",
        "elif myLine1 == myLine2 :\n",
        "  print('두 선분이 같네요.')\n",
        "else :\n",
        "  print('모르겠네요.')\n",
        "\n",
        "del(myLine1)"
      ],
      "metadata": {
        "colab": {
          "base_uri": "https://localhost:8080/"
        },
        "id": "DNTtYI7p0AsZ",
        "outputId": "1b17626b-b7d8-41ba-96f1-67003b6029fb"
      },
      "execution_count": 1,
      "outputs": [
        {
          "output_type": "stream",
          "name": "stdout",
          "text": [
            "100 길이의 선이 생성되었습니다.\n",
            "200 길이의 선이 생성되었습니다.\n",
            "선의 길이 : 100\n",
            "선의 길이 : 200\n",
            "두 선의 길이 합 :  300\n",
            "선분 2가 더 기네요.\n",
            "100 길이의 선이 삭제되었습니다.\n"
          ]
        }
      ]
    },
    {
      "cell_type": "markdown",
      "source": [
        "# 추상 메서드"
      ],
      "metadata": {
        "id": "IhhCdhgy0tEQ"
      }
    },
    {
      "cell_type": "markdown",
      "source": [
        "- 서브 클래스에서 메서드를 오버라이딩 : 슈퍼 클래스에서는 빈 껍질의 메서드만 만들어 놓고 내용은 pass로 채움"
      ],
      "metadata": {
        "id": "_8BodYxP0vwB"
      }
    },
    {
      "cell_type": "code",
      "source": [
        "#Code12-10.py\n",
        "\n",
        "## 클래스 선언 부분 ##\n",
        "class SuperClass :\n",
        "  def method(self) :\n",
        "    pass\n",
        "\n",
        "class SubClass1 (SuperClass) :\n",
        "  def method(self) :\n",
        "    print('SubClass1에서 method()를 오버라이딩함')\n",
        "\n",
        "class SubClass2 (SuperClass) :\n",
        "  pass\n",
        "\n",
        "# 4 ~ 13 행 : SuperClass 상속받은 SubClass1과 SubClass2 만듦\n",
        "\n",
        "## 메인 코드 부분 ##\n",
        "sub1 = SubClass1()\n",
        "sub2 = SubClass2()\n",
        "# 18 ~ 19 행 : 각 인스턴스 sub1과 sub2 생성\n",
        "\n",
        "sub1.method()\n",
        "sub2.method()\n",
        "# 22 ~ 23 행 : 오버라이딩한 method() 호출"
      ],
      "metadata": {
        "colab": {
          "base_uri": "https://localhost:8080/"
        },
        "id": "IT2xK0RJ00iU",
        "outputId": "0c4d55a3-9487-4616-bcab-cdc545a63da9"
      },
      "execution_count": 2,
      "outputs": [
        {
          "output_type": "stream",
          "name": "stdout",
          "text": [
            "SubClass1에서 method()를 오버라이딩함\n"
          ]
        }
      ]
    },
    {
      "cell_type": "markdown",
      "source": [
        "- 3 ~ 4행 method() 수정\\\n",
        "1) 오버라이딩하지 않았다는 Not Implement Error 발생"
      ],
      "metadata": {
        "id": "HfbKyFWH1xaS"
      }
    },
    {
      "cell_type": "code",
      "source": [
        "def method(self) :\n",
        "  raise NotImplementedError()"
      ],
      "metadata": {
        "id": "DN2jzSg_16Hm"
      },
      "execution_count": 3,
      "outputs": []
    },
    {
      "cell_type": "markdown",
      "source": [
        "# 멀티 스레드"
      ],
      "metadata": {
        "id": "e4J3mY-72RFk"
      }
    },
    {
      "cell_type": "markdown",
      "source": [
        "- 프로그램 하나에서 여러 개를 동시에 처리할 수 있도록 제공하는 기능"
      ],
      "metadata": {
        "id": "bNgqu6202R-c"
      }
    },
    {
      "cell_type": "markdown",
      "source": [
        "![화면 캡처 2024-12-06 022353.png](data:image/png;base64,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)"
      ],
      "metadata": {
        "id": "HBXF8gCa2Zmr"
      }
    },
    {
      "cell_type": "markdown",
      "source": [
        "- 자동차 세 대가 경주하는 코드"
      ],
      "metadata": {
        "id": "uoutUfEf2bBP"
      }
    },
    {
      "cell_type": "code",
      "source": [
        "#Code12-11.py\n",
        "\n",
        "import time\n",
        "\n",
        "## 클래스 선언 부분 ##\n",
        "class RacingCar :\n",
        "  carName = ''\n",
        "  def __init__(self, name) :\n",
        "    self.carName = name\n",
        "\n",
        "  def runCar(self) :\n",
        "    for _ in range(0, 3) :\n",
        "      carStr = self.carName + '~~달립니다.\\n'\n",
        "      print(carStr, end = '')\n",
        "      time.sleep(0.1) # 0.1초 멈춤\n",
        "\n",
        "## 메인 코드 부분 ##\n",
        "car1 = RacingCar('@자동차1')\n",
        "car2 = RacingCar('#자동차2')\n",
        "car3 = RacingCar('$자동차3')\n",
        "\n",
        "car1.runCar()\n",
        "car2.runCar()\n",
        "car3.runCar()\n"
      ],
      "metadata": {
        "colab": {
          "base_uri": "https://localhost:8080/"
        },
        "id": "4ShsTFWt2d8Q",
        "outputId": "e2942e01-02a4-4516-e4e9-4fca229fe3f4"
      },
      "execution_count": 10,
      "outputs": [
        {
          "output_type": "stream",
          "name": "stdout",
          "text": [
            "@자동차1~~달립니다.\n",
            "@자동차1~~달립니다.\n",
            "@자동차1~~달립니다.\n",
            "#자동차2~~달립니다.\n",
            "#자동차2~~달립니다.\n",
            "#자동차2~~달립니다.\n",
            "$자동차3~~달립니다.\n",
            "$자동차3~~달립니다.\n",
            "$자동차3~~달립니다.\n"
          ]
        }
      ]
    },
    {
      "cell_type": "markdown",
      "source": [
        "- 자동차 세 대를 동시에 출발"
      ],
      "metadata": {
        "id": "Puu_nlKd3igs"
      }
    },
    {
      "cell_type": "code",
      "source": [
        "#Code12-12.py\n",
        "\n",
        "import threading\n",
        "import time\n",
        "\n",
        "## 클래스 선언 부분 ##\n",
        "class RacingCar :\n",
        "  carName = ''\n",
        "  def __init__(self, name) :\n",
        "    self.carName = name\n",
        "\n",
        "  def runCar(self) :\n",
        "    for _ in range(0, 3) :\n",
        "      carStr = self.carName + '~~달립니다.\\n'\n",
        "      print(carStr, end = '')\n",
        "      time.sleep(0.1) # 0.1초 멈춤\n",
        "\n",
        "## 메인 코드 부분 ##\n",
        "car1 = RacingCar('@자동차1')\n",
        "car2 = RacingCar('#자동차2')\n",
        "car3 = RacingCar('$자동차3')\n",
        "\n",
        "th1 = threading.Thread(target = car1.runCar)\n",
        "th2 = threading.Thread(target = car2.runCar)\n",
        "th3 = threading.Thread(target = car3.runCar)\n",
        "\n",
        "th1.start()\n",
        "th2.start()\n",
        "th3.start()"
      ],
      "metadata": {
        "colab": {
          "base_uri": "https://localhost:8080/"
        },
        "id": "Y96lgS9t3nyF",
        "outputId": "ad60240a-87bc-4f97-f856-d2041f8bc205"
      },
      "execution_count": 15,
      "outputs": [
        {
          "output_type": "stream",
          "name": "stdout",
          "text": [
            "@자동차1~~달립니다.\n",
            "#자동차2~~달립니다.\n",
            "$자동차3~~달립니다.\n",
            "@자동차1~~달립니다.\n",
            "#자동차2~~달립니다.\n",
            "$자동차3~~달립니다.\n",
            "@자동차1~~달립니다.\n",
            "#자동차2~~달립니다.\n"
          ]
        }
      ]
    },
    {
      "cell_type": "markdown",
      "source": [
        "# 멀티 프로세싱"
      ],
      "metadata": {
        "id": "F1Y40Nn54XSN"
      }
    },
    {
      "cell_type": "markdown",
      "source": [
        "- 동시에 CPU를 여러 개 사용"
      ],
      "metadata": {
        "id": "P7gm5_Tw4Y7X"
      }
    },
    {
      "cell_type": "code",
      "source": [
        "#Code12-13.py\n",
        "import multiprocessing\n",
        "import time\n",
        "\n",
        "## 클래스 선언 부분 ##\n",
        "class RacingCar :\n",
        "  carName = ''\n",
        "  def __init__(self, name) :\n",
        "    self.carName = name\n",
        "\n",
        "  def runCar(self) :\n",
        "    for _ in range(0, 3) :\n",
        "      carStr = self.carName + '~~달립니다.\\n'\n",
        "      print(carStr, end = '')\n",
        "      time.sleep(0.1) # 0.1초 멈춤\n",
        "\n",
        "## 메인 코드 부분 ##\n",
        "if __name__==\"__main__\" :\n",
        "  car1 = RacingCar('@자동차1')\n",
        "  car2 = RacingCar('#자동차2')\n",
        "  car3 = RacingCar('$자동차3')\n",
        "\n",
        "  mp1 = multiprocessing.Process(target = car1.runCar)\n",
        "  # multiprocessing.Process(target = 메서드 또는 함수, args = (매개변수)형식 사용 스레드 생성)\n",
        "  mp2 = multiprocessing.Process(target = car2.runCar)\n",
        "  mp3 = multiprocessing.Process(target = car3.runCar)\n",
        "\n",
        "  mp1.start() # 프로세스 시작\n",
        "  mp2.start()\n",
        "  mp3.start()\n",
        "\n",
        "  mp1.join()\n",
        "  mp2.join()\n",
        "  mp3.join()"
      ],
      "metadata": {
        "colab": {
          "base_uri": "https://localhost:8080/"
        },
        "id": "N4h9CGGx4bvy",
        "outputId": "5bc99925-5e34-4e74-b5f1-c4d663eed8af"
      },
      "execution_count": 16,
      "outputs": [
        {
          "output_type": "stream",
          "name": "stdout",
          "text": [
            "@자동차1~~달립니다.\n",
            "#자동차2~~달립니다.\n",
            "$자동차3~~달립니다.\n",
            "@자동차1~~달립니다.\n",
            "#자동차2~~달립니다.\n",
            "$자동차3~~달립니다.\n",
            "@자동차1~~달립니다.\n",
            "#자동차2~~달립니다.\n",
            "$자동차3~~달립니다.\n"
          ]
        }
      ]
    }
  ]
}
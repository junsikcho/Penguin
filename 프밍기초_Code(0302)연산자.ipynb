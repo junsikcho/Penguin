{
  "nbformat": 4,
  "nbformat_minor": 0,
  "metadata": {
    "colab": {
      "provenance": [],
      "gpuType": "T4",
      "authorship_tag": "ABX9TyMSDW2exCEvCdSWpzaVzv1o",
      "include_colab_link": true
    },
    "kernelspec": {
      "name": "python3",
      "display_name": "Python 3"
    },
    "language_info": {
      "name": "python"
    },
    "accelerator": "GPU"
  },
  "cells": [
    {
      "cell_type": "markdown",
      "metadata": {
        "id": "view-in-github",
        "colab_type": "text"
      },
      "source": [
        "<a href=\"https://colab.research.google.com/github/junsikcho/Penguin/blob/main/%ED%94%84%EB%B0%8D%EA%B8%B0%EC%B4%88_Code(0302)%EC%97%B0%EC%82%B0%EC%9E%90.ipynb\" target=\"_parent\"><img src=\"https://colab.research.google.com/assets/colab-badge.svg\" alt=\"Open In Colab\"/></a>"
      ]
    },
    {
      "cell_type": "code",
      "execution_count": 7,
      "metadata": {
        "colab": {
          "base_uri": "https://localhost:8080/"
        },
        "id": "3jrsqC_3CwhL",
        "outputId": "c52174ef-f42c-447f-ef3a-75b659018508"
      },
      "outputs": [
        {
          "output_type": "stream",
          "name": "stdout",
          "text": [
            "False True False True False True\n"
          ]
        },
        {
          "output_type": "execute_result",
          "data": {
            "text/plain": [
              "True"
            ]
          },
          "metadata": {},
          "execution_count": 7
        }
      ],
      "source": [
        "'''\n",
        "관계 연산자 및 논리 연산자\n",
        "1) 관계 연산자와 논리 연산자의 차이를 구분할 수 있다.\n",
        "2) 관계와 논리를 활용한 조건문을 작성할 수 있다.\n",
        "'''\n",
        "\n",
        "#관계 연산자의 개념\n",
        "'''\n",
        "1) 어떤 것이 크거나 작거나 같은지 비교하는 것(참은 True로, 거짓은 False로 표시)\n",
        "2) 주로 조건문(if)이나 반복문(while)에서 사용, 단독으로는 거의 사용하지 않음\n",
        "수체계(입력처리대상) => 참,거짓(출력결과물)\n",
        "\n",
        "-관계 연산자의 종류\n",
        "== 같다. (두 값이 동일하면 참)\n",
        "!= 같지 않다. (두 값이 다르면 참)\n",
        ">, <, >=, <= 등이 있음.\n",
        "'''\n",
        "\n",
        "a, b = 100, 200\n",
        "print(a ==b, a!=b, a>b, a<b, a>=b, a<=b) # a==b를 보면 100이 200과 같다는 의미이므로 결과는 거짓(False)\n",
        "\n",
        "# print(a = b)  잘못된 표현\n",
        "# a=b (배정연산) , a==b (관계연산), a=b는 b값을 a에 대입하라는 의미이지 관계 연산자가 아님.\n",
        "\n",
        "#논리 연산자의 종류와 사용\n",
        "'''\n",
        "1) and(그리고): 둘 다 참이어야 참 , or(또는): 둘 중 하나만 참이어도 참 , not(부정): 참이면 거짓, 거짓이면 참 세 가지 종류\n",
        "'''\n",
        "\n",
        "(a>100) and (a<200) #  a라는 값이 100과 200 사이에 들어 있어야 한다는 조건 표현\n",
        "\n",
        "a=99\n",
        "(a>100) and (a<200)\n",
        "(a>100) or (a<200)\n",
        "not(a == 100)"
      ]
    },
    {
      "cell_type": "code",
      "source": [
        "a=99\n",
        "(a> 100) and (a<200)"
      ],
      "metadata": {
        "colab": {
          "base_uri": "https://localhost:8080/"
        },
        "id": "f1cjpXXTFrN2",
        "outputId": "472931bf-1962-4231-c373-7f687174d905"
      },
      "execution_count": 13,
      "outputs": [
        {
          "output_type": "execute_result",
          "data": {
            "text/plain": [
              "False"
            ]
          },
          "metadata": {},
          "execution_count": 13
        }
      ]
    },
    {
      "cell_type": "code",
      "source": [
        "(a>100) or (a<200)"
      ],
      "metadata": {
        "colab": {
          "base_uri": "https://localhost:8080/"
        },
        "id": "LfFUGKWtF7RR",
        "outputId": "49341087-9f84-4d91-d1fb-50a6883bed0d"
      },
      "execution_count": 11,
      "outputs": [
        {
          "output_type": "execute_result",
          "data": {
            "text/plain": [
              "True"
            ]
          },
          "metadata": {},
          "execution_count": 11
        }
      ]
    },
    {
      "cell_type": "code",
      "source": [
        "not(a == 100)"
      ],
      "metadata": {
        "colab": {
          "base_uri": "https://localhost:8080/"
        },
        "id": "Vdiu2ju5F6am",
        "outputId": "6fb88989-8649-4d7b-9650-b62f216aa7ab"
      },
      "execution_count": 12,
      "outputs": [
        {
          "output_type": "execute_result",
          "data": {
            "text/plain": [
              "True"
            ]
          },
          "metadata": {},
          "execution_count": 12
        }
      ]
    },
    {
      "cell_type": "code",
      "source": [
        "if(1234) : print(\"참이면 보여요\") # 각 행의 끝에서 엔터를 2번 눌러야 하고, 첫 번째 1234는 참으로 취급하므로 결과 출력됨.\n",
        "if(0) : print(\"거짓이면 안보여요\") # 두 번째 0은 거짓이므로 결과가 출력되지 않고, 결론적으로 0은 False, 그 외의 숫자는 모두 True"
      ],
      "metadata": {
        "colab": {
          "base_uri": "https://localhost:8080/"
        },
        "id": "H8uKAuk6GCjF",
        "outputId": "53a5a579-7c61-461f-f4a1-6b1d09e2e506"
      },
      "execution_count": 15,
      "outputs": [
        {
          "output_type": "stream",
          "name": "stdout",
          "text": [
            "참이면 보여요\n"
          ]
        }
      ]
    },
    {
      "cell_type": "code",
      "source": [
        "'''\n",
        "if 조건식 :\n",
        "  참일 때 수행\n",
        "else :\n",
        "  거짓일 때 수행\n",
        "'''"
      ],
      "metadata": {
        "id": "vKGyBZPEGv1w"
      },
      "execution_count": null,
      "outputs": []
    },
    {
      "cell_type": "code",
      "source": [
        "from posixpath import curdir\n",
        "# 마음대로 이동하는 거북이 프로그램 구현\n",
        "import turtle\n",
        "import random\n",
        "\n",
        "## 전역 변수 선언 부분 ##\n",
        "swidth, sheight, pSize, exitCount = 300, 300, 3, 0\n",
        "r, g, b, angle, dist, curX, curY = [0] * 7 # 초기화\n",
        "\n",
        "## 메인 코드 부분 ## (창의 제목, 거북이 모양, 펜 두께, 윈도창 크기, 안쪽 화면 크기 지정)\n",
        "turtle.title('거북이가 맘대로 다니기')\n",
        "turtle.shape('turtle')\n",
        "turtle.pensize(pSize)\n",
        "turtle.setup(width = swidth + 30, height = sheight + 30)\n",
        "turtle.screensize(swidth, sheight)\n",
        "\n",
        "while True : # while True : 문장으로 무한 반복\n",
        "  r = random.random() # 임의의 색상 설정\n",
        "  g = random.random()\n",
        "  b = random.random()\n",
        "  turtle.pencolor((r, g, b))\n",
        "\n",
        "  angle = random.randrange(0, 360) # 임의의 각도 설정\n",
        "  dist = random.randrange(1, 100) # 임의의 거리 설정\n",
        "  turtle.left(angle) # 각도 설정 후 거리만큼 이동\n",
        "  turtle.forward(dist) # 각도 설정 후 거리만큼 이동\n",
        "  curX = turtle.xcor() # 현재 x좌표\n",
        "  curY = turtle.ycor() # 현재 y좌표\n",
        "\n",
        "  if (-swidth / 2 <= curX and curX <= swidth / 2) and (-sheight / 2 <= curY and curY <= sheight / 2) : # 거북이의 현재 위치가 화면 안인지 체크, 터틀 그래픽의 좌표는 중앙이(0,0)\n",
        "    pass # pass 실행해서 if문을 그냥 종료하고 다시 while문 수행이 범위를 벗어난다면 30 ~ 37행을 수행\n",
        "  else :\n",
        "    turtle.penup() # 펜 사용X\n",
        "    turtle.goto(0,0) # 화면의 중앙으로 이동\n",
        "    turtle.pendown() # 다시 펜 사용\n"
      ],
      "metadata": {
        "id": "yoOyQfaWGxfG"
      },
      "execution_count": null,
      "outputs": []
    }
  ]
}
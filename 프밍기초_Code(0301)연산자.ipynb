{
  "nbformat": 4,
  "nbformat_minor": 0,
  "metadata": {
    "colab": {
      "provenance": []
    },
    "kernelspec": {
      "name": "python3",
      "display_name": "Python 3"
    },
    "language_info": {
      "name": "python"
    }
  },
  "cells": [
    {
      "cell_type": "code",
      "execution_count": 6,
      "metadata": {
        "colab": {
          "base_uri": "https://localhost:8080/"
        },
        "id": "hEZRK06XrKsz",
        "outputId": "0ae8172f-3fc7-4f59-c80b-2803a7228ece"
      },
      "outputs": [
        {
          "output_type": "stream",
          "name": "stdout",
          "text": [
            "8 2 15 1.6666666666666667 1 2 125\n",
            "1 14 1.5\n",
            "101 101.123 100000000000000000\n",
            "15\n",
            "10\n",
            "50\n",
            "10.0\n",
            "2.0\n",
            "2.0\n",
            "32.0\n",
            "교환할 돈은 얼마?7777\n",
            "n\\ 500원짜리 => 15개\n",
            "100원짜리 => 2개\n",
            "50원짜리 => 1개\n",
            "10원짜리 => 2개\n",
            "바꾸지 못한 잔돈 => 7원 \n",
            "\n",
            "지폐로 교환할 돈을 얼마?777777\n",
            "\n",
            " 50000원짜리 => 15개\n",
            "\n",
            " 10000원짜리 => 2개\n",
            "\n",
            " 5000원짜리 => 1개\n",
            "\n",
            " 1000원짜리 => 2개\n",
            " 바꾸지 못한 잔돈 => 777원 \n",
            "\n"
          ]
        }
      ],
      "source": [
        "'''\n",
        "0301 1) 동전교환프로그램 2) 마음대로 이동하는 거북이\n",
        "'''\n",
        "# ;(세미콜론)은 python에서 줄바꿈과 동일함. (마침표 역할도 가능)\n",
        "a = 5; b = 3\n",
        "print(a+b, a-b, a*b, a/b, a//b, a%b, a**b)\n",
        "\n",
        "#산술 연산자의 우선순위 1)괄호 2)곱셈 3) 덧셈,뺄셈\n",
        "a, b, c = 2, 3, 4\n",
        "print(a+b-c, a+b*c, a*b/c)\n",
        "\n",
        "'''(PLUS)\n",
        "1) a = b + c* d;\n",
        "2) a = b + (c* d);\n",
        "1번처럼 작성하면 우선순위 때문에 종종 혼란스럽게 느껴지니 2번처럼 괄호사용해서 작성\n",
        "'''\n",
        "\n",
        "'''\n",
        "산술 연산자 : 수체계 대상(실수, 정수)으로 한 연산\n",
        "문자열 -> 산술연산 불가능 -> 형변화(ex. int(), float())를 한 후 산술 연산 가능\n",
        "'''\n",
        "s1, s2, s3 = \"100\", \"100.123\", \"99999999999999999\"\n",
        "print(int(s1)+1, float(s2)+1, int(s3)+1) #int()함수로 문자열->정수 변환 / float()함수로 문자열->실수 변환\n",
        "\n",
        "\n",
        "a = 100; b= 100.123\n",
        "str(a) + '1', str(b) + '1' ##숫자를 문자열로 변환하려면 str()함수 사용 Ex) 3.14(실수) -> \"3.14\"(str(3.14))\n",
        "# a, b가 문자열로 변경되어 100+1이 아닌 문자열의 연결인 '1001'과 '100.1231'이 된거임.\n",
        "# print()함수는 출력 결과에 작은따옴표가 없어 문자열인지 구분하기가 어려워 사용하지 않음.\n",
        "\n",
        "\n",
        "#산술 연산자와 대입 연산자\n",
        "'''\n",
        "=외에도 +=, -=, *=등 사용\n",
        "Ex) a+=3 -> a=a+3과 동일 / a-=3 -> a=a-3과 동일 / a*=3 -> a=a*3과 동일 / a/=3 -> a=a/3과 동일\n",
        "파이썬에는 C/C++, 자바 등의 언어에 있는 증가 연산자 ++나 감소 연산자--가 없음\n",
        "'''\n",
        "# a가 10에서 시작해 프로그램이 진행될수록 값이 누적\n",
        "a = 10\n",
        "a +=5; print(a) # =15\n",
        "a -=5; print(a) # =10\n",
        "a *=5; print(a) # =50\n",
        "a /=5; print(a) # =10\n",
        "a //=5; print(a) # =2\n",
        "a %=5; print(a) # =2\n",
        "a **=5; print(a) # =2^5 =32\n",
        "\n",
        "\n",
        "# 1) 동전교환프로그램 (학습한 연산자를 활용해서 동전 교환 프로그램 구현)\n",
        "## 변수 선언 부분 ##\n",
        "money, c500, c100, c50, c10 = 0, 0, 0, 0, 0 # 동전으로 교환할 돈과 500,100,50,10원짜리 동전의 개수를 저장할 변수 초기화\n",
        "\n",
        "## 메인 코드 부분 ##\n",
        "money = int(input(\"교환할 돈은 얼마?\"))\n",
        "\n",
        "c500 = money // 500 # 500원짜리 동전의 개수를 구함 ( //: 정수 나눈 몫 , %: 정수 나눈 몫 나머지)\n",
        "money %= 500 # 다시 money를 500으로 나눈 후 나머지 값 저장. (money %=500은 money=money%500과 동일)\n",
        "\n",
        "c100 = money // 100\n",
        "money %= 100 # 100원 짜리 동전 구하기\n",
        "\n",
        "c50 = money // 50\n",
        "money %= 50 # 50원 짜리 동전 구하기\n",
        "\n",
        "c10 = money // 10\n",
        "money %= 10 #10원 짜리 동전 구하기\n",
        "\n",
        "print(\"n\\ 500원짜리 => %d개\" % c500) # n\\는 줄바꿈 문자 (띄기)\n",
        "print(\"100원짜리 => %d개\" % c100)\n",
        "print(\"50원짜리 => %d개\" % c50)\n",
        "print(\"10원짜리 => %d개\" % c10)\n",
        "print(\"바꾸지 못한 잔돈 => %d원 \\n\" %money)\n",
        "\n",
        "# Self Study (지폐교환프로그램)\n",
        "## 변수 선언 부분 ##\n",
        "money, c50000, c10000, c5000, c1000 =0, 0, 0, 0, 0\n",
        "\n",
        "## 메인 코드 부분 ##\n",
        "money = int(input(\"지폐로 교환할 돈을 얼마?\"))\n",
        "\n",
        "c50000 = money // 50000 # //는 정수 나눈 몫\n",
        "money %= 50000 # %는 정수 나눈 몫 나머지\n",
        "\n",
        "c10000 = money // 10000\n",
        "money %= 10000\n",
        "\n",
        "c5000 = money // 5000\n",
        "money %= 5000\n",
        "\n",
        "c1000 = money // 1000\n",
        "money %= 1000\n",
        "\n",
        "print(\"\\n 50000원짜리 => %d개\" % c50000)\n",
        "print(\"\\n 10000원짜리 => %d개\" % c10000)\n",
        "print(\"\\n 5000원짜리 => %d개\" % c5000)\n",
        "print(\"\\n 1000원짜리 => %d개\" % c1000)\n",
        "print(\" 바꾸지 못한 잔돈 => %d원 \\n\" %money)"
      ]
    },
    {
      "cell_type": "code",
      "source": [
        "echo \"# OMOK\" >> README.md\n",
        "git init\n",
        "git add README.md\n",
        "git commit -m \"first commit\"\n",
        "git branch -M main\n",
        "git remote add origin git@github.com:junsikcho/OMOK.git\n",
        "git push -u origin main"
      ],
      "metadata": {
        "colab": {
          "base_uri": "https://localhost:8080/",
          "height": 110
        },
        "id": "ZYUwlO0r8fPi",
        "outputId": "968eeaca-acf6-4ae0-a1e3-3f3e9cfed098"
      },
      "execution_count": 27,
      "outputs": [
        {
          "output_type": "error",
          "ename": "SyntaxError",
          "evalue": "invalid syntax (<ipython-input-27-9c52ad897810>, line 1)",
          "traceback": [
            "\u001b[0;36m  File \u001b[0;32m\"<ipython-input-27-9c52ad897810>\"\u001b[0;36m, line \u001b[0;32m1\u001b[0m\n\u001b[0;31m    echo \"# OMOK\" >> README.md\u001b[0m\n\u001b[0m         ^\u001b[0m\n\u001b[0;31mSyntaxError\u001b[0m\u001b[0;31m:\u001b[0m invalid syntax\n"
          ]
        }
      ]
    }
  ]
}
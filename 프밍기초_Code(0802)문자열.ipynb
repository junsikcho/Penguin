{
  "nbformat": 4,
  "nbformat_minor": 0,
  "metadata": {
    "colab": {
      "provenance": [],
      "authorship_tag": "ABX9TyNaypr3Gwujd1CAyUIvCP6z",
      "include_colab_link": true
    },
    "kernelspec": {
      "name": "python3",
      "display_name": "Python 3"
    },
    "language_info": {
      "name": "python"
    }
  },
  "cells": [
    {
      "cell_type": "markdown",
      "metadata": {
        "id": "view-in-github",
        "colab_type": "text"
      },
      "source": [
        "<a href=\"https://colab.research.google.com/github/junsikcho/Programming-Basics/blob/main/%ED%94%84%EB%B0%8D%EA%B8%B0%EC%B4%88_Code(0802)%EB%AC%B8%EC%9E%90%EC%97%B4.ipynb\" target=\"_parent\"><img src=\"https://colab.research.google.com/assets/colab-badge.svg\" alt=\"Open In Colab\"/></a>"
      ]
    },
    {
      "cell_type": "markdown",
      "source": [
        "# 문자열"
      ],
      "metadata": {
        "id": "U1iy9O6QP5tM"
      }
    },
    {
      "cell_type": "markdown",
      "source": [
        "# 문자열 함수\n",
        "- 문자열 관련 기본 함수를 활용하여 문자열의 형태를 변환할 수 있다.\n",
        "- 특정 문자의 위치를 찾고, 문자열의 구성 요소를 확인하는 함수의 사용법을 설명할 수 있다."
      ],
      "metadata": {
        "id": "9Un6WfTdQBIX"
      }
    },
    {
      "cell_type": "markdown",
      "source": [
        "# 문자열 함수의 사용"
      ],
      "metadata": {
        "id": "oIs9NF_MQO2N"
      }
    },
    {
      "cell_type": "markdown",
      "source": [
        "- 대문자와 소문자 변환하기 upper(), lower(), swapcase(), title()"
      ],
      "metadata": {
        "id": "wqhTDzBwQVUf"
      }
    },
    {
      "cell_type": "code",
      "source": [
        "ss = 'Python is Easy. 그래서 programming이 재미있습니다.^^'\n",
        "ss.upper()"
      ],
      "metadata": {
        "colab": {
          "base_uri": "https://localhost:8080/",
          "height": 35
        },
        "id": "P8GmyjW-RGMg",
        "outputId": "116f432d-f703-41b4-cf1a-64f20f39ae13"
      },
      "execution_count": null,
      "outputs": [
        {
          "output_type": "execute_result",
          "data": {
            "text/plain": [
              "'PYTHON IS EASY. 그래서 PROGRAMMING이 재미있습니다.^^'"
            ],
            "application/vnd.google.colaboratory.intrinsic+json": {
              "type": "string"
            }
          },
          "metadata": {},
          "execution_count": 4
        }
      ]
    },
    {
      "cell_type": "code",
      "source": [
        "ss.lower()"
      ],
      "metadata": {
        "colab": {
          "base_uri": "https://localhost:8080/",
          "height": 35
        },
        "id": "kkUHkRVcRD6Q",
        "outputId": "6c237f3c-f1e5-417a-e5b8-d44e2f0179f9"
      },
      "execution_count": null,
      "outputs": [
        {
          "output_type": "execute_result",
          "data": {
            "text/plain": [
              "'python is easy. 그래서 programming이 재미있습니다.^^'"
            ],
            "application/vnd.google.colaboratory.intrinsic+json": {
              "type": "string"
            }
          },
          "metadata": {},
          "execution_count": 5
        }
      ]
    },
    {
      "cell_type": "code",
      "source": [
        "ss.swapcase()"
      ],
      "metadata": {
        "colab": {
          "base_uri": "https://localhost:8080/",
          "height": 35
        },
        "id": "As0gPgOXRIWW",
        "outputId": "e08f8529-4202-4b41-8c00-3cc9be8097cb"
      },
      "execution_count": null,
      "outputs": [
        {
          "output_type": "execute_result",
          "data": {
            "text/plain": [
              "'pYTHON IS eASY. 그래서 PROGRAMMING이 재미있습니다.^^'"
            ],
            "application/vnd.google.colaboratory.intrinsic+json": {
              "type": "string"
            }
          },
          "metadata": {},
          "execution_count": 6
        }
      ]
    },
    {
      "cell_type": "code",
      "source": [
        "ss.title()"
      ],
      "metadata": {
        "colab": {
          "base_uri": "https://localhost:8080/",
          "height": 35
        },
        "id": "TDJ1m6KARKMk",
        "outputId": "b5190329-b7e9-4d50-d628-f9a5a237e400"
      },
      "execution_count": null,
      "outputs": [
        {
          "output_type": "execute_result",
          "data": {
            "text/plain": [
              "'Python Is Easy. 그래서 Programming이 재미있습니다.^^'"
            ],
            "application/vnd.google.colaboratory.intrinsic+json": {
              "type": "string"
            }
          },
          "metadata": {},
          "execution_count": 7
        }
      ]
    },
    {
      "cell_type": "markdown",
      "source": [
        "1. 함수(Function)와 메서드(Method)의 차이점\n",
        "- 함수는 단독 사용\n",
        "- 메서드는 문자열 자료형에 그 기능이 들어 있기 때문에 \"변수명, 메서드()\" 형식 사용"
      ],
      "metadata": {
        "id": "GRnD5ouhRRwl"
      }
    },
    {
      "cell_type": "markdown",
      "source": [
        "문자열 찾기\n",
        "- count(), find(), rfind(), index(), rindex(), startswith(), endswith()"
      ],
      "metadata": {
        "id": "1slRMSpfRtKv"
      }
    },
    {
      "cell_type": "code",
      "source": [
        "ss = '파이썬 공부는 즐겁습니다. 물론 모든 공부가 다 재미있지는 않죠. ^^'\n",
        "ss.count('공부')"
      ],
      "metadata": {
        "colab": {
          "base_uri": "https://localhost:8080/"
        },
        "id": "xiKdLQkcR7E-",
        "outputId": "6d8eb599-1124-45d7-8e24-6865f8f366be"
      },
      "execution_count": null,
      "outputs": [
        {
          "output_type": "execute_result",
          "data": {
            "text/plain": [
              "2"
            ]
          },
          "metadata": {},
          "execution_count": 8
        }
      ]
    },
    {
      "cell_type": "code",
      "source": [
        "print(ss.find('공부'), ss.rfind('공부'), ss.find('공부', 5), ss.find('없다'))"
      ],
      "metadata": {
        "colab": {
          "base_uri": "https://localhost:8080/"
        },
        "id": "XD4uc-K0SGKZ",
        "outputId": "fef92017-483b-46c8-e3b0-d7a012e5f13c"
      },
      "execution_count": null,
      "outputs": [
        {
          "output_type": "stream",
          "name": "stdout",
          "text": [
            "4 21 21 -1\n"
          ]
        }
      ]
    },
    {
      "cell_type": "code",
      "source": [
        "print(ss.index('공부'), ss.rindex('공부'), ss.index('공부',5))"
      ],
      "metadata": {
        "colab": {
          "base_uri": "https://localhost:8080/"
        },
        "id": "x7Yb53BFSvhm",
        "outputId": "547daa9d-90e9-47d8-b772-c85eab563644"
      },
      "execution_count": null,
      "outputs": [
        {
          "output_type": "stream",
          "name": "stdout",
          "text": [
            "4 21 21\n"
          ]
        }
      ]
    },
    {
      "cell_type": "code",
      "source": [
        "print(ss.startswith('파이썬'), ss.startswith('파이썬', 10), ss.endswith('^^'))"
      ],
      "metadata": {
        "colab": {
          "base_uri": "https://localhost:8080/"
        },
        "id": "um9iwiJpTIaz",
        "outputId": "fdf2d3bc-6cb1-4f9f-f770-068566ad704e"
      },
      "execution_count": null,
      "outputs": [
        {
          "output_type": "stream",
          "name": "stdout",
          "text": [
            "True False True\n"
          ]
        }
      ]
    },
    {
      "cell_type": "markdown",
      "source": [
        "문자열 함수의 사용\n",
        "- 문자열이 괄호로 감싸 있지 않으면 괄호로 감싸 주는 프로그램"
      ],
      "metadata": {
        "id": "7wiF4glvTfrT"
      }
    },
    {
      "cell_type": "code",
      "source": [
        "ss = input(\"입력 문자열 ==> \") # 문자열 입력\n",
        "print(\"출력 문자열 ==>\", end ='')\n",
        "\n",
        "if ss.startswith('(') == False : # 문자열의 시작이 (가 아니면 (를 우선 출력\n",
        "  print(\"(\", end = '')\n",
        "\n",
        "print(ss, end = '') # 입력한 문자열을 그대로 출력\n",
        "\n",
        "if ss.endswith(')') == False : # 문자열의 끝이 )가 아니면 )를 우선 출력\n",
        "  print(\")\", end = '')"
      ],
      "metadata": {
        "colab": {
          "base_uri": "https://localhost:8080/"
        },
        "id": "89dyw8D-ToWY",
        "outputId": "04cf4c92-4ca4-44b3-9e55-e8ccfbe86816"
      },
      "execution_count": null,
      "outputs": [
        {
          "output_type": "stream",
          "name": "stdout",
          "text": [
            "입력 문자열 ==> 파이썬 열공 중~~\n",
            "출력 문자열 ==>(파이썬 열공 중~~)"
          ]
        }
      ]
    },
    {
      "cell_type": "markdown",
      "source": [
        "문자열 함수의 사용\n",
        "- 문자열 공백 삭제 / 변경하기  strip(), rstrip(), lstrip(), replace()"
      ],
      "metadata": {
        "id": "a1oj029lUyc1"
      }
    },
    {
      "cell_type": "code",
      "source": [
        "ss = ' 파 이 썬 '\n",
        "ss.strip()"
      ],
      "metadata": {
        "colab": {
          "base_uri": "https://localhost:8080/",
          "height": 35
        },
        "id": "UoSuZmWwVA95",
        "outputId": "562afbf4-e067-4913-ee71-1fd87d0a5968"
      },
      "execution_count": null,
      "outputs": [
        {
          "output_type": "execute_result",
          "data": {
            "text/plain": [
              "'파 이 썬'"
            ],
            "application/vnd.google.colaboratory.intrinsic+json": {
              "type": "string"
            }
          },
          "metadata": {},
          "execution_count": 21
        }
      ]
    },
    {
      "cell_type": "code",
      "source": [
        "ss.rstrip()"
      ],
      "metadata": {
        "colab": {
          "base_uri": "https://localhost:8080/",
          "height": 35
        },
        "id": "myVIR1xsVJKU",
        "outputId": "481867de-e164-40df-e512-0921ab1f812a"
      },
      "execution_count": null,
      "outputs": [
        {
          "output_type": "execute_result",
          "data": {
            "text/plain": [
              "' 파 이 썬'"
            ],
            "application/vnd.google.colaboratory.intrinsic+json": {
              "type": "string"
            }
          },
          "metadata": {},
          "execution_count": 22
        }
      ]
    },
    {
      "cell_type": "code",
      "source": [
        "ss.lstrip()"
      ],
      "metadata": {
        "colab": {
          "base_uri": "https://localhost:8080/",
          "height": 35
        },
        "id": "Jm-sqMqeU2VF",
        "outputId": "49fab203-5a8b-43fb-c501-53c95fdf7ae6"
      },
      "execution_count": null,
      "outputs": [
        {
          "output_type": "execute_result",
          "data": {
            "text/plain": [
              "'파 이 썬 '"
            ],
            "application/vnd.google.colaboratory.intrinsic+json": {
              "type": "string"
            }
          },
          "metadata": {},
          "execution_count": 24
        }
      ]
    },
    {
      "cell_type": "markdown",
      "source": [],
      "metadata": {
        "id": "uU14o1BLWz1v"
      }
    },
    {
      "cell_type": "markdown",
      "source": [
        "문자열 함수의 사용\n",
        "- 앞뒤의 특정 문자 삭제"
      ],
      "metadata": {
        "id": "AgeAimssVYON"
      }
    },
    {
      "cell_type": "code",
      "source": [
        "ss = '------파------이-----썬-----'\n",
        "print(ss.strip('-'))\n",
        "ss = \"<<<파 << 이 >> 썬>>>\"\n",
        "print(ss.strip('<>'))"
      ],
      "metadata": {
        "id": "H05yvkbZVcJu",
        "colab": {
          "base_uri": "https://localhost:8080/"
        },
        "outputId": "3da8e510-220a-456a-c65d-18f151616115"
      },
      "execution_count": 1,
      "outputs": [
        {
          "output_type": "stream",
          "name": "stdout",
          "text": [
            "파------이-----썬\n",
            "파 << 이 >> 썬\n"
          ]
        }
      ]
    },
    {
      "cell_type": "markdown",
      "source": [
        "문자열 함수의 사용\n",
        "- 문자열 중간의 공백까지 삭제해 주는 코드"
      ],
      "metadata": {
        "id": "0A4LG_E2niOk"
      }
    },
    {
      "cell_type": "code",
      "source": [
        "inStr =\" 한글 Python 프로그래밍 \"\n",
        "outStr = \"\"\n",
        "\n",
        "for i in range(0, len(inStr)) :\n",
        "  if inStr[i] != ' ' :\n",
        "    outStr += inStr[i]\n",
        "\n",
        "print(\"원래 문자열 ==>\" + '[' + inStr + ']')\n",
        "print(\"공백 삭제 문자열 ==> \" + '[' + outStr + ']')"
      ],
      "metadata": {
        "colab": {
          "base_uri": "https://localhost:8080/"
        },
        "id": "8vIOzhy7n3RZ",
        "outputId": "4c6cdc80-0666-4043-d186-df6bce1829cb"
      },
      "execution_count": 2,
      "outputs": [
        {
          "output_type": "stream",
          "name": "stdout",
          "text": [
            "원래 문자열 ==>[ 한글 Python 프로그래밍 ]\n",
            "공백 삭제 문자열 ==> [한글Python프로그래밍]\n"
          ]
        }
      ]
    },
    {
      "cell_type": "markdown",
      "source": [
        "문자열 함수의 사용\n",
        "- 문자열 중간의 공백까지 삭제해 주는 코드"
      ],
      "metadata": {
        "id": "-vSzFglTp8Cn"
      }
    },
    {
      "cell_type": "code",
      "source": [
        "# SELF STUDY\n",
        "# '<<<파<<>>>>>>'이'파이썬으로 출력되도록 해보자\n",
        "ss = '열심히 파이썬 공부 중~~'\n",
        "ss.replace('파이썬', 'Python')"
      ],
      "metadata": {
        "colab": {
          "base_uri": "https://localhost:8080/",
          "height": 35
        },
        "id": "y0mGb4TkqqWd",
        "outputId": "3e731685-5f6b-4bf7-edf1-0e96a168aff0"
      },
      "execution_count": 3,
      "outputs": [
        {
          "output_type": "execute_result",
          "data": {
            "text/plain": [
              "'열심히 Python 공부 중~~'"
            ],
            "application/vnd.google.colaboratory.intrinsic+json": {
              "type": "string"
            }
          },
          "metadata": {},
          "execution_count": 3
        }
      ]
    },
    {
      "cell_type": "markdown",
      "source": [
        "문자열 함수의 사용\n",
        "- 문자열 입력받아 그중 o를 $로 변경하는 문자열 변경을 응용"
      ],
      "metadata": {
        "id": "5AxOnVkjrGQr"
      }
    },
    {
      "cell_type": "code",
      "source": [
        "ss = input(\"입력 문자열 ==> \")\n",
        "\n",
        "print(\"출력 문자열 ==>\", end = '')\n",
        "for i in range(0, len(ss)) :\n",
        "  if ss[i] != 'o' :\n",
        "    print(ss[i], end = '')\n",
        "  else :\n",
        "    print(\"$\", end = '')\n",
        "# print(ss.replace('o', '$'))"
      ],
      "metadata": {
        "colab": {
          "base_uri": "https://localhost:8080/"
        },
        "id": "f2WHVvDfrV3Q",
        "outputId": "ca7260f1-542f-4101-950b-75ea1c704ec5"
      },
      "execution_count": 5,
      "outputs": [
        {
          "output_type": "stream",
          "name": "stdout",
          "text": [
            "입력 문자열 ==> IT CookBook for Python\n",
            "출력 문자열 ==>IT C$$kB$$k f$r Pyth$n"
          ]
        }
      ]
    },
    {
      "cell_type": "markdown",
      "source": [
        "문자열 함수의 사용\n",
        "- 문자열 분리 / 결합하기 ( split(), splitlines(), join() )"
      ],
      "metadata": {
        "id": "YnOjpg9OsFEJ"
      }
    },
    {
      "cell_type": "code",
      "source": [
        "ss = 'Python을 열심히 공부 중'\n",
        "ss.split()"
      ],
      "metadata": {
        "colab": {
          "base_uri": "https://localhost:8080/"
        },
        "id": "2a2GYUa8sP1U",
        "outputId": "f0ce780d-6333-4488-f4e3-43a533ee88bf"
      },
      "execution_count": 8,
      "outputs": [
        {
          "output_type": "execute_result",
          "data": {
            "text/plain": [
              "['Python을', '열심히', '공부', '중']"
            ]
          },
          "metadata": {},
          "execution_count": 8
        }
      ]
    },
    {
      "cell_type": "code",
      "source": [
        "ss = '하나 : 둘 : 셋'\n",
        "ss.split(':')"
      ],
      "metadata": {
        "colab": {
          "base_uri": "https://localhost:8080/"
        },
        "id": "7X8xTL38so3c",
        "outputId": "188210ca-171c-407d-f2ba-e0825c23b04a"
      },
      "execution_count": 12,
      "outputs": [
        {
          "output_type": "execute_result",
          "data": {
            "text/plain": [
              "['하나 ', ' 둘 ', ' 셋']"
            ]
          },
          "metadata": {},
          "execution_count": 12
        }
      ]
    },
    {
      "cell_type": "code",
      "source": [
        "ss = '하나\\n둘\\n셋'\n",
        "ss.splitlines()"
      ],
      "metadata": {
        "colab": {
          "base_uri": "https://localhost:8080/"
        },
        "id": "hSskMmy3s1Im",
        "outputId": "43ba2b29-b387-4e19-93cf-91be46096dad"
      },
      "execution_count": 16,
      "outputs": [
        {
          "output_type": "execute_result",
          "data": {
            "text/plain": [
              "['하나', '둘', '셋']"
            ]
          },
          "metadata": {},
          "execution_count": 16
        }
      ]
    },
    {
      "cell_type": "code",
      "source": [
        "ss = '%'\n",
        "ss.join('파이썬')"
      ],
      "metadata": {
        "colab": {
          "base_uri": "https://localhost:8080/",
          "height": 35
        },
        "id": "sbngOfritBXQ",
        "outputId": "84897180-d70b-4f90-b3da-bfb182084930"
      },
      "execution_count": 18,
      "outputs": [
        {
          "output_type": "execute_result",
          "data": {
            "text/plain": [
              "'파%이%썬'"
            ],
            "application/vnd.google.colaboratory.intrinsic+json": {
              "type": "string"
            }
          },
          "metadata": {},
          "execution_count": 18
        }
      ]
    },
    {
      "cell_type": "markdown",
      "source": [
        "문자열 함수의 사용\n",
        "- 연 / 월 / 일 형식으로 문자열을 입력받아 10년 후 날짜를 출력하는 코드"
      ],
      "metadata": {
        "id": "51T0m5r5sr3s"
      }
    },
    {
      "cell_type": "code",
      "source": [
        "ss = input(\"날짜(연/월/일) 입력 ==> \")\n",
        "\n",
        "ssList = ss.split('/')\n",
        "\n",
        "print(\"입력한 날짜의 10년 후 ==>\", end = '')\n",
        "print(str(int(ssList[0]) + 10) + \"년\", end ='')\n",
        "print(ssList[1] + \"월\", end = '')\n",
        "print(ssList[2] + \"일\")"
      ],
      "metadata": {
        "colab": {
          "base_uri": "https://localhost:8080/"
        },
        "id": "7tgkuSFXtL-3",
        "outputId": "668c897e-48da-4dd2-c9fa-9d5df6fbfbaa"
      },
      "execution_count": 20,
      "outputs": [
        {
          "output_type": "stream",
          "name": "stdout",
          "text": [
            "날짜(연/월/일) 입력 ==> 2019/12/31\n",
            "입력한 날짜의 10년 후 ==>2029년12월31일\n"
          ]
        }
      ]
    },
    {
      "cell_type": "markdown",
      "source": [
        "문자열 함수의 사용\n",
        "- 함수명에 대입하기 : map() 함수"
      ],
      "metadata": {
        "id": "v-m_2lnNt03D"
      }
    },
    {
      "cell_type": "code",
      "source": [
        "before = ['2019', '12', '31']\n",
        "after = list(map(int, before))\n",
        "after"
      ],
      "metadata": {
        "colab": {
          "base_uri": "https://localhost:8080/"
        },
        "id": "1Bs6gCLjt4eP",
        "outputId": "8ef3e0dd-490d-45a8-a64a-5df0355c78cf"
      },
      "execution_count": 21,
      "outputs": [
        {
          "output_type": "execute_result",
          "data": {
            "text/plain": [
              "[2019, 12, 31]"
            ]
          },
          "metadata": {},
          "execution_count": 21
        }
      ]
    },
    {
      "cell_type": "markdown",
      "source": [
        "문자열 함수의 사용\n",
        "- 문자열 정렬하기, 채우기 ( center(), ljust(), rjust(), zfill() )"
      ],
      "metadata": {
        "id": "0T62TFZsuFGW"
      }
    },
    {
      "cell_type": "code",
      "source": [
        "ss = '파이썬'\n",
        "ss.center(10)"
      ],
      "metadata": {
        "colab": {
          "base_uri": "https://localhost:8080/",
          "height": 35
        },
        "id": "PGYMdilzuPZ1",
        "outputId": "662c760c-09ac-4245-efa7-43dcb7282d9a"
      },
      "execution_count": 22,
      "outputs": [
        {
          "output_type": "execute_result",
          "data": {
            "text/plain": [
              "'   파이썬    '"
            ],
            "application/vnd.google.colaboratory.intrinsic+json": {
              "type": "string"
            }
          },
          "metadata": {},
          "execution_count": 22
        }
      ]
    },
    {
      "cell_type": "code",
      "source": [
        "ss.center(10, '-')"
      ],
      "metadata": {
        "colab": {
          "base_uri": "https://localhost:8080/",
          "height": 35
        },
        "id": "gJpfg6LduUud",
        "outputId": "eca90ef6-93d4-45db-a23b-f8e4d52c08ec"
      },
      "execution_count": 23,
      "outputs": [
        {
          "output_type": "execute_result",
          "data": {
            "text/plain": [
              "'---파이썬----'"
            ],
            "application/vnd.google.colaboratory.intrinsic+json": {
              "type": "string"
            }
          },
          "metadata": {},
          "execution_count": 23
        }
      ]
    },
    {
      "cell_type": "code",
      "source": [
        "ss.ljust(10)"
      ],
      "metadata": {
        "colab": {
          "base_uri": "https://localhost:8080/",
          "height": 35
        },
        "id": "9SQ89wUruYhJ",
        "outputId": "d955d252-7ea8-499b-879a-4919709f7f49"
      },
      "execution_count": 24,
      "outputs": [
        {
          "output_type": "execute_result",
          "data": {
            "text/plain": [
              "'파이썬       '"
            ],
            "application/vnd.google.colaboratory.intrinsic+json": {
              "type": "string"
            }
          },
          "metadata": {},
          "execution_count": 24
        }
      ]
    },
    {
      "cell_type": "code",
      "source": [
        "ss.rjust(10)"
      ],
      "metadata": {
        "colab": {
          "base_uri": "https://localhost:8080/",
          "height": 35
        },
        "id": "addPgkqnua2o",
        "outputId": "994ab314-a22f-45fb-91a8-4351039c1ddc"
      },
      "execution_count": 25,
      "outputs": [
        {
          "output_type": "execute_result",
          "data": {
            "text/plain": [
              "'       파이썬'"
            ],
            "application/vnd.google.colaboratory.intrinsic+json": {
              "type": "string"
            }
          },
          "metadata": {},
          "execution_count": 25
        }
      ]
    },
    {
      "cell_type": "code",
      "source": [
        "ss.zfill(10)"
      ],
      "metadata": {
        "colab": {
          "base_uri": "https://localhost:8080/",
          "height": 35
        },
        "id": "HUQ733L3ugeE",
        "outputId": "ac31ce98-f048-4a93-a45e-5d03d297354f"
      },
      "execution_count": 26,
      "outputs": [
        {
          "output_type": "execute_result",
          "data": {
            "text/plain": [
              "'0000000파이썬'"
            ],
            "application/vnd.google.colaboratory.intrinsic+json": {
              "type": "string"
            }
          },
          "metadata": {},
          "execution_count": 26
        }
      ]
    },
    {
      "cell_type": "markdown",
      "source": [
        "문자열 함수의 사용\n",
        "- 문자열 구성 파악하기\n",
        "- isdigit(), isalpha(), isalnum(), islower(), isupper(), isspace()"
      ],
      "metadata": {
        "id": "TCBi1BC4uJN9"
      }
    },
    {
      "cell_type": "code",
      "source": [
        "'1234'.isdigit()"
      ],
      "metadata": {
        "colab": {
          "base_uri": "https://localhost:8080/"
        },
        "id": "atDDVczPutdC",
        "outputId": "aee862ec-415e-4e34-db01-d64c11593e86"
      },
      "execution_count": 27,
      "outputs": [
        {
          "output_type": "execute_result",
          "data": {
            "text/plain": [
              "True"
            ]
          },
          "metadata": {},
          "execution_count": 27
        }
      ]
    },
    {
      "cell_type": "code",
      "source": [
        "'abcd'.isalpha()"
      ],
      "metadata": {
        "colab": {
          "base_uri": "https://localhost:8080/"
        },
        "id": "7WsYsOSpuxIA",
        "outputId": "21573646-d5df-4091-bfbf-c7a3d1de0c92"
      },
      "execution_count": 28,
      "outputs": [
        {
          "output_type": "execute_result",
          "data": {
            "text/plain": [
              "True"
            ]
          },
          "metadata": {},
          "execution_count": 28
        }
      ]
    },
    {
      "cell_type": "code",
      "source": [
        "'abc123'.isalnum()"
      ],
      "metadata": {
        "colab": {
          "base_uri": "https://localhost:8080/"
        },
        "id": "NJ2YmK-fuzzS",
        "outputId": "c7ea85a6-101b-4c7a-e579-4fa5e814497a"
      },
      "execution_count": 29,
      "outputs": [
        {
          "output_type": "execute_result",
          "data": {
            "text/plain": [
              "True"
            ]
          },
          "metadata": {},
          "execution_count": 29
        }
      ]
    },
    {
      "cell_type": "code",
      "source": [
        "'abcd'.islower()"
      ],
      "metadata": {
        "colab": {
          "base_uri": "https://localhost:8080/"
        },
        "id": "t-uEmU2du2oh",
        "outputId": "9da8cc22-be56-4612-9e50-9c06ce44ed06"
      },
      "execution_count": 30,
      "outputs": [
        {
          "output_type": "execute_result",
          "data": {
            "text/plain": [
              "True"
            ]
          },
          "metadata": {},
          "execution_count": 30
        }
      ]
    },
    {
      "cell_type": "code",
      "source": [
        "'ABCD'.isupper()"
      ],
      "metadata": {
        "colab": {
          "base_uri": "https://localhost:8080/"
        },
        "id": "Lu1gy-ifu5ou",
        "outputId": "b41d7597-000c-4359-d4ff-64d861160a31"
      },
      "execution_count": 31,
      "outputs": [
        {
          "output_type": "execute_result",
          "data": {
            "text/plain": [
              "True"
            ]
          },
          "metadata": {},
          "execution_count": 31
        }
      ]
    },
    {
      "cell_type": "code",
      "source": [
        "' '.isspace()"
      ],
      "metadata": {
        "colab": {
          "base_uri": "https://localhost:8080/"
        },
        "id": "T8sOPWjqu8WF",
        "outputId": "601a5798-dc00-4fee-a948-cb75be15cfb4"
      },
      "execution_count": 32,
      "outputs": [
        {
          "output_type": "execute_result",
          "data": {
            "text/plain": [
              "True"
            ]
          },
          "metadata": {},
          "execution_count": 32
        }
      ]
    },
    {
      "cell_type": "code",
      "source": [
        "# SELF STUDY\n",
        "\n",
        "input_str = input(\"문자열 입력: \")\n",
        "\n",
        "# 조건 확인\n",
        "if input_str.isalpha():\n",
        "    print(\"글자입니다.\")\n",
        "elif input_str.isdigit():\n",
        "    print(\"숫자입니다.\")\n",
        "elif input_str.isalnum():\n",
        "    print(\"글자+숫자입니다.\")\n",
        "else:\n",
        "    print(\"모르겠습니다.\")"
      ],
      "metadata": {
        "colab": {
          "base_uri": "https://localhost:8080/"
        },
        "id": "r1hCWFKHvAs2",
        "outputId": "8faf6bd0-2568-406f-b754-b3038e5085a0"
      },
      "execution_count": 33,
      "outputs": [
        {
          "output_type": "stream",
          "name": "stdout",
          "text": [
            "문자열 입력: abc123\n",
            "글자+숫자입니다.\n"
          ]
        }
      ]
    }
  ]
}
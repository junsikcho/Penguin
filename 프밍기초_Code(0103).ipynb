{
  "nbformat": 4,
  "nbformat_minor": 0,
  "metadata": {
    "colab": {
      "provenance": [],
      "authorship_tag": "ABX9TyMcmzUwTCAt6EO4/ZL4S6VC",
      "include_colab_link": true
    },
    "kernelspec": {
      "name": "python3",
      "display_name": "Python 3"
    },
    "language_info": {
      "name": "python"
    }
  },
  "cells": [
    {
      "cell_type": "markdown",
      "metadata": {
        "id": "view-in-github",
        "colab_type": "text"
      },
      "source": [
        "<a href=\"https://colab.research.google.com/github/junsikcho/Penguin/blob/main/%ED%94%84%EB%B0%8D%EA%B8%B0%EC%B4%88_Code(0103).ipynb\" target=\"_parent\"><img src=\"https://colab.research.google.com/assets/colab-badge.svg\" alt=\"Open In Colab\"/></a>"
      ]
    },
    {
      "cell_type": "markdown",
      "source": [
        "# 변수의 선언\n",
        "1) C/ C++, Java 등 컴파일러 언어\n",
        "- 변수를 사용하려면 반드시 선언부터 해야 함.\n",
        "\n",
        "2) 자바스크립트, 파이썬 등 인터프리터 언어\n",
        "- 변수를 선언하지 않고 바로 사용해도 됨.\n",
        "\n",
        "Ex. a = 100 처럼 a를 선언하지 않고 바로 a에 100을 대입하는 방식\n",
        "- 대입하는 순간에 a라는 변수가 자동 선언되고 생성됨.\n",
        "- 정수 100을 대입하기 때문에 a는 자동으로 정수형 변수로 선언되는 것"
      ],
      "metadata": {
        "id": "fNIJt3J4J0rR"
      }
    },
    {
      "cell_type": "code",
      "source": [
        "# C나 Java로 만든다면 다음과 같이 선언 후에 값을 대입해야 함\n",
        "int a, b; ## 두 변수를 선언한다. ##\n",
        "a = 100; ## a에 100을 대입한다. ##\n",
        "b = 50; ## b에 50을 대입한다. ##"
      ],
      "metadata": {
        "id": "1iGz47dBKgcn"
      },
      "execution_count": null,
      "outputs": []
    },
    {
      "cell_type": "code",
      "source": [
        "# 거북이가 나와서 정사각형을 그림\n",
        "import turtle\n",
        "\n",
        "turtle.shape('turtle')\n",
        "\n",
        "turtle.forward(200)\n",
        "turtle.right(90)\n",
        "turtle.forward(200)\n",
        "turtle.right(90)\n",
        "turtle.forward(200)\n",
        "turtle.right(90)\n",
        "turtle.forward(200)\n",
        "\n",
        "turtle.done()"
      ],
      "metadata": {
        "id": "pQKRRyIhK712"
      },
      "execution_count": null,
      "outputs": []
    },
    {
      "cell_type": "code",
      "source": [
        "import turtle\n",
        "\n",
        "## 함수 선언 부분 ##\n",
        "\n",
        "## 변수 선언 부분 ##\n",
        "myT = None\n",
        "\n",
        "## 메인 코드 부분 ##\n",
        "myT = turtle.Turtle()\n",
        "myT.shape('turtle')\n",
        "\n",
        "for i in range(0, 4) :\n",
        "  myT.forward(200)\n",
        "  myT.right(90)\n",
        "\n",
        "myT.done()"
      ],
      "metadata": {
        "id": "uz6gkhjQMtdi"
      },
      "execution_count": null,
      "outputs": []
    },
    {
      "cell_type": "code",
      "source": [
        "# 터틀 그래픽 프로그램 완성\n",
        "import turtle\n",
        "import random\n",
        "## 함수 선언 부분 ##\n",
        "def screenLeftClick(x,y) :\n",
        "  global r, g, b\n",
        "  turtle.pencolor((r,g,b))\n",
        "  turtle.pendown()\n",
        "  turtle.goto(x,y)\n",
        "\n",
        "def screenRightClick(x,y) :\n",
        "  turtle.penup()\n",
        "  turtle.goto(x,y)\n",
        "\n",
        "def screenMidClick(x,y) :\n",
        "  global r,g,b\n",
        "  tSize = random.randrange(1,10)\n",
        "  turtle.shapesize(tSize)\n",
        "  r = random.random()\n",
        "  g = random.random()\n",
        "  b = random.random()"
      ],
      "metadata": {
        "id": "Pq-qHRdaNBR1"
      },
      "execution_count": null,
      "outputs": []
    },
    {
      "cell_type": "code",
      "source": [
        "# 연습 문제\n",
        "n1 = input(\"숫자1-->\")\n",
        "n2 = input(\"숫자2-->\")\n",
        "res = int(n1) + int(n2)\n",
        "print(n1, \"+\", n2, \"=\", res)"
      ],
      "metadata": {
        "colab": {
          "base_uri": "https://localhost:8080/"
        },
        "id": "G3cMs4gZN0jP",
        "outputId": "7eff8921-e574-47cb-b302-b0f01a782d14"
      },
      "execution_count": 3,
      "outputs": [
        {
          "output_type": "stream",
          "name": "stdout",
          "text": [
            "숫자1-->7\n",
            "숫자2-->5\n",
            "7 + 5 = 12\n"
          ]
        }
      ]
    }
  ]
}
{
  "nbformat": 4,
  "nbformat_minor": 0,
  "metadata": {
    "colab": {
      "provenance": [],
      "authorship_tag": "ABX9TyNF+oxZVh+/YOQ0odNS8Pnh",
      "include_colab_link": true
    },
    "kernelspec": {
      "name": "python3",
      "display_name": "Python 3"
    },
    "language_info": {
      "name": "python"
    }
  },
  "cells": [
    {
      "cell_type": "markdown",
      "metadata": {
        "id": "view-in-github",
        "colab_type": "text"
      },
      "source": [
        "<a href=\"https://colab.research.google.com/github/junsikcho/Programming-Basics/blob/main/%ED%94%84%EB%B0%8D%EA%B8%B0%EC%B4%88_Code(0603)%EB%B0%98%EB%B3%B5%EB%AC%B8.ipynb\" target=\"_parent\"><img src=\"https://colab.research.google.com/assets/colab-badge.svg\" alt=\"Open In Colab\"/></a>"
      ]
    },
    {
      "cell_type": "markdown",
      "source": [
        "# 반복문\n",
        "# break 문과 continue 문\n",
        "1) break 문을 사용하여 반복문을 중단하는 방법을 이해하고, 이를 통해 특정 조건에서 반복문을 종료하는 프로그램을 작성할 수 있다.\\\n",
        "2) continue 문을 이용하여 특정 조건에서 반복문의 현재 실행을 건너뛰고 다음 반복을 수행하는 방법을 이해할 수 있다."
      ],
      "metadata": {
        "id": "06H1A14z_Amo"
      }
    },
    {
      "cell_type": "code",
      "source": [
        "# 반복문을 탈출시키는 break 문\n",
        "# 계속되는 반복을 논리적으로 빠져나가는 방법\n",
        "\n",
        "for i in range(1, 100) :\n",
        "  print(\"for 문을 %d번 실행했습니다.\" %i)\n",
        "  break"
      ],
      "metadata": {
        "colab": {
          "base_uri": "https://localhost:8080/"
        },
        "id": "bN9Q1FB6_Z0U",
        "outputId": "39c9553e-c691-433b-e391-179b99d453d5"
      },
      "execution_count": 1,
      "outputs": [
        {
          "output_type": "stream",
          "name": "stdout",
          "text": [
            "for 문을 1번 실행했습니다.\n"
          ]
        }
      ]
    },
    {
      "cell_type": "code",
      "source": [
        "# 반복문을 탈출시키는 break 문\n",
        "# 예 : 무한루프 코드를 break 문으로 첫 번째 수에 0이 입력될 때 자동으로 종료\n",
        "\n",
        "hap = 0\n",
        "a = 0\n",
        "b = 0\n",
        "\n",
        "while True :\n",
        "  a = int(input(\"더할 첫 번째 수를 입력하세요 : \"))\n",
        "  if a == 0 : # a에 0을 입력하면 무한루프문 탈출\n",
        "    break\n",
        "  b = int(input(\"더할 두 번째 수를 입력하세요 : \"))\n",
        "  hap = a + b\n",
        "  print(\"%d + %d = %d\" % (a, b, a + b))\n",
        "\n",
        "print(\"0을 입력해 반복문을 탈출했습니다.\")"
      ],
      "metadata": {
        "colab": {
          "base_uri": "https://localhost:8080/"
        },
        "id": "S-F2Q4lPA_IU",
        "outputId": "3d84a419-d5ef-40ae-d62d-6df9f675ac37"
      },
      "execution_count": 5,
      "outputs": [
        {
          "output_type": "stream",
          "name": "stdout",
          "text": [
            "더할 첫 번째 수를 입력하세요 : 0\n",
            "0을 입력해 반복문을 탈출했습니다.\n"
          ]
        }
      ]
    },
    {
      "cell_type": "code",
      "source": [
        "# 반복문을 탈출시키는 break 문\n",
        "# SELF STUDY '$'를 입력하면 While문을 빠져나가도록 수정\n",
        "\n",
        "ch = \"\"\n",
        "a = 0\n",
        "b = 0\n",
        "\n",
        "while True :\n",
        "  a = input(\"계산할 첫 번째 수를 입력하세요 :\") # 숫자 입력\n",
        "  if a == \"$\" :\n",
        "    print(\"프로그램을 종료합니다.\")\n",
        "    break\n",
        "\n",
        "  a = int(a)\n",
        "  b = int(input(\"계산할 두 번째 수를 입력하세요 :\")) # 숫자 입력\n",
        "  ch = input(\"계산할 연산자를 입력하세요 : \") #연산자를 입력\n",
        "  if (ch == \"+\") :\n",
        "    print(\" %d + %d = %d\" % (a, b, a + b))\n",
        "  elif (ch == \"-\") :\n",
        "    print(\" %d - %d = %d\" % (a, b, a - b))\n",
        "  elif (ch == \"*\") :\n",
        "    print(\" %d * %d = %d\" % (a, b, a * b))\n",
        "  elif (ch == \"/\") :\n",
        "    print(\" %d / %d = %5.2f\" % (a, b, a / b)) #f는 실수값을 포맷팅하기 위해, 5.2는 출력너비 5칸, .2는 소수점 이하 2자리\n",
        "  elif (ch == \"%\") :\n",
        "    print(\" %d %%1 %d = %d\" % (a, b, a % b)) # %를 포맷팅 기호로 해석되지 않도록 %%로 작성\n",
        "  elif (ch == \"//\") :\n",
        "    print(\" %d // %d = %d\" % (a, b, a // b))\n",
        "  elif (ch == \"**\") :\n",
        "    print(\" %d ** %d = %d\" % (a, b, a ** b))\n",
        "  else :\n",
        "    print(\"연산자를 잘못 입력했습니다.\")"
      ],
      "metadata": {
        "colab": {
          "base_uri": "https://localhost:8080/"
        },
        "id": "1WAOWTht_XG4",
        "outputId": "4d249998-c40f-4931-f8e1-0621f0646c10"
      },
      "execution_count": 14,
      "outputs": [
        {
          "output_type": "stream",
          "name": "stdout",
          "text": [
            "계산할 첫 번째 수를 입력하세요 :$\n",
            "프로그램을 종료합니다.\n"
          ]
        }
      ]
    },
    {
      "cell_type": "code",
      "source": [
        "# 예 : 누적 합계(hap)가 1000 이상이 되는 시작 지점 알기\n",
        "\n",
        "hap = 0\n",
        "i = 0\n",
        "\n",
        "for i in range(1, 101) : # i값이 1부터 100까지 변경되어 100회 실행하고, hap에 i값을 누적\n",
        "  hap = hap + i\n",
        "\n",
        "  if hap >= 1000 :\n",
        "    break\n",
        "print(\"1~100의 합계를 최초로 1000이 넘게 하는 숫자 : %d\" % i)"
      ],
      "metadata": {
        "colab": {
          "base_uri": "https://localhost:8080/"
        },
        "id": "PgAVZKcCDiLD",
        "outputId": "23fa4eef-b272-49de-f5b0-cf3c053d865d"
      },
      "execution_count": 18,
      "outputs": [
        {
          "output_type": "stream",
          "name": "stdout",
          "text": [
            "1~100의 합계를 최초로 1000이 넘게 하는 숫자 : 45\n"
          ]
        }
      ]
    },
    {
      "cell_type": "code",
      "source": [
        "# SLEF STUDY for 문을 while문으로 변경해 보자.\n",
        "hap = 0\n",
        "i = 0\n",
        "\n",
        "while i < 100 : #while문은 조건식이니까 이런 로직을 사용\n",
        "  i = i + 1\n",
        "  hap = hap + i\n",
        "\n",
        "  if hap >= 1000 :\n",
        "    break\n",
        "print(\"1~100의 합계를 최초로 1000이 넘게 하는 숫자 : %d\" % i)"
      ],
      "metadata": {
        "colab": {
          "base_uri": "https://localhost:8080/"
        },
        "id": "0K41leP2EF1P",
        "outputId": "8cef8b05-54ee-414e-91c5-13475092dabc"
      },
      "execution_count": 20,
      "outputs": [
        {
          "output_type": "stream",
          "name": "stdout",
          "text": [
            "1~100의 합계를 최초로 1000이 넘게 하는 숫자 : 45\n"
          ]
        }
      ]
    },
    {
      "cell_type": "markdown",
      "source": [
        "# 반복문으로 다시 돌아가게 하는 continue문\n",
        "\n",
        "- continue는 반복문(for, while) 내에서 사용되며, 현재 반복을 건너뛰고 다음 반복으로 넘어가도록 하는 명령어임."
      ],
      "metadata": {
        "id": "A9oj1FO9EuGo"
      }
    },
    {
      "cell_type": "code",
      "source": [
        "# 예 : 1 ~ 100의 합계를 구하되, 3의 배수 (제외하고) 더하기\n",
        "\n",
        "hap = 0\n",
        "i = 0\n",
        "\n",
        "for i in range(1, 101) :\n",
        "  if i % 3 == 0 :\n",
        "    continue\n",
        "\n",
        "  hap = hap + i\n",
        "\n",
        "print(\"1 ~ 100의 합계 (3의 배수 제외) : %d\" % hap)"
      ],
      "metadata": {
        "colab": {
          "base_uri": "https://localhost:8080/"
        },
        "id": "OD04Nc-vEmog",
        "outputId": "48a8f554-ae8b-439a-b79a-be1fee5a049c"
      },
      "execution_count": 21,
      "outputs": [
        {
          "output_type": "stream",
          "name": "stdout",
          "text": [
            "1 ~ 100의 합계 (3의 배수 제외) : 3367\n"
          ]
        }
      ]
    },
    {
      "cell_type": "code",
      "source": [
        "print('\\u2605')"
      ],
      "metadata": {
        "colab": {
          "base_uri": "https://localhost:8080/"
        },
        "id": "1NZNC0rCFFRu",
        "outputId": "0f5565d6-6600-4297-b831-94f338929165"
      },
      "execution_count": 22,
      "outputs": [
        {
          "output_type": "stream",
          "name": "stdout",
          "text": [
            "★\n"
          ]
        }
      ]
    },
    {
      "cell_type": "code",
      "source": [
        "# while문으로 구현\n",
        "\n",
        "## 전역 변수 선언 부분 ##\n",
        "i, k = 0, 0\n",
        "\n",
        "## 메인 코드 부분 ##\n",
        "i = 0\n",
        "while i < 9:\n",
        "    if i < 5:  # 상단 삼각형\n",
        "        k = 0\n",
        "        while k < 4 - i:  # 공백 출력\n",
        "            print(' ', end='')\n",
        "            k += 1\n",
        "        k = 0\n",
        "        while k < i * 2 + 1:  # 별 출력\n",
        "            print('\\u2605', end='')  # ★ 출력\n",
        "            k += 1\n",
        "    else:  # 하단 역삼각형\n",
        "        k = 0\n",
        "        while k < i - 4:  # 공백 출력\n",
        "            print(' ', end='')\n",
        "            k += 1\n",
        "        k = 0\n",
        "        while k < (9 - i) * 2 - 1:  # 별 출력\n",
        "            print('\\u2605', end='')  # ★ 출력\n",
        "            k += 1\n",
        "    print()  # 줄 바꿈\n",
        "    i += 1\n"
      ],
      "metadata": {
        "colab": {
          "base_uri": "https://localhost:8080/"
        },
        "id": "BmJYhH4aFeLI",
        "outputId": "5ebbf743-d805-489d-c249-e782cb7b7a38"
      },
      "execution_count": 29,
      "outputs": [
        {
          "output_type": "stream",
          "name": "stdout",
          "text": [
            "    ★\n",
            "   ★★★\n",
            "  ★★★★★\n",
            " ★★★★★★★\n",
            "★★★★★★★★★\n",
            " ★★★★★★★\n",
            "  ★★★★★\n",
            "   ★★★\n",
            "    ★\n"
          ]
        }
      ]
    },
    {
      "cell_type": "code",
      "source": [
        "# SELF STUDY for문으로 구현\n",
        "'''\n",
        "상단 삼각형 (if i < 5):\n",
        "\n",
        "공백 출력: for k in range(4 - i)는 공백의 개수를 결정\n",
        "별 출력: for k in range(i * 2 + 1)는 별의 개수를 결정\n",
        "하단 역삼각형 (else):\n",
        "\n",
        "공백 출력: for k in range(i - 4)는 공백의 개수를 결정\n",
        "별 출력: for k in range((9 - i) * 2 - 1)는 별의 개수를 결정\n",
        "'''\n",
        "\n",
        "## 전역 변수 선언 부분 ##\n",
        "i, k = 0, 0\n",
        "\n",
        "## 메인 코드 부분 ##\n",
        "for i in range(9):  # i는 0부터 8까지\n",
        "    if i < 5:  # 상단 삼각형\n",
        "        for k in range(4 - i):  # 공백 출력\n",
        "            print(' ', end='')\n",
        "        for k in range(i * 2 + 1):  # 별 출력\n",
        "            print('\\u2605', end='')  # ★ 출력\n",
        "    else:  # 하단 역삼각형\n",
        "        for k in range(i - 4):  # 공백 출력\n",
        "            print(' ', end='')\n",
        "        for k in range((9 - i) * 2 - 1):  # 별 출력\n",
        "            print('\\u2605', end='')  # ★ 출력\n",
        "    print()  # 줄 바꿈\n"
      ],
      "metadata": {
        "colab": {
          "base_uri": "https://localhost:8080/"
        },
        "id": "uzYDxQMwGfdH",
        "outputId": "83611b96-aaca-4650-f48a-d366550ea9d9"
      },
      "execution_count": 30,
      "outputs": [
        {
          "output_type": "stream",
          "name": "stdout",
          "text": [
            "    ★\n",
            "   ★★★\n",
            "  ★★★★★\n",
            " ★★★★★★★\n",
            "★★★★★★★★★\n",
            " ★★★★★★★\n",
            "  ★★★★★\n",
            "   ★★★\n",
            "    ★\n"
          ]
        }
      ]
    }
  ]
}
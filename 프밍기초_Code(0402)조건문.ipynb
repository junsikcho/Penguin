{
  "nbformat": 4,
  "nbformat_minor": 0,
  "metadata": {
    "colab": {
      "provenance": [],
      "authorship_tag": "ABX9TyMZHTsq6DS3NGQMSM9uEA6r",
      "include_colab_link": true
    },
    "kernelspec": {
      "name": "python3",
      "display_name": "Python 3"
    },
    "language_info": {
      "name": "python"
    }
  },
  "cells": [
    {
      "cell_type": "markdown",
      "metadata": {
        "id": "view-in-github",
        "colab_type": "text"
      },
      "source": [
        "<a href=\"https://colab.research.google.com/github/junsikcho/Penguin/blob/main/%ED%94%84%EB%B0%8D%EA%B8%B0%EC%B4%88_Code(0402)%EC%A1%B0%EA%B1%B4%EB%AC%B8.ipynb\" target=\"_parent\"><img src=\"https://colab.research.google.com/assets/colab-badge.svg\" alt=\"Open In Colab\"/></a>"
      ]
    },
    {
      "cell_type": "markdown",
      "source": [
        "\n",
        "조건문\\\n",
        "중첩 if문 학습 목표\\\n",
        "1) 중첩 if문의 개념을 이해하고 구조를 파악한다.\\\n",
        "2) 중첩된 조건문을 통해 논리적 흐름을 제어하는 방법을 익힌다.\\\n",
        "3) 중첩 조건문을 적용한 실습을 통해 논리적 사고력을 향상시킨다."
      ],
      "metadata": {
        "id": "w7IbfRtTJuyO"
      }
    },
    {
      "cell_type": "code",
      "source": [
        "# 중첩 if 문\n",
        "# 1) if문을 한 번 실행한 후 그 결과에서 if 문을 다시 실행하는 것\n",
        "'''\n",
        "if 조건식 1:\n",
        "  if 조건식 2:\n",
        "    실행할 문장 1\n",
        "  else :\n",
        "    실행할 문장 2\n",
        "else :\n",
        "  실행할 문장 3\n",
        "'''\n",
        "\n",
        "# if~else~if~else 문\n",
        "a = 75\n",
        "\n",
        "if a > 50 :\n",
        "  if a < 100 :\n",
        "    print(\"50보다 크고 100보다 작군요.\")\n",
        "  else :\n",
        "    print(\"와~~ 100보다 크군요.\")\n",
        "else :\n",
        "  print(\"에고~ 50보다 작군요.\")"
      ],
      "metadata": {
        "colab": {
          "base_uri": "https://localhost:8080/"
        },
        "id": "fa22uiLvb04B",
        "outputId": "ca605586-9ef2-41c7-cedb-242cb0b09055"
      },
      "execution_count": 2,
      "outputs": [
        {
          "output_type": "stream",
          "name": "stdout",
          "text": [
            "50보다 크고 100보다 작군요.\n"
          ]
        }
      ]
    },
    {
      "cell_type": "code",
      "source": [
        "# if~elif~else문\n",
        "\n",
        "score = int(input(\"점수를 입력하세요 :\"))\n",
        "\n",
        "if score >= 90 :\n",
        "  print(\"A\")\n",
        "elif score >= 80 :\n",
        "  print(\"B\")\n",
        "elif score >= 70 :\n",
        "  print(\"C\")\n",
        "elif score >= 60 :\n",
        "  print(\"D\")\n",
        "else :\n",
        "  print(\"F\")\n",
        "\n",
        "print(\"학점입니다. ^^\")"
      ],
      "metadata": {
        "colab": {
          "base_uri": "https://localhost:8080/"
        },
        "id": "s2JmKMjSKXBF",
        "outputId": "f56be3f4-6c84-426a-d703-63b915f46003"
      },
      "execution_count": null,
      "outputs": [
        {
          "output_type": "stream",
          "name": "stdout",
          "text": [
            "점수를 입력하세요 :100\n",
            "A\n",
            "학점입니다. ^^\n"
          ]
        }
      ]
    },
    {
      "cell_type": "code",
      "source": [
        "# if~elif~else문\n",
        "# SELF STUDY\n",
        "score = int(input(\"점수를 입력하세요 :\"))\n",
        "\n",
        "if score >= 95 :\n",
        "  print(\"A+\")\n",
        "elif score >= 90 :\n",
        "  print(\"A0\")\n",
        "elif score >= 85 :\n",
        "  print(\"B+\")\n",
        "elif score >= 80 :\n",
        "  print(\"B0\")\n",
        "elif score >= 75 :\n",
        "  print(\"C+\")\n",
        "elif score >= 70 :\n",
        "  print(\"C0\")\n",
        "elif score >= 65 :\n",
        "  print(\"D+\")\n",
        "elif score >= 60 :\n",
        "  print(\"D0\")\n",
        "else :\n",
        "  print(\"F\")\n",
        "\n",
        "print(\"학점입니다. ^^\")"
      ],
      "metadata": {
        "colab": {
          "base_uri": "https://localhost:8080/"
        },
        "id": "IZpTJYoZcTSm",
        "outputId": "6735f9ab-4aef-4632-c798-5e517743aced"
      },
      "execution_count": 8,
      "outputs": [
        {
          "output_type": "stream",
          "name": "stdout",
          "text": [
            "점수를 입력하세요 :100\n",
            "A+\n",
            "학점입니다. ^^\n"
          ]
        }
      ]
    },
    {
      "cell_type": "code",
      "source": [
        "# 삼항 연산자를 사용한 if 문\n",
        "\n",
        "jumsu = 77\n",
        "res = ''\n",
        "if jumsu >= 60 :\n",
        "  res = '합격'\n",
        "else :\n",
        "  res = '불합격'\n",
        "print(res)"
      ],
      "metadata": {
        "colab": {
          "base_uri": "https://localhost:8080/"
        },
        "id": "mUBhh2cveLWd",
        "outputId": "b131c77f-5281-4535-d301-ae1447eb9010"
      },
      "execution_count": 14,
      "outputs": [
        {
          "output_type": "stream",
          "name": "stdout",
          "text": [
            "합격\n"
          ]
        }
      ]
    },
    {
      "cell_type": "code",
      "source": [
        "# 삼항 연산자를 사용한 if 문\n",
        "\n",
        "jumsu = 77\n",
        "res = ''\n",
        "res = '합격' if jumsu >= 60 else '불합격' # 위 코드 에서 5~8행을 줄여서 다음과 같이 쓸 수 있음..\n",
        "print(res)"
      ],
      "metadata": {
        "colab": {
          "base_uri": "https://localhost:8080/"
        },
        "id": "OksNq3_TevlK",
        "outputId": "db0ca25d-0b5e-48e1-9987-3f8ce42eb928"
      },
      "execution_count": 17,
      "outputs": [
        {
          "output_type": "stream",
          "name": "stdout",
          "text": [
            "합격\n"
          ]
        }
      ]
    },
    {
      "cell_type": "code",
      "source": [
        "import turtle\n",
        "\n",
        "## 전역 변수 선언 부분 ##\n",
        "swidth, sheight = 500, 500\n",
        "\n",
        "## 메인 코드 부분 ##\n",
        "turtle.title('무지개색 원그리기')\n",
        "turtle.shape('turtle')\n",
        "turtle.setup(width = swidth + 50, height = sheight + 50)\n",
        "turtle.screensize(swidth, sheight)\n",
        "turtle.penup()\n",
        "turtle.goto(0, -sheight / 2)\n",
        "turtle.pendown()\n",
        "turtle.speed(10)\n",
        "\n",
        "for radius in range(1, 250) :\n",
        "  if radius % 6 == 0 :\n",
        "    turtle.pencolor('red')\n",
        "  elif radius % 5 == 0 :\n",
        "    turtle.pencolor('orange')\n",
        "  elif radius % 4 == 0 :\n",
        "    turtle.pencolor('yellow')\n",
        "  elif radius % 3 == 0 :\n",
        "    turtle.pencolor('green')\n",
        "  elif radius % 2 == 0 :\n",
        "    turtle.pencolor('blue')\n",
        "  elif radius % 1 == 0 :\n",
        "    turtle.pencolor('navyblue')\n",
        "  else :\n",
        "    turtle.pencolor('purple')\n",
        "\n",
        "  turtle.circle(radius)\n",
        "\n",
        "turtle.done()"
      ],
      "metadata": {
        "id": "Z9iwzx7SfDoI"
      },
      "execution_count": null,
      "outputs": []
    }
  ]
}
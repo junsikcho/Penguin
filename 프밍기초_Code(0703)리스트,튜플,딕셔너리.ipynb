{
  "nbformat": 4,
  "nbformat_minor": 0,
  "metadata": {
    "colab": {
      "provenance": [],
      "authorship_tag": "ABX9TyPkDQ/3GLyjjE4+c29coTAg",
      "include_colab_link": true
    },
    "kernelspec": {
      "name": "python3",
      "display_name": "Python 3"
    },
    "language_info": {
      "name": "python"
    }
  },
  "cells": [
    {
      "cell_type": "markdown",
      "metadata": {
        "id": "view-in-github",
        "colab_type": "text"
      },
      "source": [
        "<a href=\"https://colab.research.google.com/github/junsikcho/Programming-Basics/blob/main/%ED%94%84%EB%B0%8D%EA%B8%B0%EC%B4%88_Code(0703)%EB%A6%AC%EC%8A%A4%ED%8A%B8%2C%ED%8A%9C%ED%94%8C%2C%EB%94%95%EC%85%94%EB%84%88%EB%A6%AC.ipynb\" target=\"_parent\"><img src=\"https://colab.research.google.com/assets/colab-badge.svg\" alt=\"Open In Colab\"/></a>"
      ]
    },
    {
      "cell_type": "markdown",
      "source": [
        "# 딕셔너리\n",
        "1) 딕셔너리의 키-값 구조를 이해하고 데이터를 저장하고 조회할 수 있다.\\\n",
        "2) 프로그램에서 딕셔너리를 활용해 특정 키의 값에 접근하는 방법을 설명할 수 있다."
      ],
      "metadata": {
        "id": "BDJRa7ZSRsbb"
      }
    },
    {
      "cell_type": "markdown",
      "source": [
        "# 딕셔너리의 개념 (쌍 2개가 하나로 묶인 자료구조)\n",
        "예 : 'apple:사과' 처럼 의미 있는 두 값을 연결해 구성\\\n",
        "(다른 프로그래밍 언어에서는 해시(Hash), 연관 배열(Associative Array)이라 함)\\\n",
        "\n",
        "중괄호 { }로 묶어 구성, 키(Key)와 값(Value)의 쌍으로 구성\\\n",
        "딕셔너리변수 = {키1:값1, 키2:값2, 키3:값3, ...}"
      ],
      "metadata": {
        "id": "zWYKkZ5eR_VS"
      }
    },
    {
      "cell_type": "code",
      "source": [
        "# 딕셔너리의 생성\n",
        "dic1 = {1 : 'a', 2 : 'b', 3 : 'c'}\n",
        "dic1"
      ],
      "metadata": {
        "colab": {
          "base_uri": "https://localhost:8080/"
        },
        "id": "3h3WPzRSSkVp",
        "outputId": "d1313b9c-bc7d-4e77-cfed-ce3892b61edd"
      },
      "execution_count": 2,
      "outputs": [
        {
          "output_type": "execute_result",
          "data": {
            "text/plain": [
              "{1: 'a', 2: 'b', 3: 'c'}"
            ]
          },
          "metadata": {},
          "execution_count": 2
        }
      ]
    },
    {
      "cell_type": "code",
      "source": [
        "# 키와 값을 반대로\n",
        "dic2 = {'a' : 1, 'b' : 2, 'c' : 3}\n",
        "dic2"
      ],
      "metadata": {
        "colab": {
          "base_uri": "https://localhost:8080/"
        },
        "id": "kKCOKltHSymP",
        "outputId": "fdbfb744-ebef-461e-dbc2-721ebf58c5ec"
      },
      "execution_count": 3,
      "outputs": [
        {
          "output_type": "execute_result",
          "data": {
            "text/plain": [
              "{'a': 1, 'b': 2, 'c': 3}"
            ]
          },
          "metadata": {},
          "execution_count": 3
        }
      ]
    },
    {
      "cell_type": "markdown",
      "source": [
        "- 키와 값은 사용자가 지정하는 것이지 규정은 없음\\\n",
        "- 주의할 점 : 딕셔너리에는 순서가 없어 생성한 순서대로 딕셔너리가 구성되어 있다는 보장 없음"
      ],
      "metadata": {
        "id": "bhXbg7vvS6KB"
      }
    },
    {
      "cell_type": "code",
      "source": [
        "# 여러 정보의 딕셔너리 표현\n",
        "student1 = {'학번': 1000, '이름': '홍길동', '학과': '컴퓨터학과'}\n",
        "student1"
      ],
      "metadata": {
        "colab": {
          "base_uri": "https://localhost:8080/"
        },
        "id": "4QgBNPt5TBf8",
        "outputId": "f9446aa3-6e00-47e2-b343-b1935f7028d7"
      },
      "execution_count": 4,
      "outputs": [
        {
          "output_type": "execute_result",
          "data": {
            "text/plain": [
              "{'학번': 1000, '이름': '홍길동', '학과': '컴퓨터학과'}"
            ]
          },
          "metadata": {},
          "execution_count": 4
        }
      ]
    },
    {
      "cell_type": "code",
      "source": [
        "student1['연락처'] = '010 - 1111 - 2222'\n",
        "student1"
      ],
      "metadata": {
        "colab": {
          "base_uri": "https://localhost:8080/"
        },
        "id": "Y1HFckc3TePp",
        "outputId": "330e3efd-e7bc-464d-b49b-280075cb3c47"
      },
      "execution_count": 5,
      "outputs": [
        {
          "output_type": "execute_result",
          "data": {
            "text/plain": [
              "{'학번': 1000, '이름': '홍길동', '학과': '컴퓨터학과', '연락처': '010 - 1111 - 2222'}"
            ]
          },
          "metadata": {},
          "execution_count": 5
        }
      ]
    },
    {
      "cell_type": "code",
      "source": [
        "# 학과 수정\n",
        "student1['학과'] = '파이썬학과'\n",
        "student1"
      ],
      "metadata": {
        "colab": {
          "base_uri": "https://localhost:8080/"
        },
        "id": "gU-M-bwaT8gj",
        "outputId": "f82145d8-e366-4060-fb2a-d220e9d7de98"
      },
      "execution_count": 6,
      "outputs": [
        {
          "output_type": "execute_result",
          "data": {
            "text/plain": [
              "{'학번': 1000, '이름': '홍길동', '학과': '파이썬학과', '연락처': '010 - 1111 - 2222'}"
            ]
          },
          "metadata": {},
          "execution_count": 6
        }
      ]
    },
    {
      "cell_type": "code",
      "source": [
        "# student1의 학과 삭제\n",
        "del(student1['학과'])\n",
        "student1"
      ],
      "metadata": {
        "colab": {
          "base_uri": "https://localhost:8080/"
        },
        "id": "m3KYUh6_UCeO",
        "outputId": "045bd551-67b3-4a15-dd44-8ace7a6b959b"
      },
      "execution_count": 7,
      "outputs": [
        {
          "output_type": "execute_result",
          "data": {
            "text/plain": [
              "{'학번': 1000, '이름': '홍길동', '연락처': '010 - 1111 - 2222'}"
            ]
          },
          "metadata": {},
          "execution_count": 7
        }
      ]
    },
    {
      "cell_type": "markdown",
      "source": [
        "# 딕셔너리의 생성"
      ],
      "metadata": {
        "id": "GG8_OQd8UKzR"
      }
    },
    {
      "cell_type": "code",
      "source": [
        "# 동일한 키를 갖는 딕셔너리를 생성하는 것이 아니라 마지막에 있는 키가 적용\n",
        "student1 = {'학번': 1000, '이름': '횡길동', '학과': '파이썬학과', '학번': 2000}\n",
        "student1"
      ],
      "metadata": {
        "colab": {
          "base_uri": "https://localhost:8080/"
        },
        "id": "gz9g5Z_7UOhS",
        "outputId": "8d6e1434-4067-403c-e36a-413503ea2bb9"
      },
      "execution_count": 9,
      "outputs": [
        {
          "output_type": "execute_result",
          "data": {
            "text/plain": [
              "{'학번': 2000, '이름': '횡길동', '학과': '파이썬학과'}"
            ]
          },
          "metadata": {},
          "execution_count": 9
        }
      ]
    },
    {
      "cell_type": "markdown",
      "source": [
        "# 딕셔너리의 사용"
      ],
      "metadata": {
        "id": "VdxvQ5naUdjp"
      }
    },
    {
      "cell_type": "code",
      "source": [
        "# 키로 값에 접근하는 코드\n",
        "student1['학번']"
      ],
      "metadata": {
        "colab": {
          "base_uri": "https://localhost:8080/"
        },
        "id": "OjrfjDisUhKT",
        "outputId": "28654c33-9a15-42da-eeba-c824a80fcc47"
      },
      "execution_count": 13,
      "outputs": [
        {
          "output_type": "execute_result",
          "data": {
            "text/plain": [
              "2000"
            ]
          },
          "metadata": {},
          "execution_count": 13
        }
      ]
    },
    {
      "cell_type": "code",
      "source": [
        "student1['이름']"
      ],
      "metadata": {
        "colab": {
          "base_uri": "https://localhost:8080/",
          "height": 35
        },
        "id": "WOtSRQzHUpK5",
        "outputId": "982df907-4b01-4e8e-df4d-5c40a2f4f1ca"
      },
      "execution_count": 14,
      "outputs": [
        {
          "output_type": "execute_result",
          "data": {
            "text/plain": [
              "'횡길동'"
            ],
            "application/vnd.google.colaboratory.intrinsic+json": {
              "type": "string"
            }
          },
          "metadata": {},
          "execution_count": 14
        }
      ]
    },
    {
      "cell_type": "code",
      "source": [
        "student1['학과']"
      ],
      "metadata": {
        "colab": {
          "base_uri": "https://localhost:8080/",
          "height": 35
        },
        "id": "6GqShNKWUqJI",
        "outputId": "dc1fca6e-f08a-4f32-ad67-6d28f709c698"
      },
      "execution_count": 15,
      "outputs": [
        {
          "output_type": "execute_result",
          "data": {
            "text/plain": [
              "'파이썬학과'"
            ],
            "application/vnd.google.colaboratory.intrinsic+json": {
              "type": "string"
            }
          },
          "metadata": {},
          "execution_count": 15
        }
      ]
    },
    {
      "cell_type": "code",
      "source": [
        "# 딕셔너리명.get(키) 함수를 사용해 키로 값에 접근\n",
        "student1.get('이름')"
      ],
      "metadata": {
        "colab": {
          "base_uri": "https://localhost:8080/",
          "height": 35
        },
        "id": "4iZeVFBlUs4j",
        "outputId": "ae6fd9a3-f3b7-46b6-d330-2d092900795d"
      },
      "execution_count": 16,
      "outputs": [
        {
          "output_type": "execute_result",
          "data": {
            "text/plain": [
              "'횡길동'"
            ],
            "application/vnd.google.colaboratory.intrinsic+json": {
              "type": "string"
            }
          },
          "metadata": {},
          "execution_count": 16
        }
      ]
    },
    {
      "cell_type": "markdown",
      "source": [
        "1) 딕셔너리명[키]와 딕셔너리명.get(키)는 결과 같음\\\n",
        "2) 딕셔너리명[키]는 없는 키 호출하면 오류 나지만,\\\n",
        "딕셔너리명.get(키)는 없는 키를 호출하면 아무것도 반환하지 않음"
      ],
      "metadata": {
        "id": "N0kZ9kHEUzVJ"
      }
    },
    {
      "cell_type": "code",
      "source": [
        "# 없는 키를 찾을 때 딕셔너리명.get(키)를 사용\n",
        "student1['주소']\n",
        "student1.get['주소']"
      ],
      "metadata": {
        "colab": {
          "base_uri": "https://localhost:8080/",
          "height": 184
        },
        "id": "cV7_aRh2VKKA",
        "outputId": "b34fff11-6757-4e47-8411-b23bf157d98d"
      },
      "execution_count": 18,
      "outputs": [
        {
          "output_type": "error",
          "ename": "KeyError",
          "evalue": "'주소'",
          "traceback": [
            "\u001b[0;31m---------------------------------------------------------------------------\u001b[0m",
            "\u001b[0;31mKeyError\u001b[0m                                  Traceback (most recent call last)",
            "\u001b[0;32m<ipython-input-18-7cd3c47e6c68>\u001b[0m in \u001b[0;36m<cell line: 2>\u001b[0;34m()\u001b[0m\n\u001b[1;32m      1\u001b[0m \u001b[0;31m# 없는 키를 찾을 때 딕셔너리명.get(키)를 사용\u001b[0m\u001b[0;34m\u001b[0m\u001b[0;34m\u001b[0m\u001b[0m\n\u001b[0;32m----> 2\u001b[0;31m \u001b[0mstudent1\u001b[0m\u001b[0;34m[\u001b[0m\u001b[0;34m'주소'\u001b[0m\u001b[0;34m]\u001b[0m\u001b[0;34m\u001b[0m\u001b[0;34m\u001b[0m\u001b[0m\n\u001b[0m\u001b[1;32m      3\u001b[0m \u001b[0mstudent1\u001b[0m\u001b[0;34m.\u001b[0m\u001b[0mget\u001b[0m\u001b[0;34m[\u001b[0m\u001b[0;34m'주소'\u001b[0m\u001b[0;34m]\u001b[0m\u001b[0;34m\u001b[0m\u001b[0;34m\u001b[0m\u001b[0m\n",
            "\u001b[0;31mKeyError\u001b[0m: '주소'"
          ]
        }
      ]
    },
    {
      "cell_type": "code",
      "source": [
        "# 딕셔너리명.get(키) 함수를 사용해 키로 값에 접근\n",
        "student1.keys()"
      ],
      "metadata": {
        "colab": {
          "base_uri": "https://localhost:8080/"
        },
        "id": "hF9qCa5AVWEa",
        "outputId": "e3ed06d4-720c-4242-c05a-4b57b53c67ca"
      },
      "execution_count": 20,
      "outputs": [
        {
          "output_type": "execute_result",
          "data": {
            "text/plain": [
              "dict_keys(['학번', '이름', '학과'])"
            ]
          },
          "metadata": {},
          "execution_count": 20
        }
      ]
    },
    {
      "cell_type": "code",
      "source": [
        "# 출력 결과의 dict_keys가 보기 싫으면 list(딕셔너리명.key()) 함수 사용\n",
        "list(student1.keys())"
      ],
      "metadata": {
        "colab": {
          "base_uri": "https://localhost:8080/"
        },
        "id": "1mL0xiGjV0FN",
        "outputId": "42cc5e6d-6bb4-4f8f-86e9-e89de9a3e4bc"
      },
      "execution_count": 21,
      "outputs": [
        {
          "output_type": "execute_result",
          "data": {
            "text/plain": [
              "['학번', '이름', '학과']"
            ]
          },
          "metadata": {},
          "execution_count": 21
        }
      ]
    },
    {
      "cell_type": "markdown",
      "source": [
        "- 딕셔너리명, values() 함수는 딕셔너리의 모든 값을 리스트로 만들어 변환"
      ],
      "metadata": {
        "id": "Y8JrxgauV_YG"
      }
    },
    {
      "cell_type": "code",
      "source": [
        "# 딕셔너리명 values()함수도 출력 결과의 dict_values가 보기 싫으면 list(딕셔너리명.values()) 함수 사용\n",
        "student1.values()"
      ],
      "metadata": {
        "colab": {
          "base_uri": "https://localhost:8080/"
        },
        "id": "szsycdVTWx--",
        "outputId": "6e43eacf-c6b0-4d5a-d3cf-cccdb621ed9a"
      },
      "execution_count": 22,
      "outputs": [
        {
          "output_type": "execute_result",
          "data": {
            "text/plain": [
              "dict_values([2000, '횡길동', '파이썬학과'])"
            ]
          },
          "metadata": {},
          "execution_count": 22
        }
      ]
    },
    {
      "cell_type": "code",
      "source": [
        "# 딕셔너리명.items()함수를 사용하면 튜플 형태로도 구할 수 있음\n",
        "student1.items()"
      ],
      "metadata": {
        "colab": {
          "base_uri": "https://localhost:8080/"
        },
        "id": "vuFv5nZLb0jM",
        "outputId": "19b9b6e6-483b-44f7-d776-77b94da12618"
      },
      "execution_count": 23,
      "outputs": [
        {
          "output_type": "execute_result",
          "data": {
            "text/plain": [
              "dict_items([('학번', 2000), ('이름', '횡길동'), ('학과', '파이썬학과')])"
            ]
          },
          "metadata": {},
          "execution_count": 23
        }
      ]
    },
    {
      "cell_type": "code",
      "source": [
        "# 딕셔너리 안에 해당 키가 있는지 없는지는 in을 사용해 확인\n",
        "# 딕셔너리에 키가 있다면 True를 반환하고, 없다면 False를 반환\n",
        "'이름' in student1"
      ],
      "metadata": {
        "colab": {
          "base_uri": "https://localhost:8080/"
        },
        "id": "e1V8pxA9b3uj",
        "outputId": "e7c0fdce-37bf-4234-f0b4-07298623643f"
      },
      "execution_count": 25,
      "outputs": [
        {
          "output_type": "execute_result",
          "data": {
            "text/plain": [
              "True"
            ]
          },
          "metadata": {},
          "execution_count": 25
        }
      ]
    },
    {
      "cell_type": "code",
      "source": [
        "'주소' in student1"
      ],
      "metadata": {
        "colab": {
          "base_uri": "https://localhost:8080/"
        },
        "id": "GUSAMszFcRPc",
        "outputId": "44f0b791-25a0-4d2a-c4ae-8966b5718e5f"
      },
      "execution_count": 26,
      "outputs": [
        {
          "output_type": "execute_result",
          "data": {
            "text/plain": [
              "False"
            ]
          },
          "metadata": {},
          "execution_count": 26
        }
      ]
    },
    {
      "cell_type": "code",
      "source": [
        "# for문을 활용해 딕셔너리의 모든 값을 출력하는 코드\n",
        "singer = {} # 빈 딕셔너리를 준비\n",
        "\n",
        "singer['이름'] = '트와이스' # 쌍을 만들어 딕셔너리에 추가\n",
        "singer['구성원 수'] = 9\n",
        "singer['데뷔'] = '서바이벌 식스틴'\n",
        "singer['대표곡'] = 'SIGNAL'\n",
        "\n",
        "for k in singer.keys() :\n",
        "  print(\"%s --> %s\" % (k, singer[k]))"
      ],
      "metadata": {
        "colab": {
          "base_uri": "https://localhost:8080/"
        },
        "id": "EaVd0MRacSIC",
        "outputId": "31a7ad9f-3cfe-415d-f104-54f66e40f4cc"
      },
      "execution_count": 27,
      "outputs": [
        {
          "output_type": "stream",
          "name": "stdout",
          "text": [
            "이름 --> 트와이스\n",
            "구성원 수 --> 9\n",
            "데뷔 --> 서바이벌 식스틴\n",
            "대표곡 --> SIGNAL\n"
          ]
        }
      ]
    },
    {
      "cell_type": "code",
      "source": [
        "# 키로 정렬한 후 딕셔너리 추출\n",
        "import operator\n",
        "\n",
        "trainDic, tranList = {}, []\n",
        "\n",
        "trainDic = {'Thomas':'토마스', 'Edward':'에드워드', 'Henry':'헨리', 'Gothen':'고든', 'James':'제임스'} # 딕셔너리 작성\n",
        "trainList = sorted(trainDic.items(), key=operator.itemgetter(0)) # 키를 기준으로 딕셔너리 정렬\n",
        "\n",
        "print(trainList)"
      ],
      "metadata": {
        "colab": {
          "base_uri": "https://localhost:8080/"
        },
        "id": "kAZ-Qunpc7U-",
        "outputId": "d2499a96-4653-482d-9a70-71e14c9a681d"
      },
      "execution_count": 29,
      "outputs": [
        {
          "output_type": "stream",
          "name": "stdout",
          "text": [
            "[('Edward', '에드워드'), ('Gothen', '고든'), ('Henry', '헨리'), ('James', '제임스'), ('Thomas', '토마스')]\n"
          ]
        }
      ]
    },
    {
      "cell_type": "code",
      "source": [
        "# 딕셔너리를 활용해 음식 궁합을 출력하는 프로그램\n",
        "\n",
        "## 변수 선언 부분 ##\n",
        "foods = {\"떡볶이\" : \"오뎅\",\n",
        "         \"짜장면\":\"단무지\",\n",
        "         \"라면\":\"김치\",\n",
        "         \"피자\":\"피클\",\n",
        "         \"맥주\":\"땅콩\",\n",
        "         \"치킨\":\"치킨무\",\n",
        "         \"삼겹살\":\"상추\"};\n",
        "\n",
        "## 메인 코드 부분 ##\n",
        "while (True) :\n",
        "  myfood = input(str(list(foods.keys())) + \" 중 좋아하는 음식은?\")\n",
        "  if myfood in foods :\n",
        "    print(\"<%s> 궁함 음식은 <%s>입니다.\" % (myfood, foods.get(myfood)))\n",
        "  elif myfood == \"끝\" :\n",
        "      break\n",
        "  else :\n",
        "      print(\"그런 음식이 없습니다. 확인해 보세요\")"
      ],
      "metadata": {
        "colab": {
          "base_uri": "https://localhost:8080/",
          "height": 428
        },
        "id": "nqDoVskbdnmu",
        "outputId": "fb4974fe-8b07-4096-c8ee-886d00b30aaf"
      },
      "execution_count": 34,
      "outputs": [
        {
          "output_type": "stream",
          "name": "stdout",
          "text": [
            "['떡볶이', '짜장면', '라면', '피자', '맥주', '치킨', '삼겹살'] 중 좋아하는 음식은?떡볶이\n",
            "<떡볶이> 궁함 음식은 <오뎅>입니다.\n"
          ]
        },
        {
          "output_type": "error",
          "ename": "KeyboardInterrupt",
          "evalue": "Interrupted by user",
          "traceback": [
            "\u001b[0;31m---------------------------------------------------------------------------\u001b[0m",
            "\u001b[0;31mKeyboardInterrupt\u001b[0m                         Traceback (most recent call last)",
            "\u001b[0;32m<ipython-input-34-00578128b50a>\u001b[0m in \u001b[0;36m<cell line: 13>\u001b[0;34m()\u001b[0m\n\u001b[1;32m     12\u001b[0m \u001b[0;31m## 메인 코드 부분 ##\u001b[0m\u001b[0;34m\u001b[0m\u001b[0;34m\u001b[0m\u001b[0m\n\u001b[1;32m     13\u001b[0m \u001b[0;32mwhile\u001b[0m \u001b[0;34m(\u001b[0m\u001b[0;32mTrue\u001b[0m\u001b[0;34m)\u001b[0m \u001b[0;34m:\u001b[0m\u001b[0;34m\u001b[0m\u001b[0;34m\u001b[0m\u001b[0m\n\u001b[0;32m---> 14\u001b[0;31m   \u001b[0mmyfood\u001b[0m \u001b[0;34m=\u001b[0m \u001b[0minput\u001b[0m\u001b[0;34m(\u001b[0m\u001b[0mstr\u001b[0m\u001b[0;34m(\u001b[0m\u001b[0mlist\u001b[0m\u001b[0;34m(\u001b[0m\u001b[0mfoods\u001b[0m\u001b[0;34m.\u001b[0m\u001b[0mkeys\u001b[0m\u001b[0;34m(\u001b[0m\u001b[0;34m)\u001b[0m\u001b[0;34m)\u001b[0m\u001b[0;34m)\u001b[0m \u001b[0;34m+\u001b[0m \u001b[0;34m\" 중 좋아하는 음식은?\"\u001b[0m\u001b[0;34m)\u001b[0m\u001b[0;34m\u001b[0m\u001b[0;34m\u001b[0m\u001b[0m\n\u001b[0m\u001b[1;32m     15\u001b[0m   \u001b[0;32mif\u001b[0m \u001b[0mmyfood\u001b[0m \u001b[0;32min\u001b[0m \u001b[0mfoods\u001b[0m \u001b[0;34m:\u001b[0m\u001b[0;34m\u001b[0m\u001b[0;34m\u001b[0m\u001b[0m\n\u001b[1;32m     16\u001b[0m     \u001b[0mprint\u001b[0m\u001b[0;34m(\u001b[0m\u001b[0;34m\"<%s> 궁함 음식은 <%s>입니다.\"\u001b[0m \u001b[0;34m%\u001b[0m \u001b[0;34m(\u001b[0m\u001b[0mmyfood\u001b[0m\u001b[0;34m,\u001b[0m \u001b[0mfoods\u001b[0m\u001b[0;34m.\u001b[0m\u001b[0mget\u001b[0m\u001b[0;34m(\u001b[0m\u001b[0mmyfood\u001b[0m\u001b[0;34m)\u001b[0m\u001b[0;34m)\u001b[0m\u001b[0;34m)\u001b[0m\u001b[0;34m\u001b[0m\u001b[0;34m\u001b[0m\u001b[0m\n",
            "\u001b[0;32m/usr/local/lib/python3.10/dist-packages/ipykernel/kernelbase.py\u001b[0m in \u001b[0;36mraw_input\u001b[0;34m(self, prompt)\u001b[0m\n\u001b[1;32m    849\u001b[0m                 \u001b[0;34m\"raw_input was called, but this frontend does not support input requests.\"\u001b[0m\u001b[0;34m\u001b[0m\u001b[0;34m\u001b[0m\u001b[0m\n\u001b[1;32m    850\u001b[0m             )\n\u001b[0;32m--> 851\u001b[0;31m         return self._input_request(str(prompt),\n\u001b[0m\u001b[1;32m    852\u001b[0m             \u001b[0mself\u001b[0m\u001b[0;34m.\u001b[0m\u001b[0m_parent_ident\u001b[0m\u001b[0;34m,\u001b[0m\u001b[0;34m\u001b[0m\u001b[0;34m\u001b[0m\u001b[0m\n\u001b[1;32m    853\u001b[0m             \u001b[0mself\u001b[0m\u001b[0;34m.\u001b[0m\u001b[0m_parent_header\u001b[0m\u001b[0;34m,\u001b[0m\u001b[0;34m\u001b[0m\u001b[0;34m\u001b[0m\u001b[0m\n",
            "\u001b[0;32m/usr/local/lib/python3.10/dist-packages/ipykernel/kernelbase.py\u001b[0m in \u001b[0;36m_input_request\u001b[0;34m(self, prompt, ident, parent, password)\u001b[0m\n\u001b[1;32m    893\u001b[0m             \u001b[0;32mexcept\u001b[0m \u001b[0mKeyboardInterrupt\u001b[0m\u001b[0;34m:\u001b[0m\u001b[0;34m\u001b[0m\u001b[0;34m\u001b[0m\u001b[0m\n\u001b[1;32m    894\u001b[0m                 \u001b[0;31m# re-raise KeyboardInterrupt, to truncate traceback\u001b[0m\u001b[0;34m\u001b[0m\u001b[0;34m\u001b[0m\u001b[0m\n\u001b[0;32m--> 895\u001b[0;31m                 \u001b[0;32mraise\u001b[0m \u001b[0mKeyboardInterrupt\u001b[0m\u001b[0;34m(\u001b[0m\u001b[0;34m\"Interrupted by user\"\u001b[0m\u001b[0;34m)\u001b[0m \u001b[0;32mfrom\u001b[0m \u001b[0;32mNone\u001b[0m\u001b[0;34m\u001b[0m\u001b[0;34m\u001b[0m\u001b[0m\n\u001b[0m\u001b[1;32m    896\u001b[0m             \u001b[0;32mexcept\u001b[0m \u001b[0mException\u001b[0m \u001b[0;32mas\u001b[0m \u001b[0me\u001b[0m\u001b[0;34m:\u001b[0m\u001b[0;34m\u001b[0m\u001b[0;34m\u001b[0m\u001b[0m\n\u001b[1;32m    897\u001b[0m                 \u001b[0mself\u001b[0m\u001b[0;34m.\u001b[0m\u001b[0mlog\u001b[0m\u001b[0;34m.\u001b[0m\u001b[0mwarning\u001b[0m\u001b[0;34m(\u001b[0m\u001b[0;34m\"Invalid Message:\"\u001b[0m\u001b[0;34m,\u001b[0m \u001b[0mexc_info\u001b[0m\u001b[0;34m=\u001b[0m\u001b[0;32mTrue\u001b[0m\u001b[0;34m)\u001b[0m\u001b[0;34m\u001b[0m\u001b[0;34m\u001b[0m\u001b[0m\n",
            "\u001b[0;31mKeyboardInterrupt\u001b[0m: Interrupted by user"
          ]
        }
      ]
    },
    {
      "cell_type": "code",
      "source": [],
      "metadata": {
        "id": "dFUlqU6Oemea"
      },
      "execution_count": null,
      "outputs": []
    }
  ]
}
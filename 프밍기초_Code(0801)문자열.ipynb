{
  "nbformat": 4,
  "nbformat_minor": 0,
  "metadata": {
    "colab": {
      "provenance": [],
      "authorship_tag": "ABX9TyMEm0dZBmKv9ZS0wcOyY12q",
      "include_colab_link": true
    },
    "kernelspec": {
      "name": "python3",
      "display_name": "Python 3"
    },
    "language_info": {
      "name": "python"
    }
  },
  "cells": [
    {
      "cell_type": "markdown",
      "metadata": {
        "id": "view-in-github",
        "colab_type": "text"
      },
      "source": [
        "<a href=\"https://colab.research.google.com/github/junsikcho/Programming-Basics/blob/main/%ED%94%84%EB%B0%8D%EA%B8%B0%EC%B4%88_Code(0801)%EB%AC%B8%EC%9E%90%EC%97%B4.ipynb\" target=\"_parent\"><img src=\"https://colab.research.google.com/assets/colab-badge.svg\" alt=\"Open In Colab\"/></a>"
      ]
    },
    {
      "cell_type": "markdown",
      "source": [
        "# 문자열\n",
        "1) 문자열의 기본 개념과 구조를 이해하고 설명할 수 있다.\\\n",
        "2) 문자열의 기본 연산(연결, 반복, 슬라이싱)을 활용하여 간단한 프로그램을 만들 수 있다."
      ],
      "metadata": {
        "id": "Nzgc0DU5Da8E"
      }
    },
    {
      "cell_type": "markdown",
      "source": [
        "# 문자열의 개념"
      ],
      "metadata": {
        "id": "oI5y8PYYI4o2"
      }
    },
    {
      "cell_type": "code",
      "source": [
        "# 리스트 코드와 비교\n",
        "# 리스트는 대괄호 [ ]로 묶고 문자열은 작은따옴표로 묶어 출력\n",
        "aa = [10, 20, 30, 40, 50]\n",
        "aa[0]"
      ],
      "metadata": {
        "colab": {
          "base_uri": "https://localhost:8080/"
        },
        "id": "_2fBTb5xJAqz",
        "outputId": "2d89b145-2c44-40e0-d73e-997ec05c13ea"
      },
      "execution_count": null,
      "outputs": [
        {
          "output_type": "execute_result",
          "data": {
            "text/plain": [
              "10"
            ]
          },
          "metadata": {},
          "execution_count": 2
        }
      ]
    },
    {
      "cell_type": "code",
      "source": [
        "aa[1:3]"
      ],
      "metadata": {
        "colab": {
          "base_uri": "https://localhost:8080/"
        },
        "id": "iEQE9HBUKVmR",
        "outputId": "511036ce-f428-45ea-c817-e882525b9c71"
      },
      "execution_count": null,
      "outputs": [
        {
          "output_type": "execute_result",
          "data": {
            "text/plain": [
              "[20, 30]"
            ]
          },
          "metadata": {},
          "execution_count": 3
        }
      ]
    },
    {
      "cell_type": "code",
      "source": [
        "aa[3:]"
      ],
      "metadata": {
        "colab": {
          "base_uri": "https://localhost:8080/"
        },
        "id": "W7FBOkdrKW0w",
        "outputId": "2d1964e5-0c8b-4333-fe97-2ec9271db9ee"
      },
      "execution_count": null,
      "outputs": [
        {
          "output_type": "execute_result",
          "data": {
            "text/plain": [
              "[40, 50]"
            ]
          },
          "metadata": {},
          "execution_count": 4
        }
      ]
    },
    {
      "cell_type": "code",
      "source": [
        "# 리스트 코드와 비교\n",
        "# 리스트는 대괄호 []로 묶고 문자열은 작은 따옴표로 묶어 출력\n",
        "ss = \"파이썬최고\"\n",
        "ss[0]"
      ],
      "metadata": {
        "colab": {
          "base_uri": "https://localhost:8080/",
          "height": 35
        },
        "id": "xjYLK7GEKZYL",
        "outputId": "bc91e962-6daa-46f0-a1df-5cf873d09b75"
      },
      "execution_count": null,
      "outputs": [
        {
          "output_type": "execute_result",
          "data": {
            "text/plain": [
              "'파'"
            ],
            "application/vnd.google.colaboratory.intrinsic+json": {
              "type": "string"
            }
          },
          "metadata": {},
          "execution_count": 5
        }
      ]
    },
    {
      "cell_type": "code",
      "source": [
        "ss[1:3] # 1부터 3전까지"
      ],
      "metadata": {
        "colab": {
          "base_uri": "https://localhost:8080/",
          "height": 35
        },
        "id": "UQUBsq3XKm1B",
        "outputId": "6b1ad031-a914-4856-e3ee-dca40425bc31"
      },
      "execution_count": null,
      "outputs": [
        {
          "output_type": "execute_result",
          "data": {
            "text/plain": [
              "'이썬'"
            ],
            "application/vnd.google.colaboratory.intrinsic+json": {
              "type": "string"
            }
          },
          "metadata": {},
          "execution_count": 6
        }
      ]
    },
    {
      "cell_type": "code",
      "source": [
        "ss[3:]"
      ],
      "metadata": {
        "colab": {
          "base_uri": "https://localhost:8080/",
          "height": 35
        },
        "id": "JvqERZczKq5w",
        "outputId": "e0292858-670d-4e1b-fea0-744748f0475a"
      },
      "execution_count": null,
      "outputs": [
        {
          "output_type": "execute_result",
          "data": {
            "text/plain": [
              "'최고'"
            ],
            "application/vnd.google.colaboratory.intrinsic+json": {
              "type": "string"
            }
          },
          "metadata": {},
          "execution_count": 7
        }
      ]
    },
    {
      "cell_type": "code",
      "source": [
        "ss = '파이썬' + '최고'\n",
        "ss"
      ],
      "metadata": {
        "colab": {
          "base_uri": "https://localhost:8080/",
          "height": 35
        },
        "id": "ZCbBA5UYKtCQ",
        "outputId": "6fd3fc65-bd41-4d78-97ee-0b42893d60f6"
      },
      "execution_count": null,
      "outputs": [
        {
          "output_type": "execute_result",
          "data": {
            "text/plain": [
              "'파이썬최고'"
            ],
            "application/vnd.google.colaboratory.intrinsic+json": {
              "type": "string"
            }
          },
          "metadata": {},
          "execution_count": 8
        }
      ]
    },
    {
      "cell_type": "code",
      "source": [
        "ss = '파이썬' * 3\n",
        "ss"
      ],
      "metadata": {
        "colab": {
          "base_uri": "https://localhost:8080/",
          "height": 35
        },
        "id": "ym4gGZ9GKxNd",
        "outputId": "b7f88744-4d0c-4ae8-b0d1-fffd06b96d04"
      },
      "execution_count": null,
      "outputs": [
        {
          "output_type": "execute_result",
          "data": {
            "text/plain": [
              "'파이썬파이썬파이썬'"
            ],
            "application/vnd.google.colaboratory.intrinsic+json": {
              "type": "string"
            }
          },
          "metadata": {},
          "execution_count": 10
        }
      ]
    },
    {
      "cell_type": "markdown",
      "source": [
        "# 문자열의 개념"
      ],
      "metadata": {
        "id": "ucH24tU9K0o6"
      }
    },
    {
      "cell_type": "markdown",
      "source": [
        "len()함수 : 리스트나 문자열의 개수를 셀 때 사용"
      ],
      "metadata": {
        "id": "WRYmW6kpK5dG"
      }
    },
    {
      "cell_type": "code",
      "source": [
        "ss = '파이썬abcd'\n",
        "len(ss)"
      ],
      "metadata": {
        "colab": {
          "base_uri": "https://localhost:8080/"
        },
        "id": "W7CMp3YVLDCH",
        "outputId": "d6d6b341-9096-428f-f153-1e9d5620783d"
      },
      "execution_count": null,
      "outputs": [
        {
          "output_type": "execute_result",
          "data": {
            "text/plain": [
              "7"
            ]
          },
          "metadata": {},
          "execution_count": 12
        }
      ]
    },
    {
      "cell_type": "markdown",
      "source": [
        "문자열의 모든 글자 뒤에 $를 붙여서 출력하는 코드"
      ],
      "metadata": {
        "id": "gMcycMfiLIHx"
      }
    },
    {
      "cell_type": "code",
      "source": [
        "ss = '파이썬짱!'\n",
        "\n",
        "sslen = len(ss) # 3행 : 문자열의 길이를 sslen 변수에 저장\n",
        "for i in range(0, sslen) : # 4행 : 문자열의 길이만큼 반복\n",
        "  print(ss[i] + '$', end = '') # 5행 : 글자 하나와 $를 붙여서 출력"
      ],
      "metadata": {
        "colab": {
          "base_uri": "https://localhost:8080/"
        },
        "id": "JQE3XSpmLMu7",
        "outputId": "d471d84a-a866-46c4-92b5-23c33ca015ab"
      },
      "execution_count": null,
      "outputs": [
        {
          "output_type": "stream",
          "name": "stdout",
          "text": [
            "파$이$썬$짱$!$"
          ]
        }
      ]
    },
    {
      "cell_type": "code",
      "source": [
        "# SELF STUDY\n",
        "# 위 코드를 수정해서 '파이썬은완전재미있어요' 에서 '파#썬#완#재#있#요'를 출력해 보자.\n",
        "\n",
        "ss = '파이썬은완전재미있어요'\n",
        "\n",
        "sslen = len(ss)  # 문자열의 길이를 sslen 변수에 저장\n",
        "for i in range(0, sslen):  # 문자열의 길이만큼 반복\n",
        "    if i % 2 == 0:  # 짝수 번째일 때\n",
        "        print(ss[i], end='')  # 해당 글자를 출력\n",
        "    else:  # 홀수 번째일 때\n",
        "        print('#', end='')  # # 출력\n"
      ],
      "metadata": {
        "colab": {
          "base_uri": "https://localhost:8080/"
        },
        "id": "hf6Kwx9TLnhX",
        "outputId": "0d9ebfa3-463c-4c16-e94e-b4388cdb794a"
      },
      "execution_count": 1,
      "outputs": [
        {
          "output_type": "stream",
          "name": "stdout",
          "text": [
            "파#썬#완#재#있#요"
          ]
        }
      ]
    },
    {
      "cell_type": "code",
      "source": [
        "# 문자열을 입력받아 반대로 출력\n",
        "\n",
        "## 변수 선언 부분 ##\n",
        "inStr, outStr = \"\", \"\" # 2행 : inStr은 문자열 입력받을 변수, outStr은 문자열을 거꾸로 저장하는 변수\n",
        "count, i = 0, 0 # count는 문자열의 개수를 저장 , i는 0,1,2 ...로 변함\n",
        "\n",
        "## 메인 코드 부분 ##\n",
        "inStr = input(\"문자열을 입력하세요 : \")\n",
        "count = len(inStr) # 입력받은 문자열의 개수 계산\n",
        "\n",
        "for i in range(0, count) : # 문자열의 개수만큼 반복\n",
        "  outStr += inStr[count - (i + 1)] #입력한 문자열이 3글자라면 inStr[0], inStr[1], inStr[2] 3개가 있는 것이므로\n",
        "  # 첫 번째 (i가 0)에는 inStr[2]가 추가, 두 번째(i가 1)에는 inStr[1]이 추가, 세 번째(i가 2)에는 inStr[0]이 추가\n",
        "print(\"내용을 거꾸로 출력 --> %s\" % outStr)"
      ],
      "metadata": {
        "colab": {
          "base_uri": "https://localhost:8080/"
        },
        "id": "esniFs0wNJeM",
        "outputId": "8c60fa92-b5c5-40e7-8a80-ff2a08cb3acf"
      },
      "execution_count": null,
      "outputs": [
        {
          "output_type": "stream",
          "name": "stdout",
          "text": [
            "문자열을 입력하세요 : 즐거운 Python 프로그래밍\n",
            "내용을 거꾸로 출력 --> 밍래그로프 nohtyP 운거즐\n"
          ]
        }
      ]
    }
  ]
}
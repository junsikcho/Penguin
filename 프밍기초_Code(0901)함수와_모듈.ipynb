{
  "nbformat": 4,
  "nbformat_minor": 0,
  "metadata": {
    "colab": {
      "provenance": [],
      "authorship_tag": "ABX9TyOFYxiowHHlrJF0GhpMMMmT",
      "include_colab_link": true
    },
    "kernelspec": {
      "name": "python3",
      "display_name": "Python 3"
    },
    "language_info": {
      "name": "python"
    }
  },
  "cells": [
    {
      "cell_type": "markdown",
      "metadata": {
        "id": "view-in-github",
        "colab_type": "text"
      },
      "source": [
        "<a href=\"https://colab.research.google.com/github/junsikcho/Programming-Basics/blob/main/%ED%94%84%EB%B0%8D%EA%B8%B0%EC%B4%88_Code(0901)%ED%95%A8%EC%88%98%EC%99%80_%EB%AA%A8%EB%93%88.ipynb\" target=\"_parent\"><img src=\"https://colab.research.google.com/assets/colab-badge.svg\" alt=\"Open In Colab\"/></a>"
      ]
    },
    {
      "cell_type": "markdown",
      "source": [
        "# 함수와 모듈"
      ],
      "metadata": {
        "id": "Li8i482WJohH"
      }
    },
    {
      "cell_type": "markdown",
      "source": [
        "- 함수의 정의와 기본 사용법을 설명할 수 있다.\n",
        "- 함수의 리턴값과 매개변수의 개념을 이해할 수 있다."
      ],
      "metadata": {
        "id": "ZpSFkZx3KI2F"
      }
    },
    {
      "cell_type": "markdown",
      "source": [
        "- 함수(Function) : '무엇'을 넣으며녀, '어떤 것'을 돌려주는 요술 상자\n",
        "- 메서드(Method)와 차이점 : 함수는 외부에 별도로 존재, 메서드는 클래스 안에 존재"
      ],
      "metadata": {
        "id": "L8uTxNpdKSJ6"
      }
    },
    {
      "cell_type": "markdown",
      "source": [
        "- 함수의 개념과 필요성\\\n",
        "1) 함수의 형식 - 함수명()\\\n",
        "2) print()함수 - print(\"CookBook-파이썬\")"
      ],
      "metadata": {
        "id": "uSmKLdHjKhJe"
      }
    },
    {
      "cell_type": "code",
      "source": [
        "# 커피를 타는 과정의 코드\n",
        "\n",
        "coffee = 0\n",
        "\n",
        "coffee = int(input(\"어떤 커피 드릴까요?(1:보통, 2:설탕, 3:블랙)\")) # 3행 : 손님에게 커피의 종류 입력\n",
        "\n",
        "print()\n",
        "print(\"#1. 뜨거운 물을 준비한다.\");\n",
        "print(\"#2. 종이컵을 준비한다.\"); # 8~9행 : 물과 컵을 준비하는 메세지 출력\n",
        "\n",
        "if coffee == 1 :\n",
        "  print(\"#3. 보통커피를 탄다.\")\n",
        "elif coffee == 2 :\n",
        "  print(\"#3. 설탕커피를 탄다.\")\n",
        "elif coffee == 3 :\n",
        "  print(\"#3. 블랙커피를 탄다.\")\n",
        "else :\n",
        "  print(\"#3. 아무거나 탄다. \\n\")\n",
        "\n",
        "print(\"#4. 물을 붓는다.\");\n",
        "print(\"#5. 스푼으로 젓는다.\"); # 20 ~21행 : 물을 붓고 커피를 스푼으로 잘 저어 녹인후\n",
        "print()\n",
        "print(\"손님 ~ 커피 여기 있습니다.\") # 23행 : 완성된 커피를 손님에게 제공"
      ],
      "metadata": {
        "colab": {
          "base_uri": "https://localhost:8080/"
        },
        "id": "gJOWFenuKwlk",
        "outputId": "dc7d84bb-6d18-4883-bcbd-31c6e7b39f77"
      },
      "execution_count": 3,
      "outputs": [
        {
          "output_type": "stream",
          "name": "stdout",
          "text": [
            "어떤 커피 드릴까요?(1:보통, 2:설탕, 3:블랙)2\n",
            "\n",
            "#1. 뜨거운 물을 준비한다.\n",
            "#2. 종이컵을 준비한다.\n",
            "#3. 설탕커피를 탄다.\n",
            "#4. 물을 붓는다.\n",
            "#5. 스푼으로 젓는다.\n",
            "\n",
            "손님 ~ 커피 여기 있습니다.\n"
          ]
        }
      ]
    },
    {
      "cell_type": "markdown",
      "source": [
        "# 함수의 개념과 필요성\n",
        "- 커피 자판기 사용\\\n",
        "1) 커피 자판기 실제 프로그램으로 만들기"
      ],
      "metadata": {
        "id": "PGPSWyHPN3gP"
      }
    },
    {
      "cell_type": "code",
      "source": [
        "## 전역 변수 선언 부분 ##\n",
        "coffee = 0\n",
        "\n",
        "## 함수 선언 부분 ##\n",
        "def coffee_machine(button) :\n",
        "  print()\n",
        "  print(\"#1. (자동으로) 뜨거운 물을 준비한다.\");\n",
        "  print(\"#2. (자동으로) 종이컵을 준비한다.\");\n",
        "\n",
        "  if button == 1 :\n",
        "    print(\"#3. (자동으로) 보통커피를 탄다.\")\n",
        "  elif button == 2 :\n",
        "    print(\"#3. (자동으로) 설탕커피를 탄다.\")\n",
        "  elif button == 3 :\n",
        "    print(\"#3. (자동으로) 블랙커피를 탄다.\")\n",
        "  else :\n",
        "    print(\"#3. (자동으로) 아무거나 탄다.\\n\")\n",
        "\n",
        "  print(\"#4. (자동으로) 물을 붓는다.\");\n",
        "  print(\"#5. (자동으로) 스푼으로 젓는다.\");\n",
        "  print()\n",
        "\n",
        "## 메인 코드 부분 ##\n",
        "coffee = int(input(\"어떤 커피 드릴까요? (1 : 보통, 2 : 설탕, 3 : 블랙)\"))\n",
        "coffee_machine(coffee)\n",
        "print(\"손님 ~ 커피 여기 있습니다.\");"
      ],
      "metadata": {
        "colab": {
          "base_uri": "https://localhost:8080/"
        },
        "id": "kydrqYR2KvXF",
        "outputId": "d0bf5327-f42c-499f-bbbd-9946bc15b345"
      },
      "execution_count": 5,
      "outputs": [
        {
          "output_type": "stream",
          "name": "stdout",
          "text": [
            "어떤 커피 드릴까요? (1 : 보통, 2 : 설탕, 3 : 블랙)1\n",
            "\n",
            "#1. (자동으로) 뜨거운 물을 준비한다.\n",
            "#2. (자동으로) 종이컵을 준비한다.\n",
            "#3. (자동으로) 보통커피를 탄다.\n",
            "#4. (자동으로) 물을 붓는다.\n",
            "#5. (자동으로) 스푼으로 젓는다.\n",
            "\n",
            "손님 ~ 커피 여기 있습니다.\n"
          ]
        }
      ]
    },
    {
      "cell_type": "code",
      "source": [
        "# 위 코드를 이용 연속해서 방문한 손님(A, B, C) 3명에게 커피 대접\n",
        "\n",
        "## 전역 변수 선언 부분 ##\n",
        "coffee = 0\n",
        "\n",
        "## 함수 선언 부분 ##\n",
        "def coffee_machine(button) :\n",
        "  print()\n",
        "  print(\"#1. (자동으로) 뜨거운 물을 준비한다.\");\n",
        "  print(\"#2. (자동으로) 종이컵을 준비한다.\");\n",
        "\n",
        "  if button == 1 :\n",
        "    print(\"#3. (자동으로) 보통커피를 탄다.\")\n",
        "  elif button == 2 :\n",
        "    print(\"#3. (자동으로) 설탕커피를 탄다.\")\n",
        "  elif button == 3 :\n",
        "    print(\"#3. (자동으로) 블랙커피를 탄다.\")\n",
        "  else :\n",
        "    print(\"#3. (자동으로) 아무거나 탄다.\\n\")\n",
        "\n",
        "  print(\"#4. (자동으로) 물을 붓는다.\");\n",
        "  print(\"#5. (자동으로) 스푼으로 젓는다.\");\n",
        "  print()\n",
        "\n",
        "## 메인 코드 부분 ##\n",
        "coffee = int(input(\"A손님, 어떤 커피 드릴까요? (1 : 보통, 2 : 설탕, 3 : 블랙)\"))\n",
        "coffee_machine(coffee)\n",
        "print(\"A손님 ~ 커피 여기 있습니다.\")\n",
        "\n",
        "coffee = int(input(\"B손님, 어떤 커피 드릴까요? (1 : 보통, 2 : 설탕, 3 : 블랙)\"))\n",
        "coffee_machine(coffee)\n",
        "print(\"B손님 ~ 커피 여기 있습니다.\")\n",
        "\n",
        "coffee = int(input(\"B손님, 어떤 커피 드릴까요? (1 : 보통, 2 : 설탕, 3 : 블랙)\"))\n",
        "coffee_machine(coffee)\n",
        "print(\"C손님 ~ 커피 여기 있습니다.\")"
      ],
      "metadata": {
        "colab": {
          "base_uri": "https://localhost:8080/"
        },
        "id": "KFZLM-EBN-qD",
        "outputId": "08f4c931-4c73-489a-d344-1fdf34cdc938"
      },
      "execution_count": 6,
      "outputs": [
        {
          "output_type": "stream",
          "name": "stdout",
          "text": [
            "A손님, 어떤 커피 드릴까요? (1 : 보통, 2 : 설탕, 3 : 블랙)1\n",
            "\n",
            "#1. (자동으로) 뜨거운 물을 준비한다.\n",
            "#2. (자동으로) 종이컵을 준비한다.\n",
            "#3. (자동으로) 보통커피를 탄다.\n",
            "#4. (자동으로) 물을 붓는다.\n",
            "#5. (자동으로) 스푼으로 젓는다.\n",
            "\n",
            "A손님 ~ 커피 여기 있습니다.\n",
            "B손님, 어떤 커피 드릴까요? (1 : 보통, 2 : 설탕, 3 : 블랙)2\n",
            "\n",
            "#1. (자동으로) 뜨거운 물을 준비한다.\n",
            "#2. (자동으로) 종이컵을 준비한다.\n",
            "#3. (자동으로) 설탕커피를 탄다.\n",
            "#4. (자동으로) 물을 붓는다.\n",
            "#5. (자동으로) 스푼으로 젓는다.\n",
            "\n",
            "B손님 ~ 커피 여기 있습니다.\n",
            "B손님, 어떤 커피 드릴까요? (1 : 보통, 2 : 설탕, 3 : 블랙)3\n",
            "\n",
            "#1. (자동으로) 뜨거운 물을 준비한다.\n",
            "#2. (자동으로) 종이컵을 준비한다.\n",
            "#3. (자동으로) 블랙커피를 탄다.\n",
            "#4. (자동으로) 물을 붓는다.\n",
            "#5. (자동으로) 스푼으로 젓는다.\n",
            "\n",
            "C손님 ~ 커피 여기 있습니다.\n"
          ]
        }
      ]
    },
    {
      "cell_type": "code",
      "source": [
        "# SELF STUDY 커피 자판기 사용 ( 아메리카노, 카페라떼, 카푸치노, 에스프레소 중 하나 선택)\n",
        "## 전역 변수 선언 부분 ##\n",
        "coffee = 0\n",
        "\n",
        "## 함수 선언 부분 ##\n",
        "def coffee_machine(button) :\n",
        "  print()\n",
        "  print(\"#1. (자동으로) 뜨거운 물을 준비한다.\");\n",
        "  print(\"#2. (자동으로) 종이컵을 준비한다.\");\n",
        "\n",
        "  if button == 1 :\n",
        "    print(\"#3. (자동으로) 아메리카노를 탄다.\")\n",
        "  elif button == 2 :\n",
        "    print(\"#3. (자동으로) 카페라테를 탄다.\")\n",
        "  elif button == 3 :\n",
        "    print(\"#3. (자동으로) 카푸치노를 탄다.\")\n",
        "  elif button == 4 :\n",
        "    print(\"#3. (자동으로) 에스프레소 탄다.\")\n",
        "  else :\n",
        "    print(\"#3. (자동으로) 아무거나 탄다.\\n\")\n",
        "\n",
        "  print(\"#4. (자동으로) 물을 붓는다.\");\n",
        "  print(\"#5. (자동으로) 스푼으로 젓는다.\");\n",
        "  print()\n",
        "\n",
        "## 메인 코드 부분 ##\n",
        "coffee = int(input(\"로제씨, 어떤 커피 드릴까요? (1 : 아메키라노, 2 : 카페라떼, 3 : 카푸치노, 4 : 에스프레소)\"))\n",
        "coffee_machine(coffee)\n",
        "print(\"로제씨 ~ 커피 여기 있습니다.\")\n",
        "\n",
        "coffee = int(input(\"리사씨, 어떤 커피 드릴까요? (1 : 아메키라노, 2 : 카페라떼, 3 : 카푸치노, 4 : 에스프레소)\"))\n",
        "coffee_machine(coffee)\n",
        "print(\"리사씨 ~ 커피 여기 있습니다.\")\n",
        "\n",
        "coffee = int(input(\"지수씨, 어떤 커피 드릴까요? (1 : 아메키라노, 2 : 카페라떼, 3 : 카푸치노, 4 : 에스프레소)\"))\n",
        "coffee_machine(coffee)\n",
        "print(\"지수씨 ~ 커피 여기 있습니다.\")\n",
        "\n",
        "coffee = int(input(\"제니씨, 어떤 커피 드릴까요? (1 : 아메키라노, 2 : 카페라떼, 3 : 카푸치노, 4 : 에스프레소)\"))\n",
        "coffee_machine(coffee)\n",
        "print(\"제니씨 ~ 커피 여기 있습니다.\")"
      ],
      "metadata": {
        "colab": {
          "base_uri": "https://localhost:8080/"
        },
        "id": "qxgjW41XOmo4",
        "outputId": "9c6527ce-55f8-41bd-ed8e-8f42fe2b3dbc"
      },
      "execution_count": 8,
      "outputs": [
        {
          "output_type": "stream",
          "name": "stdout",
          "text": [
            "로제씨, 어떤 커피 드릴까요? (1 : 아메키라노, 2 : 카페라떼, 3 : 카푸치노, 4 : 에스프레소)4\n",
            "\n",
            "#1. (자동으로) 뜨거운 물을 준비한다.\n",
            "#2. (자동으로) 종이컵을 준비한다.\n",
            "#3. (자동으로) 에스프레소 탄다.\n",
            "#4. (자동으로) 물을 붓는다.\n",
            "#5. (자동으로) 스푼으로 젓는다.\n",
            "\n",
            "로제씨 ~ 커피 여기 있습니다.\n",
            "리사씨, 어떤 커피 드릴까요? (1 : 아메키라노, 2 : 카페라떼, 3 : 카푸치노, 4 : 에스프레소)3\n",
            "\n",
            "#1. (자동으로) 뜨거운 물을 준비한다.\n",
            "#2. (자동으로) 종이컵을 준비한다.\n",
            "#3. (자동으로) 카푸치노를 탄다.\n",
            "#4. (자동으로) 물을 붓는다.\n",
            "#5. (자동으로) 스푼으로 젓는다.\n",
            "\n",
            "리사씨 ~ 커피 여기 있습니다.\n",
            "지수씨, 어떤 커피 드릴까요? (1 : 아메키라노, 2 : 카페라떼, 3 : 카푸치노, 4 : 에스프레소)2\n",
            "\n",
            "#1. (자동으로) 뜨거운 물을 준비한다.\n",
            "#2. (자동으로) 종이컵을 준비한다.\n",
            "#3. (자동으로) 카페라테를 탄다.\n",
            "#4. (자동으로) 물을 붓는다.\n",
            "#5. (자동으로) 스푼으로 젓는다.\n",
            "\n",
            "지수씨 ~ 커피 여기 있습니다.\n",
            "제니씨, 어떤 커피 드릴까요? (1 : 아메키라노, 2 : 카페라떼, 3 : 카푸치노, 4 : 에스프레소)1\n",
            "\n",
            "#1. (자동으로) 뜨거운 물을 준비한다.\n",
            "#2. (자동으로) 종이컵을 준비한다.\n",
            "#3. (자동으로) 아메리카노를 탄다.\n",
            "#4. (자동으로) 물을 붓는다.\n",
            "#5. (자동으로) 스푼으로 젓는다.\n",
            "\n",
            "제니씨 ~ 커피 여기 있습니다.\n"
          ]
        }
      ]
    },
    {
      "cell_type": "markdown",
      "source": [
        "- plus() 함수"
      ],
      "metadata": {
        "id": "YEyrUHGaQNOV"
      }
    },
    {
      "cell_type": "code",
      "source": [
        "## 함수 선언 부분 ## 2~5행 : plus()함수를 정의\n",
        "def plus(v1, v2) :\n",
        "  result = 0\n",
        "  result = v1 + v2 # 4행 : 매개변수로 받은 두 값의 합계를 구함\n",
        "  return result # 5행 : 반환\n",
        "\n",
        "## 전역 변수 선언 부분 ##\n",
        "hap = 0\n",
        "\n",
        "## 메인 코드 부분 ##\n",
        "hap = plus(100, 200) # 11행 : 100, 200 두 값을 전달하면서 plus()함수를 호출해 hap에 대입\n",
        "print(\"100과 200의 plus() 함수 결과는 %d\" % hap) # 12행 : plus()함수에서 반환된 값 출력"
      ],
      "metadata": {
        "colab": {
          "base_uri": "https://localhost:8080/"
        },
        "id": "oE2SzmizT5GQ",
        "outputId": "0df4296f-ffc1-4e01-86f1-a5de6ef3c224"
      },
      "execution_count": 9,
      "outputs": [
        {
          "output_type": "stream",
          "name": "stdout",
          "text": [
            "100과 200의 plus() 함수 결과는 300\n"
          ]
        }
      ]
    },
    {
      "cell_type": "markdown",
      "source": [
        "- 덧셈, 뺄셈, 곱셈, 나눗셈을 하는 계산기 함수를 작성"
      ],
      "metadata": {
        "id": "_w2XWNjKVPtx"
      }
    },
    {
      "cell_type": "code",
      "source": [
        "## 함수 선언 부분 ##\n",
        "def calc(v1, v2, op) : # 2 ~ 13행 : 매개변수를 3개 받는 calc()함수를 정의\n",
        "  result = 0\n",
        "  if op == '+' :       # 4 ~ 11행 : 사용자가 입력한 연산자에 따라 필요한 연산을 수행\n",
        "    result = v1 + v2\n",
        "  elif op == '-' :\n",
        "    result = v1 - v2\n",
        "  elif op == '*' :\n",
        "    result = v1 * v2\n",
        "  elif op == '/' :\n",
        "    result = v1 / v2\n",
        "\n",
        "  return result        # 13행 : 계산된 값을 return으로 반환\n",
        "\n",
        "## 전역 변수 선언 부분 ##\n",
        "res = 0\n",
        "var1, var2, oper = 0, 0, \"\"\n",
        "\n",
        "## 메인 코드 부분 ##\n",
        "oper = input(\"계산을 입력하시오(+, -, *, /) : \") # 20행 : 어떤 연산을 할지 연산자를 입력\n",
        "var1 = int(input(\"첫 번째 수를 입력하시오 : \")) # 21 : 계산할 숫자 2개를 입력\n",
        "\n",
        "var2 = int(input(\"두 번째 수를 입력하시오 : \")) # 22 : 계산할 숫자 2개를 입력\n",
        "\n",
        "res = calc(var1, var2, oper)  # 13행 : func1()함수 호출 24행 : calc()함수에 매개 변수 3개를 넘겨주며 호출\n",
        "# calc()함수에서 반환한 값을 res에 넣음\n",
        "\n",
        "print(\"## 계산기 : %d %s %d = %d\" % (var1, oper, var2, res)) # 계산식 출력\n",
        "\n",
        "'''\n",
        "- 매개변수(파라미터)는 지역 변수로 취급\n",
        "- calc() 함수가 받는 매개변수 v1, v2, op는 모두 calc()함수 안에서만 사용되는 지역 변수\n",
        "- 지역 변수와 전역 변수는 바로 이어서 설명\n",
        "'''"
      ],
      "metadata": {
        "colab": {
          "base_uri": "https://localhost:8080/"
        },
        "id": "sSXqbzE_U8fP",
        "outputId": "c3382d83-cbfd-47af-edd8-44624e4c993f"
      },
      "execution_count": 22,
      "outputs": [
        {
          "output_type": "stream",
          "name": "stdout",
          "text": [
            "계산을 입력하시오(+, -, *, /) : *\n",
            "첫 번째 수를 입력하시오 : 7\n",
            "두 번째 수를 입력하시오 : 8\n",
            "## 계산기 : 7 * 8 = 56\n"
          ]
        }
      ]
    },
    {
      "cell_type": "code",
      "source": [
        "## 함수 선언 부분 ##\n",
        "def calc(v1, v2, op):\n",
        "    result = 0\n",
        "    if op == '+':\n",
        "        result = v1 + v2\n",
        "    elif op == '-':\n",
        "        result = v1 - v2\n",
        "    elif op == '*':\n",
        "        result = v1 * v2\n",
        "    elif op == '/':\n",
        "        # 0으로 나누는 경우 처리\n",
        "        if v2 == 0:\n",
        "            return \"0으로는 나눌 수 없습니다.ㅠㅠ\"\n",
        "        result = v1 / v2\n",
        "    elif op == '**':\n",
        "        result = v1 ** v2\n",
        "    else:\n",
        "        return \"잘못된 연산자입니다.\"  # 예외 처리 추가\n",
        "    return result\n",
        "\n",
        "## 전역 변수 선언 부분 ##\n",
        "res = 0\n",
        "var1, var2, oper = 0, 0, \"\"\n",
        "\n",
        "## 메인 코드 부분 ##\n",
        "var1 = int(input(\"첫 번째 수를 입력하시오 : \"))\n",
        "oper = input(\"계산을 입력하시오(+, -, *, /, **) : \")\n",
        "var2 = int(input(\"두 번째 수를 입력하시오 : \"))\n",
        "\n",
        "res = calc(var1, var2, oper)\n",
        "\n",
        "if isinstance(res, str):  # 에러 메시지인지 확인\n",
        "    print(res)\n",
        "else:\n",
        "    print(\"## 계산기 : %d %s %d = %s\" % (var1, oper, var2, res))\n"
      ],
      "metadata": {
        "colab": {
          "base_uri": "https://localhost:8080/"
        },
        "id": "3D_8nvICXNfP",
        "outputId": "455456c5-4d0e-491a-bab2-076ea44b6735"
      },
      "execution_count": 29,
      "outputs": [
        {
          "output_type": "stream",
          "name": "stdout",
          "text": [
            "첫 번째 수를 입력하시오 : 8\n",
            "계산을 입력하시오(+, -, *, /, **) : /\n",
            "두 번째 수를 입력하시오 : 0\n",
            "0으로는 나눌 수 없습니다.ㅠㅠ\n"
          ]
        }
      ]
    }
  ]
}
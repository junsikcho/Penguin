{
  "nbformat": 4,
  "nbformat_minor": 0,
  "metadata": {
    "colab": {
      "provenance": [],
      "authorship_tag": "ABX9TyOBaR1a7+ighrgvQEBKhEQN",
      "include_colab_link": true
    },
    "kernelspec": {
      "name": "python3",
      "display_name": "Python 3"
    },
    "language_info": {
      "name": "python"
    }
  },
  "cells": [
    {
      "cell_type": "markdown",
      "metadata": {
        "id": "view-in-github",
        "colab_type": "text"
      },
      "source": [
        "<a href=\"https://colab.research.google.com/github/junsikcho/Programming-Basics/blob/main/%ED%94%84%EB%B0%8D%EA%B8%B0%EC%B4%88_Code(0602)%EB%B0%98%EB%B3%B5%EB%AC%B8.ipynb\" target=\"_parent\"><img src=\"https://colab.research.google.com/assets/colab-badge.svg\" alt=\"Open In Colab\"/></a>"
      ]
    },
    {
      "cell_type": "markdown",
      "source": [
        "'''\n",
        "jun sik \\\n",
        "반복문\n",
        "- 중첩 for 문과 while 문\\\n",
        "1) 중첩 for문의 개념과 구조를 이해하고, 이를 통해 중첩된 반복 작업을 구현할 수 있다.\\\n",
        "2) while 문의 기본 문법과 사용법을 이해하고, 조건에 따라 반복 작업이 실행되는 프로그램을 작성할 수 있다.\n",
        "'''"
      ],
      "metadata": {
        "id": "VAkD-ECIxIlf"
      }
    },
    {
      "cell_type": "markdown",
      "source": [
        "# 중첩 for문의 개념\n",
        "\n",
        "바깥쪽이 3번 도는 동안 안쪽은 각각 2번씩 돌아 총 3x2 = 6번 반복\\\n",
        "바깥 for문 (총 3회 반복)\\\n",
        "안쪽 for 문 (각각 2회 반복 총 6회)"
      ],
      "metadata": {
        "id": "wNsNZXqCx5R4"
      }
    },
    {
      "cell_type": "code",
      "source": [
        "# 중첩 for 문의 기본 형식\n",
        "\n",
        "for i in range (0, 3, 1) :\n",
        "  for k in  range(0, 2, 1) :\n",
        "    print(\"파이썬은 꿀잼입니다. ^^ (i값 : %d, k값 : %d)\" % (i, k))"
      ],
      "metadata": {
        "colab": {
          "base_uri": "https://localhost:8080/"
        },
        "id": "v1ZOfljPySCg",
        "outputId": "be6a4c81-36dc-484e-f0c2-2202bbb19c50"
      },
      "execution_count": 1,
      "outputs": [
        {
          "output_type": "stream",
          "name": "stdout",
          "text": [
            "파이썬은 꿀잼입니다. ^^ (i값 : 0, k값 : 0)\n",
            "파이썬은 꿀잼입니다. ^^ (i값 : 0, k값 : 1)\n",
            "파이썬은 꿀잼입니다. ^^ (i값 : 1, k값 : 0)\n",
            "파이썬은 꿀잼입니다. ^^ (i값 : 1, k값 : 1)\n",
            "파이썬은 꿀잼입니다. ^^ (i값 : 2, k값 : 0)\n",
            "파이썬은 꿀잼입니다. ^^ (i값 : 2, k값 : 1)\n"
          ]
        }
      ]
    },
    {
      "cell_type": "markdown",
      "source": [
        "처리 순서\n",
        "\\\n",
        "외부 변수인 i는 계속 0, 1, 2로 변경된 후 끝나지만, 내부 변수인 k는 0과 1을 계속 반복"
      ],
      "metadata": {
        "id": "iBVodPlqzI-Y"
      }
    },
    {
      "cell_type": "code",
      "source": [
        "1)\n",
        "외부 for 문 1회 : i에 0을 대입\n",
        "내부 for 문 1회 : k에 0을 대입 후 print()함수 수행\n",
        "내부 for 문 2회 : k에 1을 대입 후 print()함수 수행"
      ],
      "metadata": {
        "id": "5rESF5R3zEbb"
      },
      "execution_count": null,
      "outputs": []
    },
    {
      "cell_type": "code",
      "source": [
        "2)\n",
        "외부 for 문 2회 : i에 1을 대입\n",
        "내부 for 문 1회 : k에 0을 대입 후 print() 함수 수행\n",
        "내부 for 문 2회 : k에 1을 대입 후 print() 함수 수행"
      ],
      "metadata": {
        "id": "VHIdNWt0zN4T"
      },
      "execution_count": null,
      "outputs": []
    },
    {
      "cell_type": "code",
      "source": [
        "3)\n",
        "외부 for 문 3회 : i에 2를 대입\n",
        "내부 for 문 1회 : k에 0을 대입 후 print() 함수 수행\n",
        "내부 for 문 2회 : k에 1을 대입 후 print() 함수 수행"
      ],
      "metadata": {
        "id": "tx-azQgRzWFR"
      },
      "execution_count": null,
      "outputs": []
    },
    {
      "cell_type": "code",
      "source": [
        "# 중첩 for문에서 i와 k값 변화\n",
        "\n",
        "i = 0\n",
        "k = 0\n",
        "\n",
        "for i in range(2, 10, 1) :\n",
        "  for k in range(1, 10, 1) :\n",
        "    print(\"%d X %d = %2d\" % (i, k, i * k))\n",
        "    print(\" \")"
      ],
      "metadata": {
        "colab": {
          "base_uri": "https://localhost:8080/"
        },
        "id": "9A5sus8XzbYR",
        "outputId": "10c7f3f6-d041-4362-9bae-10a2f52b7a1c"
      },
      "execution_count": 3,
      "outputs": [
        {
          "output_type": "stream",
          "name": "stdout",
          "text": [
            "2 X 1 =  2\n",
            " \n",
            "2 X 2 =  4\n",
            " \n",
            "2 X 3 =  6\n",
            " \n",
            "2 X 4 =  8\n",
            " \n",
            "2 X 5 = 10\n",
            " \n",
            "2 X 6 = 12\n",
            " \n",
            "2 X 7 = 14\n",
            " \n",
            "2 X 8 = 16\n",
            " \n",
            "2 X 9 = 18\n",
            " \n",
            "3 X 1 =  3\n",
            " \n",
            "3 X 2 =  6\n",
            " \n",
            "3 X 3 =  9\n",
            " \n",
            "3 X 4 = 12\n",
            " \n",
            "3 X 5 = 15\n",
            " \n",
            "3 X 6 = 18\n",
            " \n",
            "3 X 7 = 21\n",
            " \n",
            "3 X 8 = 24\n",
            " \n",
            "3 X 9 = 27\n",
            " \n",
            "4 X 1 =  4\n",
            " \n",
            "4 X 2 =  8\n",
            " \n",
            "4 X 3 = 12\n",
            " \n",
            "4 X 4 = 16\n",
            " \n",
            "4 X 5 = 20\n",
            " \n",
            "4 X 6 = 24\n",
            " \n",
            "4 X 7 = 28\n",
            " \n",
            "4 X 8 = 32\n",
            " \n",
            "4 X 9 = 36\n",
            " \n",
            "5 X 1 =  5\n",
            " \n",
            "5 X 2 = 10\n",
            " \n",
            "5 X 3 = 15\n",
            " \n",
            "5 X 4 = 20\n",
            " \n",
            "5 X 5 = 25\n",
            " \n",
            "5 X 6 = 30\n",
            " \n",
            "5 X 7 = 35\n",
            " \n",
            "5 X 8 = 40\n",
            " \n",
            "5 X 9 = 45\n",
            " \n",
            "6 X 1 =  6\n",
            " \n",
            "6 X 2 = 12\n",
            " \n",
            "6 X 3 = 18\n",
            " \n",
            "6 X 4 = 24\n",
            " \n",
            "6 X 5 = 30\n",
            " \n",
            "6 X 6 = 36\n",
            " \n",
            "6 X 7 = 42\n",
            " \n",
            "6 X 8 = 48\n",
            " \n",
            "6 X 9 = 54\n",
            " \n",
            "7 X 1 =  7\n",
            " \n",
            "7 X 2 = 14\n",
            " \n",
            "7 X 3 = 21\n",
            " \n",
            "7 X 4 = 28\n",
            " \n",
            "7 X 5 = 35\n",
            " \n",
            "7 X 6 = 42\n",
            " \n",
            "7 X 7 = 49\n",
            " \n",
            "7 X 8 = 56\n",
            " \n",
            "7 X 9 = 63\n",
            " \n",
            "8 X 1 =  8\n",
            " \n",
            "8 X 2 = 16\n",
            " \n",
            "8 X 3 = 24\n",
            " \n",
            "8 X 4 = 32\n",
            " \n",
            "8 X 5 = 40\n",
            " \n",
            "8 X 6 = 48\n",
            " \n",
            "8 X 7 = 56\n",
            " \n",
            "8 X 8 = 64\n",
            " \n",
            "8 X 9 = 72\n",
            " \n",
            "9 X 1 =  9\n",
            " \n",
            "9 X 2 = 18\n",
            " \n",
            "9 X 3 = 27\n",
            " \n",
            "9 X 4 = 36\n",
            " \n",
            "9 X 5 = 45\n",
            " \n",
            "9 X 6 = 54\n",
            " \n",
            "9 X 7 = 63\n",
            " \n",
            "9 X 8 = 72\n",
            " \n",
            "9 X 9 = 81\n",
            " \n"
          ]
        }
      ]
    },
    {
      "cell_type": "code",
      "source": [
        "# SELF STUDY 6 - 3 위 코드를 각 단의 제목이 출력되도록 수정해보자.\n",
        "\n",
        "\n",
        "i = 0\n",
        "k = 0\n",
        "\n",
        "for i in range(2, 10, 1) : # 2단부터 9단까지\n",
        "  print(\"=== %d단 ===\" % i) # 각 단의 제목 출력 (바깥쪽 반복문이 실행될 때마다 한 번 제목을 출력)\n",
        "  for k in range(1, 10, 1) : # 내부 반복문은 각 단의 1부터 9까지의 곱셈을 처리하는거임.\n",
        "    print(\"%d X %d = %2d\" % (i, k, i * k))\n",
        "    print(\"\")"
      ],
      "metadata": {
        "colab": {
          "base_uri": "https://localhost:8080/"
        },
        "id": "6eLVr_8zz4FR",
        "outputId": "6faa7fef-0337-4e56-8a89-d32fa6163ab9"
      },
      "execution_count": 10,
      "outputs": [
        {
          "output_type": "stream",
          "name": "stdout",
          "text": [
            "=== 2단 ===\n",
            "2 X 1 =  2\n",
            "\n",
            "2 X 2 =  4\n",
            "\n",
            "2 X 3 =  6\n",
            "\n",
            "2 X 4 =  8\n",
            "\n",
            "2 X 5 = 10\n",
            "\n",
            "2 X 6 = 12\n",
            "\n",
            "2 X 7 = 14\n",
            "\n",
            "2 X 8 = 16\n",
            "\n",
            "2 X 9 = 18\n",
            "\n",
            "=== 3단 ===\n",
            "3 X 1 =  3\n",
            "\n",
            "3 X 2 =  6\n",
            "\n",
            "3 X 3 =  9\n",
            "\n",
            "3 X 4 = 12\n",
            "\n",
            "3 X 5 = 15\n",
            "\n",
            "3 X 6 = 18\n",
            "\n",
            "3 X 7 = 21\n",
            "\n",
            "3 X 8 = 24\n",
            "\n",
            "3 X 9 = 27\n",
            "\n",
            "=== 4단 ===\n",
            "4 X 1 =  4\n",
            "\n",
            "4 X 2 =  8\n",
            "\n",
            "4 X 3 = 12\n",
            "\n",
            "4 X 4 = 16\n",
            "\n",
            "4 X 5 = 20\n",
            "\n",
            "4 X 6 = 24\n",
            "\n",
            "4 X 7 = 28\n",
            "\n",
            "4 X 8 = 32\n",
            "\n",
            "4 X 9 = 36\n",
            "\n",
            "=== 5단 ===\n",
            "5 X 1 =  5\n",
            "\n",
            "5 X 2 = 10\n",
            "\n",
            "5 X 3 = 15\n",
            "\n",
            "5 X 4 = 20\n",
            "\n",
            "5 X 5 = 25\n",
            "\n",
            "5 X 6 = 30\n",
            "\n",
            "5 X 7 = 35\n",
            "\n",
            "5 X 8 = 40\n",
            "\n",
            "5 X 9 = 45\n",
            "\n",
            "=== 6단 ===\n",
            "6 X 1 =  6\n",
            "\n",
            "6 X 2 = 12\n",
            "\n",
            "6 X 3 = 18\n",
            "\n",
            "6 X 4 = 24\n",
            "\n",
            "6 X 5 = 30\n",
            "\n",
            "6 X 6 = 36\n",
            "\n",
            "6 X 7 = 42\n",
            "\n",
            "6 X 8 = 48\n",
            "\n",
            "6 X 9 = 54\n",
            "\n",
            "=== 7단 ===\n",
            "7 X 1 =  7\n",
            "\n",
            "7 X 2 = 14\n",
            "\n",
            "7 X 3 = 21\n",
            "\n",
            "7 X 4 = 28\n",
            "\n",
            "7 X 5 = 35\n",
            "\n",
            "7 X 6 = 42\n",
            "\n",
            "7 X 7 = 49\n",
            "\n",
            "7 X 8 = 56\n",
            "\n",
            "7 X 9 = 63\n",
            "\n",
            "=== 8단 ===\n",
            "8 X 1 =  8\n",
            "\n",
            "8 X 2 = 16\n",
            "\n",
            "8 X 3 = 24\n",
            "\n",
            "8 X 4 = 32\n",
            "\n",
            "8 X 5 = 40\n",
            "\n",
            "8 X 6 = 48\n",
            "\n",
            "8 X 7 = 56\n",
            "\n",
            "8 X 8 = 64\n",
            "\n",
            "8 X 9 = 72\n",
            "\n",
            "=== 9단 ===\n",
            "9 X 1 =  9\n",
            "\n",
            "9 X 2 = 18\n",
            "\n",
            "9 X 3 = 27\n",
            "\n",
            "9 X 4 = 36\n",
            "\n",
            "9 X 5 = 45\n",
            "\n",
            "9 X 6 = 54\n",
            "\n",
            "9 X 7 = 63\n",
            "\n",
            "9 X 8 = 72\n",
            "\n",
            "9 X 9 = 81\n",
            "\n"
          ]
        }
      ]
    },
    {
      "cell_type": "code",
      "source": [
        "## 전역 변수 선언 부분 ##\n",
        "i = 0\n",
        "k = 0\n",
        "guguLine = \"\"\n",
        "\n",
        "## 메인 코드 부분 ##\n",
        "# 단 제목 출력\n",
        "guguLine = \"\"\n",
        "for i in range(2, 10):\n",
        "    guguLine += (\"# %d단 #\" % i) + \"  \"  # 단 제목을 추가\n",
        "print(guguLine)  # 단 제목 출력\n",
        "print(\"\")  # 줄 바꿈\n",
        "\n",
        "# 중첩 for문으로 구구단 출력\n",
        "for i in range(1, 10):  # 1부터 9까지\n",
        "    guguLine = \"\"\n",
        "    for k in range(2, 10):  # 2단부터 9단까지\n",
        "        guguLine += (\"%2d X %2d = %2d   \" % (k, i, k * i))  # 한 줄에 모든 단 출력\n",
        "    print(guguLine)  # 결과 출력"
      ],
      "metadata": {
        "colab": {
          "base_uri": "https://localhost:8080/"
        },
        "id": "r4hRXV8k1HCS",
        "outputId": "8d1c8648-22e7-46fc-9db6-a94030ea1eb6"
      },
      "execution_count": 14,
      "outputs": [
        {
          "output_type": "stream",
          "name": "stdout",
          "text": [
            "# 2단 #  # 3단 #  # 4단 #  # 5단 #  # 6단 #  # 7단 #  # 8단 #  # 9단 #  \n",
            "\n",
            " 2 X  1 =  2    3 X  1 =  3    4 X  1 =  4    5 X  1 =  5    6 X  1 =  6    7 X  1 =  7    8 X  1 =  8    9 X  1 =  9   \n",
            " 2 X  2 =  4    3 X  2 =  6    4 X  2 =  8    5 X  2 = 10    6 X  2 = 12    7 X  2 = 14    8 X  2 = 16    9 X  2 = 18   \n",
            " 2 X  3 =  6    3 X  3 =  9    4 X  3 = 12    5 X  3 = 15    6 X  3 = 18    7 X  3 = 21    8 X  3 = 24    9 X  3 = 27   \n",
            " 2 X  4 =  8    3 X  4 = 12    4 X  4 = 16    5 X  4 = 20    6 X  4 = 24    7 X  4 = 28    8 X  4 = 32    9 X  4 = 36   \n",
            " 2 X  5 = 10    3 X  5 = 15    4 X  5 = 20    5 X  5 = 25    6 X  5 = 30    7 X  5 = 35    8 X  5 = 40    9 X  5 = 45   \n",
            " 2 X  6 = 12    3 X  6 = 18    4 X  6 = 24    5 X  6 = 30    6 X  6 = 36    7 X  6 = 42    8 X  6 = 48    9 X  6 = 54   \n",
            " 2 X  7 = 14    3 X  7 = 21    4 X  7 = 28    5 X  7 = 35    6 X  7 = 42    7 X  7 = 49    8 X  7 = 56    9 X  7 = 63   \n",
            " 2 X  8 = 16    3 X  8 = 24    4 X  8 = 32    5 X  8 = 40    6 X  8 = 48    7 X  8 = 56    8 X  8 = 64    9 X  8 = 72   \n",
            " 2 X  9 = 18    3 X  9 = 27    4 X  9 = 36    5 X  9 = 45    6 X  9 = 54    7 X  9 = 63    8 X  9 = 72    9 X  9 = 81   \n"
          ]
        }
      ]
    },
    {
      "cell_type": "markdown",
      "source": [
        "# for 문과 while 문 비교"
      ],
      "metadata": {
        "id": "vRpfQ1YB2aIw"
      }
    },
    {
      "cell_type": "markdown",
      "source": [
        "# for 문의 형식\n",
        "for 변수 in range(시작값, 끝값 + 1, 증가값)\n",
        "\n",
        "# for문은 반복할 횟수를 range() 함수에서 결정 후 그 횟수만큼 반복,\n",
        "# while문은 반복 횟수를 결정하기보다는 조건식이 참일 때 반복하는 방식."
      ],
      "metadata": {
        "id": "MfC5JmCj2H4t"
      }
    },
    {
      "cell_type": "code",
      "source": [
        "# for 문과 비슷하게 사용할 수 있는 while 문의 형식\n",
        "\n",
        "변수 = 시작값\n",
        "while 변수 < 끝값 :\n",
        "  이 부분을 반복\n",
        "  변수 = 변수 + 증가값"
      ],
      "metadata": {
        "id": "xQmra7tx239M"
      },
      "execution_count": null,
      "outputs": []
    },
    {
      "cell_type": "code",
      "source": [
        "# for 문으로 '안녕하세요?~' 문장을 3회 출력하는 코드\n",
        "for i in range(0, 3, 1) :\n",
        "  print(\"%d : 안녕하세요? for문을 공부 중입니다.^^\" %i)"
      ],
      "metadata": {
        "colab": {
          "base_uri": "https://localhost:8080/"
        },
        "id": "nhy9aNM-3Bwf",
        "outputId": "75f58de4-a777-4b1f-c452-9553a9970c02"
      },
      "execution_count": 15,
      "outputs": [
        {
          "output_type": "stream",
          "name": "stdout",
          "text": [
            "0 : 안녕하세요? for문을 공부 중입니다.^^\n",
            "1 : 안녕하세요? for문을 공부 중입니다.^^\n",
            "2 : 안녕하세요? for문을 공부 중입니다.^^\n"
          ]
        }
      ]
    },
    {
      "cell_type": "code",
      "source": [
        "# 문장을 3회 반복하도록 while 문\n",
        "# 1) for 문에서 사용한 변수와 시작값을 i = 0으로 while 문 위에 작성\n",
        "# 2) for 문의 끝값 while 문의 조건식인 i < 3 로 지정\n",
        "# 3) for 문의 증가값 while 문의 마지막에 i = i + 1로 작성\n",
        "\n",
        "i = 0\n",
        "while i < 3 :\n",
        "  print(\"%d : 안녕하세요? while문을 공부 중입니다. ^^\" % i)\n",
        "  i = i + 1"
      ],
      "metadata": {
        "colab": {
          "base_uri": "https://localhost:8080/"
        },
        "id": "u9VhuR2X3QP5",
        "outputId": "9308fb4a-71ab-4713-e793-f9818c17c88a"
      },
      "execution_count": 16,
      "outputs": [
        {
          "output_type": "stream",
          "name": "stdout",
          "text": [
            "0 : 안녕하세요? while문을 공부 중입니다. ^^\n",
            "1 : 안녕하세요? while문을 공부 중입니다. ^^\n",
            "2 : 안녕하세요? while문을 공부 중입니다. ^^\n"
          ]
        }
      ]
    },
    {
      "cell_type": "code",
      "source": [
        "# 예 : 1에서 10까지의 합계 구하기\n",
        "\n",
        "i = 0\n",
        "hap = 0\n",
        "\n",
        "i = 1\n",
        "while i < 11 :\n",
        "  hap = hap + i\n",
        "  i = i + 1\n",
        "print(\"1에서 10까지의 합계 : %d\" % hap)\n",
        "# %d는 문자열 안에 정수값을 삽입하는 자리 표시자임.\n",
        "# hap는 1에서 10까지의 합계를 저장한 정수값 % 기호를 사용해 문자열과 변수를 연결"
      ],
      "metadata": {
        "id": "wfRZ0_c04exH"
      },
      "execution_count": null,
      "outputs": []
    },
    {
      "cell_type": "markdown",
      "source": [
        "# 무한 루트를 하는 while문"
      ],
      "metadata": {
        "id": "QEFSHnab4gN-"
      }
    },
    {
      "cell_type": "code",
      "source": [
        "# 무한 루트 적용 : 'while 조건식:' 에 들어가는 조건식을 True로 지정\n",
        "# 예 : 무한 루프\n",
        "while True :\n",
        "  print(\"ㅋ\", end =\" \")"
      ],
      "metadata": {
        "id": "-vSRXR4f4vsk"
      },
      "execution_count": null,
      "outputs": []
    },
    {
      "cell_type": "code",
      "source": [
        "# 예 : 무한 루프를 사용해 입력한 두 숫자의 합계를 반복해서 계산\n",
        "\n",
        "hap = 0\n",
        "a = 0\n",
        "b = 0\n",
        "\n",
        "while True :\n",
        "  a = int(input(\"더할 첫 번째 수를 입력하세요 : \"))\n",
        "  b = int(input(\"더할 두 번째 수를 입력하세요 : \"))\n",
        "  hap = a + b\n",
        "  print(\"%d + %d = %d\" % (a, b, hap)) # 무한 루프니까 print함수를 들여쓰기 해야함."
      ],
      "metadata": {
        "id": "R5Lky7-_4_pu"
      },
      "execution_count": null,
      "outputs": []
    },
    {
      "cell_type": "code",
      "source": [
        "# 예 : 사용자가 ctrl + c 누를 때까지 덧셈, 뺄셈, 곱셈, 나눗셈, 나머지까지 계산\n",
        "ch = \"\"\n",
        "a = 0\n",
        "b = 0\n",
        "\n",
        "while True :\n",
        "  a = int(input(\"계산할 첫 번째 수를 입력하세요 :\")) # 숫자 입력\n",
        "  b = int(input(\"계산할 두 번째 수를 입력하세요 :\")) # 숫자 입력\n",
        "  ch = input(\"계산할 연산자를 입력하세요 : \") #연산자를 입력\n",
        "\n",
        "  if (ch == \"+\") :\n",
        "    print(\" %d + %d = %d\" % (a, b, a + b))\n",
        "  elif (ch == \"-\") :\n",
        "    print(\" %d - %d = %d\" % (a, b, a - b))\n",
        "  elif (ch == \"*\") :\n",
        "    print(\" %d * %d = %d\" % (a, b, a * b))\n",
        "  elif (ch == \"/\") :\n",
        "    print(\" %d / %d = %5.2f\" % (a, b, a / b)) #f는 실수값을 포맷팅하기 위해, 5.2는 출력너비 5칸, .2는 소수점 이하 2자리\n",
        "  elif (ch == \"%\") :\n",
        "    print(\" %d %%1 %d = %d\" % (a, b, a % b)) # %를 포맷팅 기호로 해석되지 않도록 %%로 작성\n",
        "  elif (ch == \"//\") :\n",
        "    print(\" %d // %d = %d\" % (a, b, a // b))\n",
        "  elif (ch == \"**\") :\n",
        "    print(\" %d ** %d = %d\" % (a, b, a ** b))\n",
        "  else :\n",
        "    print(\"연산자를 잘못 입력했습니다.\")"
      ],
      "metadata": {
        "id": "ny_LklOo5orR"
      },
      "execution_count": null,
      "outputs": []
    }
  ]
}
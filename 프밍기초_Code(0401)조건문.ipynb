{
  "nbformat": 4,
  "nbformat_minor": 0,
  "metadata": {
    "colab": {
      "provenance": [],
      "authorship_tag": "ABX9TyNCjvdS/ZWR1sN9PKk3fC+/",
      "include_colab_link": true
    },
    "kernelspec": {
      "name": "python3",
      "display_name": "Python 3"
    },
    "language_info": {
      "name": "python"
    }
  },
  "cells": [
    {
      "cell_type": "markdown",
      "metadata": {
        "id": "view-in-github",
        "colab_type": "text"
      },
      "source": [
        "<a href=\"https://colab.research.google.com/github/junsikcho/Penguin/blob/main/%ED%94%84%EB%B0%8D%EA%B8%B0%EC%B4%88_Code(0401)%EC%A1%B0%EA%B1%B4%EB%AC%B8.ipynb\" target=\"_parent\"><img src=\"https://colab.research.google.com/assets/colab-badge.svg\" alt=\"Open In Colab\"/></a>"
      ]
    },
    {
      "cell_type": "code",
      "execution_count": 1,
      "metadata": {
        "colab": {
          "base_uri": "https://localhost:8080/"
        },
        "id": "176AvbvbH7iu",
        "outputId": "0ec2ba3a-c610-48fd-a879-a59db332a8b5"
      },
      "outputs": [
        {
          "output_type": "stream",
          "name": "stdout",
          "text": [
            "100보다 작군요.\n"
          ]
        }
      ],
      "source": [
        "a = 99\n",
        "if a < 100 :\n",
        "  print(\"100보다 작군요.\")"
      ]
    },
    {
      "cell_type": "code",
      "source": [
        "#조건이 참이고 실행할 문장일 2개일 때\n",
        "a = 200\n",
        "\n",
        "if a < 100 :\n",
        "  print(\"100보다 작군요.\")\n",
        "print(\"거짓이므로 이 문장은 안 보이겠죠?\")\n",
        "\n",
        "print(\"프로그램 끝\")"
      ],
      "metadata": {
        "colab": {
          "base_uri": "https://localhost:8080/"
        },
        "id": "cxMTHG2UIVoE",
        "outputId": "f731d76e-d220-4764-81ac-e10cb7d99bb0"
      },
      "execution_count": 2,
      "outputs": [
        {
          "output_type": "stream",
          "name": "stdout",
          "text": [
            "거짓이므로 이 문장은 안 보이겠죠?\n",
            "프로그램 끝\n"
          ]
        }
      ]
    },
    {
      "cell_type": "code",
      "source": [
        "# if문에서 두 문장 이상을 실행하고자 할 때\n",
        "a = 200\n",
        "\n",
        "if a < 100 :\n",
        "  print(\"100보다 작군요.\")\n",
        "  print(\"거짓이므로 이 문장은 안 보이겠죠?\")\n",
        "\n",
        "print(\"프로그램 끝\")"
      ],
      "metadata": {
        "colab": {
          "base_uri": "https://localhost:8080/"
        },
        "id": "ICC8F205IqKu",
        "outputId": "78ac96b4-86c8-4b92-c713-251f461757d7"
      },
      "execution_count": 3,
      "outputs": [
        {
          "output_type": "stream",
          "name": "stdout",
          "text": [
            "프로그램 끝\n"
          ]
        }
      ]
    },
    {
      "cell_type": "code",
      "source": [
        "# if~else문\n",
        "a = 200\n",
        "\n",
        "if a < 100 :\n",
        "  print(\"100보다 작군요.\")\n",
        "else :\n",
        "  print(\"100보다 크군요.\")"
      ],
      "metadata": {
        "colab": {
          "base_uri": "https://localhost:8080/"
        },
        "id": "c9Rj_4ADIw6G",
        "outputId": "bf08f121-b9bc-46e8-da06-3e89032b73dd"
      },
      "execution_count": 4,
      "outputs": [
        {
          "output_type": "stream",
          "name": "stdout",
          "text": [
            "100보다 크군요.\n"
          ]
        }
      ]
    },
    {
      "cell_type": "code",
      "source": [
        "# if~else문\n",
        "a = 200\n",
        "\n",
        "if a < 100 :\n",
        "  print(\" 100보다 작군요.\")\n",
        "  print(\"참이면 이 문장도 보이겠죠?\")\n",
        "else :\n",
        "  print(\"100보다 크군요.\")\n",
        "  print(\"거짓이면 이 문장도 보이겠죠?\")\n",
        "\n",
        "print(\"프로그램 끝\")"
      ],
      "metadata": {
        "colab": {
          "base_uri": "https://localhost:8080/"
        },
        "id": "9UVl8BiFI73b",
        "outputId": "787d53de-be9f-4156-8f22-ef2e712c45cb"
      },
      "execution_count": 6,
      "outputs": [
        {
          "output_type": "stream",
          "name": "stdout",
          "text": [
            "100보다 크군요.\n",
            "거짓이면 이 문장도 보이겠죠?\n",
            "프로그램 끝\n"
          ]
        }
      ]
    },
    {
      "cell_type": "code",
      "source": [
        "# Ex. 입력 숫자가 짝수인지 홀수인지 계산\n",
        "a = int(input(\"정수를 입력하세요 : \"))\n",
        "\n",
        "if a % 2 == 0 :\n",
        "  print(\"짝수를 입력했군요.\")\n",
        "else :\n",
        "  print(\"홀수를 입력했군요.\")"
      ],
      "metadata": {
        "colab": {
          "base_uri": "https://localhost:8080/"
        },
        "id": "mayHiT6FJO6t",
        "outputId": "0e74b190-d30d-4701-d748-b84f90929abf"
      },
      "execution_count": 7,
      "outputs": [
        {
          "output_type": "stream",
          "name": "stdout",
          "text": [
            "정수를 입력하세요 : 125\n",
            "홀수를 입력했군요.\n"
          ]
        }
      ]
    }
  ]
}
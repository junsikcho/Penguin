{
  "nbformat": 4,
  "nbformat_minor": 0,
  "metadata": {
    "colab": {
      "provenance": [],
      "authorship_tag": "ABX9TyNsZVnugcExf/gbVJ35ng8f",
      "include_colab_link": true
    },
    "kernelspec": {
      "name": "python3",
      "display_name": "Python 3"
    },
    "language_info": {
      "name": "python"
    }
  },
  "cells": [
    {
      "cell_type": "markdown",
      "metadata": {
        "id": "view-in-github",
        "colab_type": "text"
      },
      "source": [
        "<a href=\"https://colab.research.google.com/github/junsikcho/Penguin/blob/main/%ED%94%84%EB%B0%8D%EA%B8%B0%EC%B4%88_Code(0401)%EC%A1%B0%EA%B1%B4%EB%AC%B8.ipynb\" target=\"_parent\"><img src=\"https://colab.research.google.com/assets/colab-badge.svg\" alt=\"Open In Colab\"/></a>"
      ]
    },
    {
      "cell_type": "markdown",
      "source": [
        "\n",
        "조건문\\\n",
        "학습목표\\\\\n",
        "1) 파이썬에서 기본 if 문의 구조와 사용법을 이해한다.\\\n",
        "2) 조건문을 사용하여 간단한 논리적 판단을 수행하는 방법을 익힌다.\\\n",
        "3) 파이썬으로 간단한 프로그램을 작성해 if문을 적용하고 테스트 해본다."
      ],
      "metadata": {
        "id": "WZ33jO7I1Qgs"
      }
    },
    {
      "cell_type": "markdown",
      "source": [
        "주의할 점\\\n",
        "1) if 문 다음에 '실행할 문장'은 if 문 다음 줄에서 들여쓰기를 해서 작성\\\n",
        "2) 들여쓰기 할 때는 Tab보다 Space Bar를 눌러\\\n",
        "4칸 정도로 들여쓰기 권장. 대화형 모드에서는 '실행할 문장'\\\n",
        "모두 끝나고 Enter 2번 눌러야 if 문이 끝나는 것으로 간주"
      ],
      "metadata": {
        "id": "AcaVABig144J"
      }
    },
    {
      "cell_type": "code",
      "execution_count": null,
      "metadata": {
        "colab": {
          "base_uri": "https://localhost:8080/"
        },
        "id": "176AvbvbH7iu",
        "outputId": "0ec2ba3a-c610-48fd-a879-a59db332a8b5"
      },
      "outputs": [
        {
          "output_type": "stream",
          "name": "stdout",
          "text": [
            "100보다 작군요.\n"
          ]
        }
      ],
      "source": [
        "a = 99\n",
        "if a < 100 :\n",
        "  print(\"100보다 작군요.\")"
      ]
    },
    {
      "cell_type": "code",
      "source": [
        "#조건이 참이고 실행할 문장일 2개일 때\n",
        "a = 200\n",
        "\n",
        "if a < 100 :\n",
        "  print(\"100보다 작군요.\")\n",
        "print(\"거짓이므로 이 문장은 안 보이겠죠?\")\n",
        "\n",
        "print(\"프로그램 끝\")"
      ],
      "metadata": {
        "colab": {
          "base_uri": "https://localhost:8080/"
        },
        "id": "cxMTHG2UIVoE",
        "outputId": "f731d76e-d220-4764-81ac-e10cb7d99bb0"
      },
      "execution_count": null,
      "outputs": [
        {
          "output_type": "stream",
          "name": "stdout",
          "text": [
            "거짓이므로 이 문장은 안 보이겠죠?\n",
            "프로그램 끝\n"
          ]
        }
      ]
    },
    {
      "cell_type": "code",
      "source": [
        "# if문에서 두 문장 이상을 실행하고자 할 때\n",
        "a = 200\n",
        "\n",
        "if a < 100 :\n",
        "  print(\"100보다 작군요.\")\n",
        "  print(\"거짓이므로 이 문장은 안 보이겠죠?\")\n",
        "\n",
        "print(\"프로그램 끝\")"
      ],
      "metadata": {
        "colab": {
          "base_uri": "https://localhost:8080/"
        },
        "id": "ICC8F205IqKu",
        "outputId": "78ac96b4-86c8-4b92-c713-251f461757d7"
      },
      "execution_count": null,
      "outputs": [
        {
          "output_type": "stream",
          "name": "stdout",
          "text": [
            "프로그램 끝\n"
          ]
        }
      ]
    },
    {
      "cell_type": "code",
      "source": [
        "- 들여쓰기 오류 예시\n",
        "if a < 100 :\n",
        "          print(\"100보다 작군요.\")\n",
        "    print(\"거짓이므로 이 문장은 안 보이겠죠?\")"
      ],
      "metadata": {
        "colab": {
          "base_uri": "https://localhost:8080/",
          "height": 110
        },
        "id": "6ddpoYwZ28Rn",
        "outputId": "9dd850ce-7306-4521-b9c5-c4d345e2faad"
      },
      "execution_count": 4,
      "outputs": [
        {
          "output_type": "error",
          "ename": "IndentationError",
          "evalue": "unindent does not match any outer indentation level (<tokenize>, line 4)",
          "traceback": [
            "\u001b[0;36m  File \u001b[0;32m\"<tokenize>\"\u001b[0;36m, line \u001b[0;32m4\u001b[0m\n\u001b[0;31m    print(\"거짓이므로 이 문장은 안 보이겠죠?\")\u001b[0m\n\u001b[0m    ^\u001b[0m\n\u001b[0;31mIndentationError\u001b[0m\u001b[0;31m:\u001b[0m unindent does not match any outer indentation level\n"
          ]
        }
      ]
    },
    {
      "cell_type": "code",
      "source": [
        "# if~else문\n",
        "a = 200\n",
        "\n",
        "if a < 100 :\n",
        "  print(\"100보다 작군요.\")\n",
        "else :\n",
        "  print(\"100보다 크군요.\")"
      ],
      "metadata": {
        "colab": {
          "base_uri": "https://localhost:8080/"
        },
        "id": "c9Rj_4ADIw6G",
        "outputId": "bf08f121-b9bc-46e8-da06-3e89032b73dd"
      },
      "execution_count": null,
      "outputs": [
        {
          "output_type": "stream",
          "name": "stdout",
          "text": [
            "100보다 크군요.\n"
          ]
        }
      ]
    },
    {
      "cell_type": "code",
      "source": [
        "# if~else문\n",
        "a = 200\n",
        "\n",
        "if a < 100 :\n",
        "  print(\" 100보다 작군요.\")\n",
        "  print(\"참이면 이 문장도 보이겠죠?\")\n",
        "else :\n",
        "  print(\"100보다 크군요.\")\n",
        "  print(\"거짓이면 이 문장도 보이겠죠?\")\n",
        "\n",
        "print(\"프로그램 끝\")"
      ],
      "metadata": {
        "colab": {
          "base_uri": "https://localhost:8080/"
        },
        "id": "9UVl8BiFI73b",
        "outputId": "787d53de-be9f-4156-8f22-ef2e712c45cb"
      },
      "execution_count": null,
      "outputs": [
        {
          "output_type": "stream",
          "name": "stdout",
          "text": [
            "100보다 크군요.\n",
            "거짓이면 이 문장도 보이겠죠?\n",
            "프로그램 끝\n"
          ]
        }
      ]
    },
    {
      "cell_type": "code",
      "source": [
        "# Ex. 입력 숫자가 짝수인지 홀수인지 계산\n",
        "a = int(input(\"정수를 입력하세요 : \"))\n",
        "\n",
        "if a % 2 == 0 :\n",
        "  print(\"짝수를 입력했군요.\")\n",
        "else :\n",
        "  print(\"홀수를 입력했군요.\")"
      ],
      "metadata": {
        "colab": {
          "base_uri": "https://localhost:8080/"
        },
        "id": "mayHiT6FJO6t",
        "outputId": "0e74b190-d30d-4701-d748-b84f90929abf"
      },
      "execution_count": null,
      "outputs": [
        {
          "output_type": "stream",
          "name": "stdout",
          "text": [
            "정수를 입력하세요 : 125\n",
            "홀수를 입력했군요.\n"
          ]
        }
      ]
    }
  ]
}
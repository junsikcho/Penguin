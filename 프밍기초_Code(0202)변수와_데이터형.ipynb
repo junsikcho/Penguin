{
  "nbformat": 4,
  "nbformat_minor": 0,
  "metadata": {
    "colab": {
      "provenance": [],
      "authorship_tag": "ABX9TyPsRfP2DzbF8A8uXgwZ13Lg",
      "include_colab_link": true
    },
    "kernelspec": {
      "name": "python3",
      "display_name": "Python 3"
    },
    "language_info": {
      "name": "python"
    }
  },
  "cells": [
    {
      "cell_type": "markdown",
      "metadata": {
        "id": "view-in-github",
        "colab_type": "text"
      },
      "source": [
        "<a href=\"https://colab.research.google.com/github/junsikcho/Penguin/blob/main/%ED%94%84%EB%B0%8D%EA%B8%B0%EC%B4%88_Code(0202)%EB%B3%80%EC%88%98%EC%99%80_%EB%8D%B0%EC%9D%B4%ED%84%B0%ED%98%95.ipynb\" target=\"_parent\"><img src=\"https://colab.research.google.com/assets/colab-badge.svg\" alt=\"Open In Colab\"/></a>"
      ]
    },
    {
      "cell_type": "markdown",
      "source": [
        "# 변수의 선언과 사용\n",
        "학습 목표\\\n",
        "1) 변수의 사용법을 익힌다.\\\n",
        "2) 정수, 실수, 문자열 등 기본 데이터형을 알아본다."
      ],
      "metadata": {
        "id": "eSARe8nSwiKc"
      }
    },
    {
      "cell_type": "markdown",
      "source": [
        "# 변수의 선언\n",
        "1) 변수는 어떤 값을 저장하는 메모리 공간 (그릇)\\\n",
        "2) 변수 선언은 그릇을 준비하는 것\\\n",
        "3) 파이썬은 C/C++, 자바 등과는 달리 변수를 선언하지 않아도 되지만 긴 코드를 작성할 때는 사용될 변수를 미리 계획적으로 준비하는 것이 효율적임.\\\n",
        "4) 가장 많이 사용하는 변수는 불형(Boolean, 또는 True 또는 False 저장), 정수형, 실수형 문자열"
      ],
      "metadata": {
        "id": "HhxdqqZCw7OM"
      }
    },
    {
      "cell_type": "code",
      "source": [
        "boolVar = True\n",
        "intVar = 0\n",
        "floatVar = 0.0\n",
        "strVar = \"\"\n",
        "# 위 구문은 다음과 같이 표현해도 됨\n",
        "boolVar, intVar, floatVar, strVar = True, 0, 0.0, \"\""
      ],
      "metadata": {
        "id": "G-2yMWiVxnyQ"
      },
      "execution_count": 3,
      "outputs": []
    },
    {
      "cell_type": "markdown",
      "source": [
        "# 변수의 종류\n",
        "1) boolVar (불형 변수) Ex. True\\\n",
        "2) intVar (정수형 변수) Ex. 0\\\n",
        "3) floatVar (실수형 변수) Ex. 0.0\\\n",
        "4) strVar (문자열 변수) Ex. \"\""
      ],
      "metadata": {
        "id": "I8I4KaKyxq5i"
      }
    },
    {
      "cell_type": "code",
      "source": [
        "# Type()함수를 사용하면 변수가 bool(불형), int(정수), float(실수), str(문자열)형으로 생성된 것을 확인할 수 있음\n",
        "type(boolVar), type(intVar), type(floatVar), type(strVar)"
      ],
      "metadata": {
        "colab": {
          "base_uri": "https://localhost:8080/"
        },
        "id": "X0CxD015yM05",
        "outputId": "7e3f3947-d62c-4867-8dff-3abf6d469d05"
      },
      "execution_count": 4,
      "outputs": [
        {
          "output_type": "execute_result",
          "data": {
            "text/plain": [
              "(bool, int, float, str)"
            ]
          },
          "metadata": {},
          "execution_count": 4
        }
      ]
    },
    {
      "cell_type": "markdown",
      "source": [
        "# 변수명 규칙\n",
        "1) 대/소문자 구분 => myVar와 MyVar는 다른 변수\\\n",
        "2) 문자, 숫자, 언더바(_)를 포함할 수 있지만 숫자로 시작하면 안 됨\\\n",
        "=> (var2(O), _var(O), var_2(O), 2Var(X))\\\n",
        "3) 예약어는 변수명으로 쓰면 안 됨\\\n",
        "=> 파이썬의 예약어는 True, False, None, and, or, not, break, continue, return, if, else, elif, for, while, except, finally, gloval, import, try 등이 있음"
      ],
      "metadata": {
        "id": "fvh5XTdwykqz"
      }
    },
    {
      "cell_type": "markdown",
      "source": [
        "# 변수의 사용(1)\n",
        "1) 변수의 값을 담으면(대입하면) 사용 가능\\\n",
        "=> 변수에 있던 기존 값은 없어지고 새로 입력한 값으로 변경됨\\\n",
        "2) 변수에는 변수의 값을 넣을 수도 있고, 계산 결과를 넣을 수도 있음\\\n",
        "=> 변수에 있던 기존 값은 없어지고 새로 입력한 값으로 변경됨"
      ],
      "metadata": {
        "id": "AKsWKMrYzT98"
      }
    },
    {
      "cell_type": "code",
      "source": [
        "var2 = 200\n",
        "var1 = var2"
      ],
      "metadata": {
        "id": "re3DoACozqHi"
      },
      "execution_count": 5,
      "outputs": []
    },
    {
      "cell_type": "code",
      "source": [
        "var1 = 100 + 100"
      ],
      "metadata": {
        "id": "45mOlHpuzt86"
      },
      "execution_count": 6,
      "outputs": []
    },
    {
      "cell_type": "code",
      "source": [
        "var1 = var2 + 100"
      ],
      "metadata": {
        "id": "SGJEWe8pzzaQ"
      },
      "execution_count": 7,
      "outputs": []
    },
    {
      "cell_type": "code",
      "source": [
        "var1 = var2 =var3 = var4 = 100\n",
        "'''\n",
        "var4 = 100\n",
        "var3 = var4\n",
        "var2 = var3\n",
        "var1 = var2 과 동일\n",
        "'''"
      ],
      "metadata": {
        "id": "rIfFWZ3lz1rq"
      },
      "execution_count": 8,
      "outputs": []
    },
    {
      "cell_type": "code",
      "source": [
        "var1 = var1 + 200"
      ],
      "metadata": {
        "id": "d9eHjZH4z_0d"
      },
      "execution_count": 9,
      "outputs": []
    },
    {
      "cell_type": "markdown",
      "source": [
        "3) 파이썬에서 변수의 데이터 형식은 값을 넣는 순간마다 변경딜 수 있는 유연한 구조임."
      ],
      "metadata": {
        "id": "yh-eP65v0DRI"
      }
    },
    {
      "cell_type": "code",
      "source": [
        " myVar = 100\n",
        " type(myVar)"
      ],
      "metadata": {
        "colab": {
          "base_uri": "https://localhost:8080/"
        },
        "id": "_sc09fef0KX7",
        "outputId": "2be2f532-51fe-4483-9939-538c6530f49d"
      },
      "execution_count": 13,
      "outputs": [
        {
          "output_type": "execute_result",
          "data": {
            "text/plain": [
              "int"
            ]
          },
          "metadata": {},
          "execution_count": 13
        }
      ]
    },
    {
      "cell_type": "code",
      "source": [
        " myVar = 100.0\n",
        " type(myVar)"
      ],
      "metadata": {
        "colab": {
          "base_uri": "https://localhost:8080/"
        },
        "id": "5pjQFi8v0Wcd",
        "outputId": "b03b932e-9e52-4ae2-a959-e3642e54f9c3"
      },
      "execution_count": 14,
      "outputs": [
        {
          "output_type": "execute_result",
          "data": {
            "text/plain": [
              "float"
            ]
          },
          "metadata": {},
          "execution_count": 14
        }
      ]
    },
    {
      "cell_type": "markdown",
      "source": [
        "4) 대입 연산자의 왼쪽에는 무조건 변수만 올 수 있고, 오른쪽에는 무엇이든(값, 변수, 수식, 함수 등) 올 수 있음"
      ],
      "metadata": {
        "id": "jlQT9LWi0mpx"
      }
    },
    {
      "cell_type": "code",
      "source": [
        "10 = 100 # 왼쪽에 값을 넣을 그릇이 없음"
      ],
      "metadata": {
        "colab": {
          "base_uri": "https://localhost:8080/",
          "height": 110
        },
        "id": "PW0cSzlI0tCS",
        "outputId": "30cf2ca6-2f7e-4bba-e3c2-b68d12dbac9c"
      },
      "execution_count": 16,
      "outputs": [
        {
          "output_type": "error",
          "ename": "SyntaxError",
          "evalue": "cannot assign to literal here. Maybe you meant '==' instead of '='? (<ipython-input-16-32dcefdd88f3>, line 1)",
          "traceback": [
            "\u001b[0;36m  File \u001b[0;32m\"<ipython-input-16-32dcefdd88f3>\"\u001b[0;36m, line \u001b[0;32m1\u001b[0m\n\u001b[0;31m    10 = 100 # 왼쪽에 값을 넣을 그릇이 없음\u001b[0m\n\u001b[0m    ^\u001b[0m\n\u001b[0;31mSyntaxError\u001b[0m\u001b[0;31m:\u001b[0m cannot assign to literal here. Maybe you meant '==' instead of '='?\n"
          ]
        }
      ]
    },
    {
      "cell_type": "code",
      "source": [
        "변수(그릇) = 100 # 왼쪽에 값을 넣을 그릇이 있음"
      ],
      "metadata": {
        "id": "FRH3OBDi0xb6"
      },
      "execution_count": null,
      "outputs": []
    }
  ]
}
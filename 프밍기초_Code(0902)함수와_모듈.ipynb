{
  "nbformat": 4,
  "nbformat_minor": 0,
  "metadata": {
    "colab": {
      "provenance": [],
      "authorship_tag": "ABX9TyMAQWQnEHIA+g0ucV/JuV8C",
      "include_colab_link": true
    },
    "kernelspec": {
      "name": "python3",
      "display_name": "Python 3"
    },
    "language_info": {
      "name": "python"
    }
  },
  "cells": [
    {
      "cell_type": "markdown",
      "metadata": {
        "id": "view-in-github",
        "colab_type": "text"
      },
      "source": [
        "<a href=\"https://colab.research.google.com/github/junsikcho/Programming-Basics/blob/main/%ED%94%84%EB%B0%8D%EA%B8%B0%EC%B4%88_Code(0902)%ED%95%A8%EC%88%98%EC%99%80_%EB%AA%A8%EB%93%88.ipynb\" target=\"_parent\"><img src=\"https://colab.research.google.com/assets/colab-badge.svg\" alt=\"Open In Colab\"/></a>"
      ]
    },
    {
      "cell_type": "markdown",
      "source": [
        "# 09장 함수와 모듈"
      ],
      "metadata": {
        "id": "11SNpPR-Zo-9"
      }
    },
    {
      "cell_type": "markdown",
      "source": [
        "# 지역 변수, 전역 변수 및 함수의 반환값과 매개변수\n",
        "- 지역 변수와 전역 변수의 차이점을 설명할 수 있다.\n",
        "- 함수의반환값과 매개변수를 사용하여 코드를 작성할 수 있다."
      ],
      "metadata": {
        "id": "IMd3yFuQZxRQ"
      }
    },
    {
      "cell_type": "markdown",
      "source": [
        "- 지역 변수 : 한정된 지역에서만 사용\n",
        "- 전역 변수 : 프로그램 전체에서 사용"
      ],
      "metadata": {
        "id": "QIbMKpDhZ6RY"
      }
    },
    {
      "cell_type": "markdown",
      "source": [
        "- 지역 변수의 생존 범위\\\n",
        "1) 함수 1 a = 10 (a가 뭔지 함수 1에서 안다.)\\\n",
        "2) 함수 2 (a가 뭔지 함수 2에서 모른다.)"
      ],
      "metadata": {
        "id": "wLPrgue1aCIU"
      }
    },
    {
      "cell_type": "markdown",
      "source": [
        "전역 변수의 생존 범위\\\n",
        "b = 20\\\n",
        "1) 함수 1 b가 뭔지 함수 1에서 안다.\\\n",
        "2) b가 뭔지 함수 2에서 안다."
      ],
      "metadata": {
        "id": "YOZ5OXHYaRKM"
      }
    },
    {
      "cell_type": "code",
      "source": [
        "## 함수 선언 부분 ##\n",
        "def func1() :\n",
        "  a = 10 # 지역 변수 a를 선언\n",
        "  print(\"func1()에서 a값 %d\" % a) # 2~4행 : 한 func1()함수 정의\n",
        "\n",
        "def func2() :\n",
        "  print(\"func2()에서 a값 %d\" % a)\n",
        "\n",
        "## 전역 변수 선언 부분 ##\n",
        "a = 20      # 전역 변수 a 선언\n",
        "\n",
        "## 메인 코드 부분 ##\n",
        "func1() # func1()함수 호출\n",
        "func2() # func2()함수 호출"
      ],
      "metadata": {
        "colab": {
          "base_uri": "https://localhost:8080/"
        },
        "id": "U5cgmYN7afuO",
        "outputId": "c5032fc9-9c2a-49f5-f78d-440bbd5e53a7"
      },
      "execution_count": 1,
      "outputs": [
        {
          "output_type": "stream",
          "name": "stdout",
          "text": [
            "func1()에서 a값 10\n",
            "func2()에서 a값 20\n"
          ]
        }
      ]
    },
    {
      "cell_type": "markdown",
      "source": [
        "- 10행의 전역 변수가 없다면 7행은?"
      ],
      "metadata": {
        "id": "7ow_gSoWblO8"
      }
    },
    {
      "cell_type": "code",
      "source": [
        "## 함수 선언 부분 ##\n",
        "def func1() :\n",
        "  a = 10 # 지역 변수 a를 선언\n",
        "  print(\"func1()에서 a값 %d\" % a) # 2~4행 : 한 func1()함수 정의\n",
        "\n",
        "def func2() :\n",
        "    print(\"func2()에서 a값 %d\" % a)\n",
        "\n",
        "## 전역 변수 선언 부분 ##\n",
        "\n",
        "## 메인 코드 부분 ##\n",
        "func1() # func1()함수 호출\n",
        "func2() # func2()함수 호출"
      ],
      "metadata": {
        "colab": {
          "base_uri": "https://localhost:8080/"
        },
        "id": "fjpEaweDbjsF",
        "outputId": "4b101050-2ed2-4ea7-a194-84f05d79ca20"
      },
      "execution_count": 5,
      "outputs": [
        {
          "output_type": "stream",
          "name": "stdout",
          "text": [
            "func1()에서 a값 10\n",
            "func2()에서 a값 20\n"
          ]
        }
      ]
    },
    {
      "cell_type": "markdown",
      "source": [
        "- 글로벌 예약어"
      ],
      "metadata": {
        "id": "wvSKqmndb0wq"
      }
    },
    {
      "cell_type": "code",
      "source": [
        "## 함수 선언 부분 ##\n",
        "def func1() :\n",
        "  global a # 이 함수 안에서 a는 전역 변수 / 3행 : global 예약어로 a 변수를 전역 변수로 지정\n",
        "  a = 10  # 4행 : 전역 변수 a값을 10으로 변경하므로 func1()과 func2()함수에서 모두 전역 변수 a값을 10으로 출력\n",
        "  print(\"func1()에서 a값 %d\" % a)\n",
        "\n",
        "def func2() :\n",
        "  print(\"func2()에서 a값 %d\" % a)\n",
        "\n",
        "## 함수 변수 선언 부분 ##\n",
        "a = 20 # 전역 변수\n",
        "\n",
        "## 메인 코드 부분 ##\n",
        "func1()\n",
        "func2()"
      ],
      "metadata": {
        "colab": {
          "base_uri": "https://localhost:8080/"
        },
        "id": "1SaI7qq_b32a",
        "outputId": "b1e070c0-1002-4420-fb59-988870a66167"
      },
      "execution_count": 7,
      "outputs": [
        {
          "output_type": "stream",
          "name": "stdout",
          "text": [
            "func1()에서 a값 10\n",
            "func2()에서 a값 10\n"
          ]
        }
      ]
    },
    {
      "cell_type": "markdown",
      "source": [
        "# 함수의 반환값"
      ],
      "metadata": {
        "id": "Rko1t9SLclnR"
      }
    },
    {
      "cell_type": "markdown",
      "source": [
        "- 반환값은 return문으로 반환되므로 리턴값이라고도 하며, 매개변수는 파라미터라고도 함.\n",
        "- 반환값이 있는 함수 / 반환값이 없는 함수"
      ],
      "metadata": {
        "id": "akJ7lRWBcnoo"
      }
    },
    {
      "cell_type": "markdown",
      "source": [
        "- 반환값이 없는 함수"
      ],
      "metadata": {
        "id": "b6HH10WCcuXV"
      }
    },
    {
      "cell_type": "code",
      "source": [
        "## 함수 선언 부분 ##\n",
        "def func1() :\n",
        "  result = 100\n",
        "  return result\n",
        "\n",
        "def func2() :\n",
        "  print(\"반환값이 없는 함수 실행\")\n",
        "\n",
        "## 전역 변수 선언 부분 ##\n",
        "hap = 0\n",
        "\n",
        "## 메인 코드 부분 ##\n",
        "hap = func1()  # 13행 : 반환값이 있는 함수인 func1()을 호출하면 func1() 실행 후 func1()의 반환값을 hap에 넣고\n",
        "print(\"func1()에서 돌려준 값 ==> %d\" % hap) # 14행 출력\n",
        "func2() # 반환값이 없는 함수인 func2()를 호출하면 반환 않음"
      ],
      "metadata": {
        "colab": {
          "base_uri": "https://localhost:8080/"
        },
        "id": "8lsFGKiSc6w5",
        "outputId": "69b8661f-7943-4cfd-d559-a4282e48b28a"
      },
      "execution_count": 9,
      "outputs": [
        {
          "output_type": "stream",
          "name": "stdout",
          "text": [
            "func1()에서 돌려준 값 ==> 100\n",
            "반환값이 없는 함수 실행\n"
          ]
        }
      ]
    },
    {
      "cell_type": "markdown",
      "source": [
        "- 반환값이 여러 개인 함수"
      ],
      "metadata": {
        "id": "ZIhJiTrKdwno"
      }
    },
    {
      "cell_type": "code",
      "source": [
        "## 함수 선언 부분 ##\n",
        "def multi(v1, v2) :\n",
        "  retList = []  # 3행 : 빈 리스트를 준비\n",
        "  res1 = v1 + v2\n",
        "  res2 = v1 - v2\n",
        "  retList.append(res1)\n",
        "  retList.append(res2)\n",
        "  return retList\n",
        "\n",
        "## 전역 변수 선언 부분 ##\n",
        "myList = []\n",
        "hap, sub = 0, 0\n",
        "\n",
        "## 메인 코드 부분 ##\n",
        "myList = multi(100, 200)\n",
        "hap = myList[0]\n",
        "sub = myList[1]\n",
        "print(\"multi()에서 돌려준 값 ==> %d, %d\" % (hap,sub))"
      ],
      "metadata": {
        "colab": {
          "base_uri": "https://localhost:8080/"
        },
        "id": "6Qz9q7xId0wH",
        "outputId": "3be582c6-e468-4651-80a3-1855afd934ca"
      },
      "execution_count": 10,
      "outputs": [
        {
          "output_type": "stream",
          "name": "stdout",
          "text": [
            "multi()에서 돌려준 값 ==> 300, -100\n"
          ]
        }
      ]
    },
    {
      "cell_type": "markdown",
      "source": [
        "- pass 예약어"
      ],
      "metadata": {
        "id": "6cGKmUlRefac"
      }
    },
    {
      "cell_type": "code",
      "source": [
        "def myFunc() :\n",
        "  pass"
      ],
      "metadata": {
        "id": "mD-zrKEXehby"
      },
      "execution_count": 11,
      "outputs": []
    },
    {
      "cell_type": "code",
      "source": [
        "if True :\n",
        "\n",
        "else :\n",
        "  print('거짓이네요')"
      ],
      "metadata": {
        "id": "-IFKXdM8ej3v"
      },
      "execution_count": null,
      "outputs": []
    },
    {
      "cell_type": "code",
      "source": [
        "if True :\n",
        "  pass\n",
        "else :\n",
        "  print('거짓이네요')\n",
        ""
      ],
      "metadata": {
        "id": "sfyC0gjmepqi"
      },
      "execution_count": 14,
      "outputs": []
    },
    {
      "cell_type": "markdown",
      "source": [
        "# 함수의 매개변수 전달"
      ],
      "metadata": {
        "id": "lhBowRD2eu7P"
      }
    },
    {
      "cell_type": "markdown",
      "source": [
        "- 매개변수의 개수를 지정해 전달하는 방법\\\n",
        "1) 숫자 2개의 합과 숫자 3개의 합을 구하는 코드"
      ],
      "metadata": {
        "id": "qSSw1nWxe4Ou"
      }
    },
    {
      "cell_type": "code",
      "source": [
        "## 함수 선언 부분 ##\n",
        "def para2_func(v1, v2) :  # 2 ~ 5행은 매개변수를 2개\n",
        "  result = 0\n",
        "  result = v1 + v2\n",
        "  return result\n",
        "\n",
        "def para3_func(v1, v2, v3) : # 7 ~10행은 매개변수를 3개 받아 합계를 반환하는 함수 정의\n",
        "  result = 0\n",
        "  result = v1 + v2 + v3\n",
        "  return result\n",
        "\n",
        "## 전역 변수 선언 부분 ##\n",
        "hap = 0\n",
        "\n",
        "## 메인 코드 부분 ##\n",
        "hap = para2_func(10 ,20)  # 16 ~19행 : 각 함수를 호출하고 결과 출력\n",
        "print(\"매개변수가 2개인 함수를 호출한 결과 ==> %d\" % hap)\n",
        "hap = para3_func(10, 20, 30)\n",
        "print(\"매개변수가 3개인 함수를 호출한 결과 ==> %d\" % hap)"
      ],
      "metadata": {
        "colab": {
          "base_uri": "https://localhost:8080/"
        },
        "id": "XjoyblB2e95M",
        "outputId": "4a323945-ade5-4eb4-bc9c-4ac745f1d4c8"
      },
      "execution_count": 3,
      "outputs": [
        {
          "output_type": "stream",
          "name": "stdout",
          "text": [
            "매개변수가 2개인 함수를 호출한 결과 ==> 30\n",
            "매개변수가 3개인 함수를 호출한 결과 ==> 60\n"
          ]
        }
      ]
    },
    {
      "cell_type": "markdown",
      "source": [
        "- 매개변수에 기본값을 설정해놓고 전달하는 방법"
      ],
      "metadata": {
        "id": "7TcWiAvg-IWL"
      }
    },
    {
      "cell_type": "code",
      "source": [
        "## 함수 선언 부분 ##\n",
        "def para_func( v1, v2, v3 = 0 ) :\n",
        "  result = 0\n",
        "  result = v1 + v2 + v3\n",
        "  return result\n",
        "\n",
        "## 전역 변수 선언 부분 ##\n",
        "hap = 0\n",
        "\n",
        "## 메인 코드 부분 ##\n",
        "hap = para_func(10, 20)\n",
        "print(\"매개변수가 2개인 함수를 호출한 결과 ==> %d\" % hap)\n",
        "hap = para_func(10, 20, 30)\n",
        "print(\"매개변수가 3개인 함수를 호출한 결과 ==> %d\" % hap)"
      ],
      "metadata": {
        "colab": {
          "base_uri": "https://localhost:8080/"
        },
        "id": "jLdiDgsN-P83",
        "outputId": "6814e7c1-218f-4ed3-9ae6-3b122642c63b"
      },
      "execution_count": 5,
      "outputs": [
        {
          "output_type": "stream",
          "name": "stdout",
          "text": [
            "매개변수가 2개인 함수를 호출한 결과 ==> 30\n",
            "매개변수가 3개인 함수를 호출한 결과 ==> 60\n"
          ]
        }
      ]
    },
    {
      "cell_type": "code",
      "source": [
        "# SELF STUDY (위 코드에서 2에서 10개까지 몇 개를 매개변수로 사용하든지 합계를 구하도록 para_func()함수를 수정하기\n",
        "\n",
        "## 함수 선언 부분 ##\n",
        "def para_func( v1 = 0 , v2 = 0, v3 = 0, v4 = 0, v5 = 0, v6 = 0, v7 = 0, v8 = 0, v9 = 0, v10 = 0 ) :\n",
        "  result = 0\n",
        "  result = v1 + v2 + v3 + v4 + v5 + v6 + v7 + v8 + v9 + v10\n",
        "  return result\n",
        "\n",
        "## 전역 변수 선언 부분 ##\n",
        "hap = 0\n",
        "\n",
        "## 메인 코드 부분 ##\n",
        "hap = para_func(10, 20)\n",
        "print(\"매개변수가 2개인 함수를 호출한 결과 ==> %d\" % hap)\n",
        "hap = para_func(10, 20, 30, 40, 50, 60, 70, 80, 90, 100)\n",
        "print(\"매개변수가 10개인 함수를 호출한 결과 ==> %d\" % hap)"
      ],
      "metadata": {
        "colab": {
          "base_uri": "https://localhost:8080/"
        },
        "id": "HOcLrmu--tIo",
        "outputId": "90baef2c-b1f8-4589-8e3c-d083f51da111"
      },
      "execution_count": 8,
      "outputs": [
        {
          "output_type": "stream",
          "name": "stdout",
          "text": [
            "매개변수가 2개인 함수를 호출한 결과 ==> 30\n",
            "매개변수가 10개인 함수를 호출한 결과 ==> 550\n"
          ]
        }
      ]
    },
    {
      "cell_type": "markdown",
      "source": [
        "- 매개변수의 개수를 지정하지 않고 전달하는 방법"
      ],
      "metadata": {
        "id": "94RD6z-IApZG"
      }
    },
    {
      "cell_type": "code",
      "source": [
        "## 함수 선언 부분 ##\n",
        "def para_func ( *para ) : # 2행 : *para로 매개변수 설정\n",
        "    result = 0\n",
        "    for num in para :\n",
        "       result = result + num\n",
        "\n",
        "    return result\n",
        "\n",
        "## 전역 변수 선언 부분 ##\n",
        "hap = 0\n",
        "\n",
        "## 메인 코드 부분 ##\n",
        "hap = para_func(10, 20) # 13행 : 호출한 매개변수는 (10, 20) 형식의 튜플로 전달\n",
        "print(\"매개변수가 2개인 함수를 호출한 결과 ==> %d\" % hap)\n",
        "hap = para_func(10, 20, 30) # 15행 : 호출한 매개변수는 (10, 20, 30) 형식의 튜플로 전달\n",
        "print(\"매개변수가 3개인 함수를 호출한 결과 ==> %d\" % hap)"
      ],
      "metadata": {
        "colab": {
          "base_uri": "https://localhost:8080/"
        },
        "id": "_dQC--hoAu62",
        "outputId": "03dd393c-760b-4032-ec24-3db9e002acf8"
      },
      "execution_count": 14,
      "outputs": [
        {
          "output_type": "stream",
          "name": "stdout",
          "text": [
            "매개변수가 2개인 함수를 호출한 결과 ==> 30\n",
            "매개변수가 3개인 함수를 호출한 결과 ==> 60\n"
          ]
        }
      ]
    },
    {
      "cell_type": "markdown",
      "source": [
        "- (10, 20, 30)을 매개 변수로 받았을 때 4 ~ 5행의 반복\\\n",
        "1) 1회 : num에 10을 저장한 후 result = result + 10 (result에 10 저장됨) \\\n",
        "2) 2회 : num에 20을 저장한 후 result = result + 20 (result에 30 저장됨)\\\n",
        "3) 3회 : num에 30을 저장한 후 result = result + 30(result에 60 저장됨)\n",
        "\n"
      ],
      "metadata": {
        "id": "109PTol-B8Ox"
      }
    },
    {
      "cell_type": "markdown",
      "source": [
        "- 매개변수 10개 이상일 때"
      ],
      "metadata": {
        "id": "u6VbAMFbCwPs"
      }
    },
    {
      "cell_type": "code",
      "source": [
        "hap = para_func(10, 20, 30, 40, 50, 60, 70, 80, 90, 100)\n",
        "print(hap)"
      ],
      "metadata": {
        "colab": {
          "base_uri": "https://localhost:8080/"
        },
        "id": "ljJng838Czmk",
        "outputId": "8c95664c-832c-4c61-a349-ced1803847ea"
      },
      "execution_count": 15,
      "outputs": [
        {
          "output_type": "stream",
          "name": "stdout",
          "text": [
            "550\n"
          ]
        }
      ]
    },
    {
      "cell_type": "markdown",
      "source": [
        "- 함수 호출할 때 딕셔너리 형식의 매개변수를 키 = 값 형식으로 사용"
      ],
      "metadata": {
        "id": "aG1qZm1tCnxf"
      }
    },
    {
      "cell_type": "code",
      "source": [
        "def dic_func (**para) :\n",
        "  for k in para.keys() :\n",
        "    print(\"%s --> %d명입니다.\" % (k, para[k]))\n",
        "\n",
        "dic_func(트와이스 = 9, 소녀시대 = 7, 걸스데이 = 4, 블랙핑크 = 4)"
      ],
      "metadata": {
        "colab": {
          "base_uri": "https://localhost:8080/"
        },
        "id": "MGI5vA-bDDgO",
        "outputId": "e542f296-b759-43d9-d38d-681470c6946b"
      },
      "execution_count": 16,
      "outputs": [
        {
          "output_type": "stream",
          "name": "stdout",
          "text": [
            "트와이스 --> 9명입니다.\n",
            "소녀시대 --> 7명입니다.\n",
            "걸스데이 --> 4명입니다.\n",
            "블랙핑크 --> 4명입니다.\n"
          ]
        }
      ]
    },
    {
      "cell_type": "code",
      "source": [
        "# 로또 추첨 프로그램\n",
        "import random\n",
        "\n",
        "## 함수 선언 부분 ##\n",
        "def getNumber() :\n",
        "  return random.randrange(1, 46)\n",
        "'''\n",
        " 5~6행 : getNumber() 함수 정의\n",
        "6행 : random.randrange(시작값, 끝값) 함수는 시작값 ~ 끝값-1 중에 임의의 숫자 하나를 추출\n",
        "이 함수를 사용하라고 1행에 import random을 입력\n",
        "'''\n",
        "\n",
        "## 전역 변수 선언 부분 ##\n",
        "lotto = []\n",
        "num = 0 # 14 ~ 15행 : 추첨된 로또 숫자를 저장할 lotto 리스트와 추첨된 숫자를 임시로 저장할 num 변수 준비\n",
        "\n",
        "## 메인 코드 부분 ##\n",
        "print(\"** 로또 추첨을 시작합니다. ** \\n\");\n",
        "\n",
        "while True : # 20 ~ 27 행 : 무한 반복\n",
        "  num = getNumber()\n",
        "\n",
        "  if lotto.count(num) == 0 :\n",
        "    lotto.append(num)\n",
        "\n",
        "  if len(lotto) >= 6 :\n",
        "    break\n",
        "'''\n",
        "23 ~ 24행 : 이미 뽑힌 숫자가 lotto[] 리스트에 들어있지 않아야 lotto.append(num)함수로 추가\n",
        "'''\n",
        "print(\"추첨된 로또 번호 ==> \", end = '')\n",
        "lotto.sort() # 32행 : 뽑힌 숫자 6개를 lotto.sort()로 정렬\n",
        "for i in range(0, 6) : # 33 ~ 34행 : 출력\n",
        "  print(\"%d \" % lotto[i], end = '')"
      ],
      "metadata": {
        "colab": {
          "base_uri": "https://localhost:8080/"
        },
        "id": "Ok1DdttQCHP6",
        "outputId": "8d9d488d-bf27-4cf9-d1fa-16470750063b"
      },
      "execution_count": 18,
      "outputs": [
        {
          "output_type": "stream",
          "name": "stdout",
          "text": [
            "** 로또 추첨을 시작합니다. ** \n",
            "\n",
            "추첨된 로또 번호 ==> 3 9 14 20 28 31 "
          ]
        }
      ]
    }
  ]
}
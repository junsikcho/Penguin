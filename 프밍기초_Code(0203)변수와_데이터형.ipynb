{
  "nbformat": 4,
  "nbformat_minor": 0,
  "metadata": {
    "colab": {
      "provenance": [],
      "authorship_tag": "ABX9TyNu3QJROjKHRvUuvl045njo",
      "include_colab_link": true
    },
    "kernelspec": {
      "name": "python3",
      "display_name": "Python 3"
    },
    "language_info": {
      "name": "python"
    }
  },
  "cells": [
    {
      "cell_type": "markdown",
      "metadata": {
        "id": "view-in-github",
        "colab_type": "text"
      },
      "source": [
        "<a href=\"https://colab.research.google.com/github/junsikcho/Penguin/blob/main/%ED%94%84%EB%B0%8D%EA%B8%B0%EC%B4%88_Code(0203)%EB%B3%80%EC%88%98%EC%99%80_%EB%8D%B0%EC%9D%B4%ED%84%B0%ED%98%95.ipynb\" target=\"_parent\"><img src=\"https://colab.research.google.com/assets/colab-badge.svg\" alt=\"Open In Colab\"/></a>"
      ]
    },
    {
      "cell_type": "markdown",
      "source": [
        "# 데이터 표현 단위와 진수 변환\n",
        "1) 비트, 바이트 같은 데이터 표현 방법과 진수 변환 방법을 익힌다.\\\n",
        "2) 입력한 숫자의 진수를 변환하는 프로그램을 만든다."
      ],
      "metadata": {
        "id": "GHxHfm9g1kD8"
      }
    },
    {
      "cell_type": "markdown",
      "source": [
        "# 비트(Bit)\n",
        "컴퓨터에서 표현할 수 있는 \\'제일 작은 단위 \\'"
      ],
      "metadata": {
        "id": "smZHPc9f1xdW"
      }
    },
    {
      "cell_type": "markdown",
      "source": [
        "#바이트(Byte)\n",
        "\\'비트 8개가 모이면\\' 바이트(Byte)"
      ],
      "metadata": {
        "id": "6Qi3NnOp2TU6"
      }
    },
    {
      "cell_type": "markdown",
      "source": [
        "# 비트(Bit)\n",
        "1) 비트는 0과 1만 존재하므롤 1비트로는 두 가지를 표현 가능\\\n",
        "Ex. 00(2진수) -> 0(10진수) , 01(2진수) -> 1(10진수), 10(2진수) -> 2(10진수), 11(2진수) -> 3(10진수)"
      ],
      "metadata": {
        "id": "OSin6xtu2e5N"
      }
    },
    {
      "cell_type": "markdown",
      "source": [
        "# 10진수(00 ~ 09) / 2진수(0,1) / 16진수(0~F) 순\n",
        "00 -> 0000 -> 0\\\n",
        "01 -> 0001 -> 1\\\n",
        "02 -> 0010 -> 2\\\n",
        "03 -> 0011 -> 3\\\n",
        "04 -> 0100 -> 4\\\n",
        "05 -> 0101 -> 5\\\n",
        "06 -> 0110 -> 6\\\n",
        "07 -> 0111 -> 7\\\n",
        "08 -> 1000 -> 8\\\n",
        "09 -> 1001 -> 9\\\n",
        "10 -> 1010 -> A\\\n",
        "11 -> 1011 -> B\\\n",
        "12 -> 1100 -> C\\\n",
        "13 -> 1101 -> D\\\n",
        "14 -> 1110 -> E\\\n",
        "15 -> 1111 -> F"
      ],
      "metadata": {
        "id": "wqr_6Rkm3jxw"
      }
    },
    {
      "cell_type": "markdown",
      "source": [
        "# 바이트 : 비트와 바이트 크기에 따른 숫자의 범위\n",
        "# 비트 수 / 바이트 수 / 표현 개수 / 2진수 / 10진수 / 16진수 순\n",
        "1 / 0 / 2^1=2 / 0~1 / 0~1 / 0~1\\\n",
        "2 / 0 / 2^2=4 / 0~11 / 0~3 / 0~3\\\n",
        "4 / 0 / 2^4=16 / 0~1111 / 0~15 / 0~F\\\n",
        "8 / 1 / 2^8=256 / 0~11111111 / 0~255 / 0~FF\\\n",
        "16 / 2 / 2^16=65536 / 0~1111111111111111 / 0~65535 / 0~FFFF\\\n",
        "32 / 4 / 2^32=4294967296 (약 42억) / 0~11111111111111111111111111111111 /\\\n",
        "64 / 8  / 2^64=18446744073709551616 (약 1800경) /"
      ],
      "metadata": {
        "id": "86fQqJ_c4oBF"
      }
    },
    {
      "cell_type": "markdown",
      "source": [
        "# 2진수를 10진수로 변환하는 방법\n",
        "2진수 : 1 0 0 1 0 0 1 1 (네 자리씩 계산)\\\n",
        "2^0 = 1\\\n",
        "2^1 = 2\\\n",
        "2^2 = 0\\\n",
        "2^3 = 0\\\n",
        "2^4 = 16\\\n",
        "2^5 = 0\\\n",
        "2^6 = 0\\\n",
        "2^7 = 128\n",
        "\n",
        "1 + 2 + 16 + 128 = 147(10진수)"
      ],
      "metadata": {
        "id": "g8hLhmWE5Q7Z"
      }
    },
    {
      "cell_type": "markdown",
      "source": [
        "# 2진수를 16진수로 변환한 후 10진수로 변환하는 방법\n",
        "2진수 : 1 0 0 1 0 0 1 1 (네 자리씩 계산)\\\n",
        "2^0 = 1\\\n",
        "2^1 = 2\\\n",
        "2^2 = 0\\\n",
        "2^3 = 0\\\n",
        "1 + 2 = 3(16진수)\\\n",
        "2^0 = 1\\\n",
        "2^1 = 0\\\n",
        "2^2 = 0\\\n",
        "2^3 = 8\\\n",
        "1 + 8 = 9(16진수)\n",
        "\n",
        "16진수 -> 10진수 변환\\\n",
        "3 * 16^0 = 3 \\\n",
        "9 * 16^1 = 144\\\n",
        "3 + 144 = 147(10진수)\n"
      ],
      "metadata": {
        "id": "ZARALzfe4B50"
      }
    },
    {
      "cell_type": "markdown",
      "source": [
        "# 10진수를 2진수로 변환하는 방법 (잘 안씀)\n",
        "13/2 => 몫 6 나머지 1\\\n",
        "6/2 => 몫 3 나머지 0\\\n",
        "3/2 => 몫 1 나머지 1\\\n",
        "쓰는 순서(밑에서부터) : 1101(2진수)"
      ],
      "metadata": {
        "id": "XLTR6PWD3weG"
      }
    },
    {
      "cell_type": "markdown",
      "source": [
        "# 16진수를 2진수로 변환하는 방법 (잘 안씀)\n",
        "16진수 1 => 0001(2진수)\\\n",
        "16진수 3 => 0011(16진수)\\\n",
        "C => 1100\\\n",
        "5 => 0101\\\n",
        "F => 1111\\\n",
        "7 => 0111\\\n",
        "1100 0101 1111 0111(2진수)"
      ],
      "metadata": {
        "id": "YEM77yLt7Ur5"
      }
    },
    {
      "cell_type": "markdown",
      "source": [
        "# 16진수, 2진수 변환표\n",
        "0 => 0000\\\n",
        "1 => 0001\\\n",
        "2 => 0010\\\n",
        "3 => 0011\\\n",
        "4 => 0100\\\n",
        "5 => 0101\\\n",
        "6 => 0110\\\n",
        "7 => 0111\\\n",
        "8 => 1000\\\n",
        "9 => 1001\\\n",
        "A => 1010\\\n",
        "B => 1011\\\n",
        "C => 1100\\\n",
        "D => 1101\\\n",
        "E => 1110\\\n",
        "F => 1111"
      ],
      "metadata": {
        "id": "yagXEzil8IXW"
      }
    },
    {
      "cell_type": "code",
      "source": [
        "bin(11)"
      ],
      "metadata": {
        "colab": {
          "base_uri": "https://localhost:8080/",
          "height": 35
        },
        "id": "dntJVGT_87aU",
        "outputId": "005e82b2-40ac-4c40-dccc-b4551aaf1e0c"
      },
      "execution_count": 3,
      "outputs": [
        {
          "output_type": "execute_result",
          "data": {
            "text/plain": [
              "'0b1011'"
            ],
            "application/vnd.google.colaboratory.intrinsic+json": {
              "type": "string"
            }
          },
          "metadata": {},
          "execution_count": 3
        }
      ]
    },
    {
      "cell_type": "code",
      "source": [
        "bin(0o11)"
      ],
      "metadata": {
        "colab": {
          "base_uri": "https://localhost:8080/",
          "height": 35
        },
        "id": "1__A0tjE8-b6",
        "outputId": "39abc908-0e85-4a97-b646-3ecf744aaa02"
      },
      "execution_count": 4,
      "outputs": [
        {
          "output_type": "execute_result",
          "data": {
            "text/plain": [
              "'0b1001'"
            ],
            "application/vnd.google.colaboratory.intrinsic+json": {
              "type": "string"
            }
          },
          "metadata": {},
          "execution_count": 4
        }
      ]
    },
    {
      "cell_type": "code",
      "source": [
        "bin(0x11)"
      ],
      "metadata": {
        "colab": {
          "base_uri": "https://localhost:8080/",
          "height": 35
        },
        "id": "if0dJUf19Awh",
        "outputId": "8afae9e6-896d-4baf-bc33-46729953185a"
      },
      "execution_count": 5,
      "outputs": [
        {
          "output_type": "execute_result",
          "data": {
            "text/plain": [
              "'0b10001'"
            ],
            "application/vnd.google.colaboratory.intrinsic+json": {
              "type": "string"
            }
          },
          "metadata": {},
          "execution_count": 5
        }
      ]
    },
    {
      "cell_type": "code",
      "source": [
        "oct(11)"
      ],
      "metadata": {
        "colab": {
          "base_uri": "https://localhost:8080/",
          "height": 35
        },
        "id": "LHSiRidF9Cpu",
        "outputId": "2319f06d-0e10-4ec7-aca2-cdbd24dfdd8f"
      },
      "execution_count": 6,
      "outputs": [
        {
          "output_type": "execute_result",
          "data": {
            "text/plain": [
              "'0o13'"
            ],
            "application/vnd.google.colaboratory.intrinsic+json": {
              "type": "string"
            }
          },
          "metadata": {},
          "execution_count": 6
        }
      ]
    },
    {
      "cell_type": "code",
      "source": [
        "oct(0b11)"
      ],
      "metadata": {
        "colab": {
          "base_uri": "https://localhost:8080/",
          "height": 35
        },
        "id": "Dl432Wjd9EEx",
        "outputId": "8b60ca88-1b30-47a0-87f8-1d0f03da9ae2"
      },
      "execution_count": 7,
      "outputs": [
        {
          "output_type": "execute_result",
          "data": {
            "text/plain": [
              "'0o3'"
            ],
            "application/vnd.google.colaboratory.intrinsic+json": {
              "type": "string"
            }
          },
          "metadata": {},
          "execution_count": 7
        }
      ]
    },
    {
      "cell_type": "code",
      "source": [
        "oct(0x11)"
      ],
      "metadata": {
        "colab": {
          "base_uri": "https://localhost:8080/",
          "height": 35
        },
        "id": "fsQIpJqY9F7S",
        "outputId": "4c3fcabc-3c8a-45f1-fbc6-7d02d80a8fac"
      },
      "execution_count": 9,
      "outputs": [
        {
          "output_type": "execute_result",
          "data": {
            "text/plain": [
              "'0o21'"
            ],
            "application/vnd.google.colaboratory.intrinsic+json": {
              "type": "string"
            }
          },
          "metadata": {},
          "execution_count": 9
        }
      ]
    },
    {
      "cell_type": "code",
      "source": [
        "hex(11)"
      ],
      "metadata": {
        "colab": {
          "base_uri": "https://localhost:8080/",
          "height": 35
        },
        "id": "BM7bGE4L9Jwk",
        "outputId": "d890049d-c376-4493-e290-f3d2549b0ad4"
      },
      "execution_count": 10,
      "outputs": [
        {
          "output_type": "execute_result",
          "data": {
            "text/plain": [
              "'0xb'"
            ],
            "application/vnd.google.colaboratory.intrinsic+json": {
              "type": "string"
            }
          },
          "metadata": {},
          "execution_count": 10
        }
      ]
    },
    {
      "cell_type": "code",
      "source": [
        "hex(0b11)"
      ],
      "metadata": {
        "colab": {
          "base_uri": "https://localhost:8080/",
          "height": 35
        },
        "id": "ck8xX6nf9LZx",
        "outputId": "ef9f8d2d-b94a-4a27-a3b0-4ddc1180c56b"
      },
      "execution_count": 11,
      "outputs": [
        {
          "output_type": "execute_result",
          "data": {
            "text/plain": [
              "'0x3'"
            ],
            "application/vnd.google.colaboratory.intrinsic+json": {
              "type": "string"
            }
          },
          "metadata": {},
          "execution_count": 11
        }
      ]
    },
    {
      "cell_type": "code",
      "source": [
        "hex(0o11)"
      ],
      "metadata": {
        "colab": {
          "base_uri": "https://localhost:8080/",
          "height": 35
        },
        "id": "7ATsOTHF9NaA",
        "outputId": "8f529ea3-751d-4424-fc98-2d0f5423abfb"
      },
      "execution_count": 12,
      "outputs": [
        {
          "output_type": "execute_result",
          "data": {
            "text/plain": [
              "'0x9'"
            ],
            "application/vnd.google.colaboratory.intrinsic+json": {
              "type": "string"
            }
          },
          "metadata": {},
          "execution_count": 12
        }
      ]
    },
    {
      "cell_type": "code",
      "source": [
        "sel = int(input(\"입력 진수 결정(16/10/8/2) : \"))\n",
        "num = input(\"값 입력 : \")\n",
        "\n",
        "if sel == 16 :\n",
        "  num10 = int(num, 16)\n",
        "if sel == 10 :\n",
        "  num10 = int(num, 10)\n",
        "if sel == 8 :\n",
        "  num10 = int(num, 8)\n",
        "if sel == 2 :\n",
        "  num10 = int(num, 2)\n",
        "\n",
        "  print(\"16진수 ==>\", hex(num10))\n",
        "  print(\"10진수 ==>\", num10)\n",
        "  print(\"8진수 ==>\", oct(num10))\n",
        "  print(\"2진수 ==>\", bin(num10))"
      ],
      "metadata": {
        "id": "87vSBDac9VsA"
      },
      "execution_count": null,
      "outputs": []
    },
    {
      "cell_type": "code",
      "source": [
        "# Self Study\n"
      ],
      "metadata": {
        "id": "H40DZI8m9_vB"
      },
      "execution_count": null,
      "outputs": []
    },
    {
      "cell_type": "code",
      "source": [
        "# 숫자형 (정수형과 실수형) (1)\n",
        "a = 123\n",
        "type(a)"
      ],
      "metadata": {
        "colab": {
          "base_uri": "https://localhost:8080/"
        },
        "id": "Rn2eghJS-EKN",
        "outputId": "85025272-f75c-4542-8651-a0048bf8d8ee"
      },
      "execution_count": 17,
      "outputs": [
        {
          "output_type": "execute_result",
          "data": {
            "text/plain": [
              "int"
            ]
          },
          "metadata": {},
          "execution_count": 17
        }
      ]
    },
    {
      "cell_type": "code",
      "source": [
        "a = 100 ** 100\n",
        "print(a)"
      ],
      "metadata": {
        "colab": {
          "base_uri": "https://localhost:8080/"
        },
        "id": "WkMCC57e-LmR",
        "outputId": "9b8b1ef1-1fc4-4cbf-9c5b-80f9dc76a6dd"
      },
      "execution_count": 18,
      "outputs": [
        {
          "output_type": "stream",
          "name": "stdout",
          "text": [
            "100000000000000000000000000000000000000000000000000000000000000000000000000000000000000000000000000000000000000000000000000000000000000000000000000000000000000000000000000000000000000000000000000000000\n"
          ]
        }
      ]
    },
    {
      "cell_type": "markdown",
      "source": [
        "# 숫자형"
      ],
      "metadata": {
        "id": "gu_ygeLl_B8R"
      }
    },
    {
      "cell_type": "code",
      "source": [
        "# 숫자형 (정수형과 실수형) (2)\n",
        "a = 0xFF\n",
        "b = 0o77\n",
        "c = 0b1111\n",
        "print(a, b, c)\n",
        "# 정수형에는 16, 8, 2진수도 사용할 수 있음"
      ],
      "metadata": {
        "colab": {
          "base_uri": "https://localhost:8080/"
        },
        "id": "CKTf_RBY-PfJ",
        "outputId": "726a8eb6-9608-4646-c2bd-f64ff216fc39"
      },
      "execution_count": 20,
      "outputs": [
        {
          "output_type": "stream",
          "name": "stdout",
          "text": [
            "255 63 15\n"
          ]
        }
      ]
    },
    {
      "cell_type": "code",
      "source": [
        "a = 3.14\n",
        "b = 3.14e5\n",
        "print(a, b)\n",
        "# 3.14e5는 3.14*105를 뜻함"
      ],
      "metadata": {
        "colab": {
          "base_uri": "https://localhost:8080/"
        },
        "id": "ZF0ayZ8e-cR2",
        "outputId": "55d8f147-929b-42c8-f050-710a28ed9338"
      },
      "execution_count": 21,
      "outputs": [
        {
          "output_type": "stream",
          "name": "stdout",
          "text": [
            "3.14 314000.0\n"
          ]
        }
      ]
    },
    {
      "cell_type": "code",
      "source": [
        "# 숫자형 (정수형과 실수형) (3)\n",
        "a = 10; b = 20\n",
        "print( a+b, a-b, a*b, a/b)\n",
        "# 정수 및 실수 데이터형은 사칙 연산 +, -, *, /를 수행할 수 있다."
      ],
      "metadata": {
        "colab": {
          "base_uri": "https://localhost:8080/"
        },
        "id": "RDwPPoU0-m_R",
        "outputId": "c694832a-5b0e-495c-c1b7-1a6e14c428b5"
      },
      "execution_count": 22,
      "outputs": [
        {
          "output_type": "stream",
          "name": "stdout",
          "text": [
            "30 -10 200 0.5\n"
          ]
        }
      ]
    },
    {
      "cell_type": "code",
      "source": [
        "a, b = 9, 2\n",
        "print( a **b, a % b, a// b)\n",
        "# **는 제곱, %는 나머지, //는 나눈 후 소수점을 버리는 연산자임"
      ],
      "metadata": {
        "colab": {
          "base_uri": "https://localhost:8080/"
        },
        "id": "dRQJxt8k-ypN",
        "outputId": "436c7baf-0426-46ee-ddfc-9b74f90bee32"
      },
      "execution_count": 24,
      "outputs": [
        {
          "output_type": "stream",
          "name": "stdout",
          "text": [
            "81 1 4\n"
          ]
        }
      ]
    },
    {
      "cell_type": "markdown",
      "source": [
        "# 불형"
      ],
      "metadata": {
        "id": "VHGIosKR--vv"
      }
    },
    {
      "cell_type": "code",
      "source": [
        "a = True\n",
        "type(a)\n",
        "# 불(Bool)형은 참(True)이나 거짓(False)만 저장할 수 있다."
      ],
      "metadata": {
        "colab": {
          "base_uri": "https://localhost:8080/"
        },
        "id": "tyavBTsB_EVU",
        "outputId": "d005c13f-5b74-4b89-f06a-c49963ef0097"
      },
      "execution_count": 25,
      "outputs": [
        {
          "output_type": "execute_result",
          "data": {
            "text/plain": [
              "bool"
            ]
          },
          "metadata": {},
          "execution_count": 25
        }
      ]
    },
    {
      "cell_type": "code",
      "source": [
        "a = (100 == 100)\n",
        "b = (10 > 100)\n",
        "print(a,b)\n",
        "# 불형은 비교의 결과를 참이나 거짓으로 저장하는 데 사용될 수 있다."
      ],
      "metadata": {
        "colab": {
          "base_uri": "https://localhost:8080/"
        },
        "id": "CijabPyI_MaK",
        "outputId": "6c27d099-422b-4111-a5e2-292498ab2b72"
      },
      "execution_count": 26,
      "outputs": [
        {
          "output_type": "stream",
          "name": "stdout",
          "text": [
            "True False\n"
          ]
        }
      ]
    },
    {
      "cell_type": "markdown",
      "source": [
        "# 문자열"
      ],
      "metadata": {
        "id": "xmgdNpvS_W9R"
      }
    },
    {
      "cell_type": "code",
      "source": [
        "a = \"파이썬 만세\"\n",
        "a\n",
        "print(a)\n",
        "type(a)\n",
        "# 문자열은 'abc', \"파이썬 만세\", \"1\" 등 문자집합을 의미함.\n",
        "# 문자열은 양쪽을 큰따옴표(\")나 작은따옴표(')로 감싸야 함."
      ],
      "metadata": {
        "colab": {
          "base_uri": "https://localhost:8080/"
        },
        "id": "crR09Ao9_Y0V",
        "outputId": "2a1a5468-6b64-46a4-dfde-23bece2be085"
      },
      "execution_count": 29,
      "outputs": [
        {
          "output_type": "stream",
          "name": "stdout",
          "text": [
            "파이썬 만세\n"
          ]
        },
        {
          "output_type": "execute_result",
          "data": {
            "text/plain": [
              "str"
            ]
          },
          "metadata": {},
          "execution_count": 29
        }
      ]
    },
    {
      "cell_type": "code",
      "source": [
        "\"작은따옴표는 ' 모양이다.\""
      ],
      "metadata": {
        "colab": {
          "base_uri": "https://localhost:8080/",
          "height": 35
        },
        "id": "Ubr1fRuH_sz1",
        "outputId": "8d4328b6-5210-4c38-c224-40e869a9b433"
      },
      "execution_count": 31,
      "outputs": [
        {
          "output_type": "execute_result",
          "data": {
            "text/plain": [
              "\"작은따옴표는 ' 모양이다.\""
            ],
            "application/vnd.google.colaboratory.intrinsic+json": {
              "type": "string"
            }
          },
          "metadata": {},
          "execution_count": 31
        }
      ]
    },
    {
      "cell_type": "code",
      "source": [
        "'큰따옴표는 \"모양이다.'"
      ],
      "metadata": {
        "colab": {
          "base_uri": "https://localhost:8080/",
          "height": 35
        },
        "id": "smksczXC_0rW",
        "outputId": "5e826280-51c7-4749-f06b-b92afa96193b"
      },
      "execution_count": 32,
      "outputs": [
        {
          "output_type": "execute_result",
          "data": {
            "text/plain": [
              "'큰따옴표는 \"모양이다.'"
            ],
            "application/vnd.google.colaboratory.intrinsic+json": {
              "type": "string"
            }
          },
          "metadata": {},
          "execution_count": 32
        }
      ]
    },
    {
      "cell_type": "code",
      "source": [
        "a = \"이건 큰따옴표 \\\" 모양.\"\n",
        "b = '이건 작은따옴표 \\' 모양.'\n",
        "print(a, b)\n",
        "#역슬래시\\ 뒤에 큰따옴표나 작은따옴표를 사용해도 글자로 인식함"
      ],
      "metadata": {
        "colab": {
          "base_uri": "https://localhost:8080/"
        },
        "id": "Q47s2MTx_6Nu",
        "outputId": "9e01cb33-360d-46a2-de2a-ad5766525e7a"
      },
      "execution_count": 34,
      "outputs": [
        {
          "output_type": "stream",
          "name": "stdout",
          "text": [
            "이건 큰따옴표 \" 모양. 이건 작은따옴표 ' 모양.\n"
          ]
        }
      ]
    },
    {
      "cell_type": "code",
      "source": [
        "a = '파이썬 \\n만세'\n",
        "print(a)"
      ],
      "metadata": {
        "colab": {
          "base_uri": "https://localhost:8080/"
        },
        "id": "cIDEvBa4AHaw",
        "outputId": "1f6c311b-2bde-4129-cdb5-2c63340655bb"
      },
      "execution_count": 35,
      "outputs": [
        {
          "output_type": "stream",
          "name": "stdout",
          "text": [
            "파이썬 \n",
            "만세\n"
          ]
        }
      ]
    },
    {
      "cell_type": "code",
      "source": [
        "a = \"\"\"파이썬\n",
        "만세\"\"\"\n",
        "a\n",
        "print(a)"
      ],
      "metadata": {
        "colab": {
          "base_uri": "https://localhost:8080/"
        },
        "id": "3GUMTI6AALRm",
        "outputId": "d991e9fb-87ff-400f-9aca-cc6f2edbb273"
      },
      "execution_count": 36,
      "outputs": [
        {
          "output_type": "stream",
          "name": "stdout",
          "text": [
            "파이썬\n",
            "만세\n"
          ]
        }
      ]
    },
    {
      "cell_type": "code",
      "source": [
        "## 함수 선언 부분 ##\n",
        "def myFunc() :\n",
        "  print('함수를 호출함.')\n",
        "\n",
        "## 전역 변수 선언 부분 ##\n",
        "gVar = 100\n",
        "\n",
        "## 메인 코드 부분 ##\n",
        "if __name__=='__main__' :\n",
        "  print('메인 함수 부분이 실행됩니다.')\n",
        "  myFunc()\n",
        "  print('전역 변수 값:', gVar)"
      ],
      "metadata": {
        "colab": {
          "base_uri": "https://localhost:8080/"
        },
        "id": "NwNEKUi9ASZV",
        "outputId": "f29e447a-787d-4f6c-e5a4-4bc676fb614e"
      },
      "execution_count": 38,
      "outputs": [
        {
          "output_type": "stream",
          "name": "stdout",
          "text": [
            "메인 함수 부분이 실행됩니다.\n",
            "함수를 호출함.\n",
            "전역 변수 값: 100\n"
          ]
        }
      ]
    },
    {
      "cell_type": "code",
      "source": [
        "# 연습 문제\n",
        "num = 12345678\n",
        "print(\"10진수 ==>\", num)\n",
        "print(\"16진수 ==>\", hex(num))\n",
        "print(\" 8진수 ==>\", oct(num))\n",
        "print(\" 2진수 ==>\", bin(num))"
      ],
      "metadata": {
        "colab": {
          "base_uri": "https://localhost:8080/"
        },
        "id": "OkWcja2LAw2z",
        "outputId": "d235b477-5791-45cd-c078-1f85505f96e7"
      },
      "execution_count": 39,
      "outputs": [
        {
          "output_type": "stream",
          "name": "stdout",
          "text": [
            "10진수 ==> 12345678\n",
            "16진수 ==> 0xbc614e\n",
            " 8진수 ==> 0o57060516\n",
            " 2진수 ==> 0b101111000110000101001110\n"
          ]
        }
      ]
    },
    {
      "cell_type": "code",
      "source": [
        "# 연습 문제 (5장)\n",
        "num = input(\" 글자 입력 : \")\n",
        "if ('0' <= num and num <= '1') :\n",
        "  print(\" 2진수 또는 8진수 또는 16진수 입니다\")\n",
        "elif('2' <= num and num <= '7') :\n",
        "  print(\" 8진수 또는 10진수 또는 16진수 입니다.\")\n",
        "elif('8' <= num and num <= '9') :\n",
        "  print(\" 10진수 또는 16진수 입니다\")\n",
        "elif('a' <= num and num <= 'f') or ('A' <= num and num <= 'F') :\n",
        "  print(\" 16진수 입니다.\")\n",
        "else :\n",
        "  print(\"숫자가 아닙니다.\")"
      ],
      "metadata": {
        "colab": {
          "base_uri": "https://localhost:8080/"
        },
        "id": "9EpNifBKBJi-",
        "outputId": "7f168b53-0f21-4ba4-9b34-ebc56700416e"
      },
      "execution_count": 45,
      "outputs": [
        {
          "output_type": "stream",
          "name": "stdout",
          "text": [
            " 글자 입력 : 5\n",
            " 8진수 또는 10진수 또는 16진수 입니다.\n"
          ]
        }
      ]
    }
  ]
}
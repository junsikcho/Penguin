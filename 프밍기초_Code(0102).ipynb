{
  "nbformat": 4,
  "nbformat_minor": 0,
  "metadata": {
    "colab": {
      "provenance": [],
      "authorship_tag": "ABX9TyNBcTHQ3G3D2EVIKR59Oc1d",
      "include_colab_link": true
    },
    "kernelspec": {
      "name": "python3",
      "display_name": "Python 3"
    },
    "language_info": {
      "name": "python"
    }
  },
  "cells": [
    {
      "cell_type": "markdown",
      "metadata": {
        "id": "view-in-github",
        "colab_type": "text"
      },
      "source": [
        "<a href=\"https://colab.research.google.com/github/junsikcho/Penguin/blob/main/%ED%94%84%EB%B0%8D%EA%B8%B0%EC%B4%88_Code(0102).ipynb\" target=\"_parent\"><img src=\"https://colab.research.google.com/assets/colab-badge.svg\" alt=\"Open In Colab\"/></a>"
      ]
    },
    {
      "cell_type": "markdown",
      "source": [
        "# 학습목표\n",
        "1) 변수를 이해한다.\\\n",
        "2) Print()함수의 사용법을 익힌다.\\\n",
        "3) 긴 프로그램을 작성하고 저장하는 방법을 익힌다.\\\n",
        "4) 키보드로 숫자를 입력해 계산하는 계산기 프로그램을 만든다.\n"
      ],
      "metadata": {
        "id": "Tq6KEPWO-Ao7"
      }
    },
    {
      "cell_type": "markdown",
      "source": [
        "# 함수\n",
        "함수(Function) : 특정 기능을 하도록 미리 만들어져 있거나 새로 만드는 것\\\n",
        "1) 함수는 뒤에 괄호가 붙음\\\n",
        "Ex. Print() => 괄호 안의 내용을 출력해 함수로 파이썬이 미리 만들어서 제공하는 것"
      ],
      "metadata": {
        "id": "JIOjAIFt-ToO"
      }
    },
    {
      "cell_type": "code",
      "source": [
        "# 빼기, 곱하기, 나누기 기능 구현\n",
        "a = 100\n",
        "b = 50\n",
        "result = a + b\n",
        "print(result)"
      ],
      "metadata": {
        "colab": {
          "base_uri": "https://localhost:8080/"
        },
        "id": "T8BThfflDalD",
        "outputId": "c336916f-55ab-44ad-b34c-17ada7d3d5d3"
      },
      "execution_count": 2,
      "outputs": [
        {
          "output_type": "stream",
          "name": "stdout",
          "text": [
            "150\n"
          ]
        }
      ]
    },
    {
      "cell_type": "code",
      "source": [
        "# 빼기, 곱하기, 나누기 기능 구현\n",
        "print(a, '+', b, '=', result)"
      ],
      "metadata": {
        "colab": {
          "base_uri": "https://localhost:8080/"
        },
        "id": "ZZ7Zb4SmD7EB",
        "outputId": "a5df1864-2c13-4b0b-ad77-1670ed34b7a0"
      },
      "execution_count": 3,
      "outputs": [
        {
          "output_type": "stream",
          "name": "stdout",
          "text": [
            "100 + 50 = 150\n"
          ]
        }
      ]
    },
    {
      "cell_type": "code",
      "source": [
        "# 빼기, 곱하기, 나누기 기능 구현\n",
        "result = a - b\n",
        "print( a, '-', b, '=', result)"
      ],
      "metadata": {
        "colab": {
          "base_uri": "https://localhost:8080/"
        },
        "id": "QwSgfYtTEE9r",
        "outputId": "03a5b33e-ff8c-4c56-fb72-202d19343786"
      },
      "execution_count": 5,
      "outputs": [
        {
          "output_type": "stream",
          "name": "stdout",
          "text": [
            "100 - 50 = 50\n"
          ]
        }
      ]
    },
    {
      "cell_type": "code",
      "source": [
        "# 빼기, 곱하기, 나누기 기능 구현\n",
        "result = a * b\n",
        "print(a, '*', b, '=', result)"
      ],
      "metadata": {
        "colab": {
          "base_uri": "https://localhost:8080/"
        },
        "id": "r1Vt24SJEO8M",
        "outputId": "7c71515c-95d3-416c-84b8-2423de5c7e92"
      },
      "execution_count": 6,
      "outputs": [
        {
          "output_type": "stream",
          "name": "stdout",
          "text": [
            "100 * 50 = 5000\n"
          ]
        }
      ]
    },
    {
      "cell_type": "code",
      "source": [
        "# 빼기, 곱하기, 나누기 기능 구현\n",
        "result = a / b\n",
        "print(a, '/', b, '=', result)"
      ],
      "metadata": {
        "colab": {
          "base_uri": "https://localhost:8080/"
        },
        "id": "2_siob3pEWd9",
        "outputId": "49eca429-61cd-41e8-b2ca-92b2437bc2d3"
      },
      "execution_count": 7,
      "outputs": [
        {
          "output_type": "stream",
          "name": "stdout",
          "text": [
            "100 / 50 = 2.0\n"
          ]
        }
      ]
    },
    {
      "cell_type": "code",
      "source": [
        "# 계산기의 최종 버전\n",
        "a = int(input(\"첫 번째 숫자를 입력하세요 : \"))\n",
        "b = int(input(\"두 번째 숫자를 입력하세요 : \"))\n",
        "result = a + b\n",
        "print(a, \"+\", b, \"=\", result)\n",
        "result = a - b\n",
        "print(a, \"-\", b, \"=\", result)\n",
        "result = a * b\n",
        "print(a, \"*\", b, \"=\", result)\n",
        "result = a / b\n",
        "print(a, \"/\", b, \"=\", result)"
      ],
      "metadata": {
        "colab": {
          "base_uri": "https://localhost:8080/"
        },
        "id": "nujGVr0cErXM",
        "outputId": "8d9f2204-a77f-444d-e650-f7382d95d12a"
      },
      "execution_count": 8,
      "outputs": [
        {
          "output_type": "stream",
          "name": "stdout",
          "text": [
            "첫 번째 숫자를 입력하세요 : 15\n",
            "두 번째 숫자를 입력하세요 : 16\n",
            "15 + 16 = 31\n",
            "15 - 16 = -1\n",
            "15 * 16 = 240\n",
            "15 / 16 = 0.9375\n"
          ]
        }
      ]
    }
  ]
}
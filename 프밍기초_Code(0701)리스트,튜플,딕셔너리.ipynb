{
  "nbformat": 4,
  "nbformat_minor": 0,
  "metadata": {
    "colab": {
      "provenance": [],
      "authorship_tag": "ABX9TyNt03wBR3TTb+r8TLndGhJw",
      "include_colab_link": true
    },
    "kernelspec": {
      "name": "python3",
      "display_name": "Python 3"
    },
    "language_info": {
      "name": "python"
    }
  },
  "cells": [
    {
      "cell_type": "markdown",
      "metadata": {
        "id": "view-in-github",
        "colab_type": "text"
      },
      "source": [
        "<a href=\"https://colab.research.google.com/github/junsikcho/Programming-Basics/blob/main/%ED%94%84%EB%B0%8D%EA%B8%B0%EC%B4%88_Code(0701)%EB%A6%AC%EC%8A%A4%ED%8A%B8%2C%ED%8A%9C%ED%94%8C%2C%EB%94%95%EC%85%94%EB%84%88%EB%A6%AC.ipynb\" target=\"_parent\"><img src=\"https://colab.research.google.com/assets/colab-badge.svg\" alt=\"Open In Colab\"/></a>"
      ]
    },
    {
      "cell_type": "markdown",
      "source": [
        "# 7장 리스트, 튜플, 딕셔너리\n",
        "1) 리스트의 기본 개념을 이해하고 데이터를 효율적으로 관리할 수 있다.\\\n",
        "2) 리스트와 반복문을 활용해 간단한 프로그램을 작성할 수 있다."
      ],
      "metadata": {
        "id": "UskXn5ey9LGQ"
      }
    },
    {
      "cell_type": "markdown",
      "source": [
        "1) 리스트를 익힌다.\\\n",
        "2) 리스트와 비슷한 튜플을 익힌다.\\\n",
        "3) 짝으로 구성된 딕셔너리를 익힌다."
      ],
      "metadata": {
        "id": "0GIJE7I9989p"
      }
    },
    {
      "cell_type": "code",
      "source": [
        "- 리스트의 개념\\\n",
        "\n",
        "1) C / C++나 Java 같은 프로그래밍 언어에는 리스트가 없음\\\n",
        "2)"
      ],
      "metadata": {
        "id": "uA7Jew4f-HaH"
      },
      "execution_count": null,
      "outputs": []
    },
    {
      "cell_type": "code",
      "source": [
        "# 리스트의 필요성\n",
        "# a, b, c, d라는 정수형 변수 선언 후 이 변수에 값을 입력받고 합계 출력하는 프로그램\n",
        "\n",
        "a, b, c, d = 0, 0, 0, 0\n",
        "hap = 0\n",
        "\n",
        "a = int(input(\"1번째 숫자 : \"))\n",
        "b = int(input(\"2번째 숫자 : \"))\n",
        "c = int(input(\"3번째 숫자 : \"))\n",
        "d = int(input(\"4번째 숫자 : \"))\n",
        "\n",
        "hap = a + b + c + d\n",
        "\n",
        "print(\"합계 ==> %d\" % hap)"
      ],
      "metadata": {
        "colab": {
          "base_uri": "https://localhost:8080/",
          "height": 0
        },
        "id": "AZQjbleN-XCI",
        "outputId": "43e60ed9-e89c-4dee-eee8-df9c410a138a"
      },
      "execution_count": 3,
      "outputs": [
        {
          "output_type": "stream",
          "name": "stdout",
          "text": [
            "1번째 숫자 : 10\n",
            "2번째 숫자 : 20\n",
            "3번째 숫자 : 30\n",
            "4번째 숫자 : 40\n",
            "합계 ==> 100\n"
          ]
        }
      ]
    },
    {
      "cell_type": "code",
      "source": [
        "# Code07.01.py\n",
        "# 리스트 생성 방법\n",
        "\n",
        "# 리스트명 = [값1, 값2, 값3, 값4, ....]\n",
        "\n",
        "aa = [10, 20, 30, 40]\n",
        "print(aa)"
      ],
      "metadata": {
        "colab": {
          "base_uri": "https://localhost:8080/",
          "height": 0
        },
        "id": "Fm-MJFu7B-Km",
        "outputId": "1ea0eb41-f255-4553-8866-20836a8c326f"
      },
      "execution_count": 7,
      "outputs": [
        {
          "output_type": "stream",
          "name": "stdout",
          "text": [
            "[10, 20, 30, 40]\n"
          ]
        }
      ]
    },
    {
      "cell_type": "code",
      "source": [
        "1) 각 변수 사용\n",
        "a , b, c, d = 10, 20, 30, 40\n",
        "a 사용\n",
        "b 사용\n",
        "c 사용\n",
        "d 사용"
      ],
      "metadata": {
        "id": "bcXed-LsCYFD"
      },
      "execution_count": null,
      "outputs": []
    },
    {
      "cell_type": "code",
      "source": [
        "2) 리스트 사용\n",
        "aa = [10, 20, 30, 40]\n",
        "aa[1] 사용\n",
        "aa[2] 사용\n",
        "aa[3] 사용\n",
        "aa[4] 사용"
      ],
      "metadata": {
        "id": "dRxGuQyGCgLt"
      },
      "execution_count": null,
      "outputs": []
    },
    {
      "cell_type": "code",
      "source": [
        "# Code07.01.py를 리스트를 사용하는 프로그램으로 수정\n",
        "# Code07.02.py\n",
        "\n",
        "aa = [0, 0, 0, 0] # aa = [0, 0, 0, 0]으로 항목이 4개 있는 리스트 생성\n",
        "hap = 0\n",
        "\n",
        "aa[0] = int(input(\"1번째 숫자 : \"))\n",
        "aa[1] = int(input(\"2번째 숫자 : \"))\n",
        "aa[2] = int(input(\"3번째 숫자 : \"))\n",
        "aa[3] = int(input(\"4번째 숫자 : \"))\n",
        "\n",
        "hap = aa[0] + aa[1] + aa[2] + aa[3]\n",
        "\n",
        "print(\"합계 ==> %d\" % hap)\n",
        "\n",
        "# 숫자 100개를 더하려면 aa=[0, 1, 0, ~99]로 생성한 후 aa[0] + aa[1] + aa[2] + ... aa[99]로 작성"
      ],
      "metadata": {
        "colab": {
          "base_uri": "https://localhost:8080/",
          "height": 0
        },
        "id": "bRbgF90UB22b",
        "outputId": "f2bdeb1e-d93f-4cfa-bb7d-3b5ab8040d97"
      },
      "execution_count": 8,
      "outputs": [
        {
          "output_type": "stream",
          "name": "stdout",
          "text": [
            "1번째 숫자 : 10\n",
            "2번째 숫자 : 20\n",
            "3번째 숫자 : 30\n",
            "4번째 숫자 : 40\n",
            "합계 ==> 100\n"
          ]
        }
      ]
    },
    {
      "cell_type": "code",
      "source": [
        "# 빈 리스트의 생성과 항목 추가\n",
        "aa = []\n",
        "aa.append(0)\n",
        "aa.append(0)\n",
        "aa.append(0)\n",
        "aa.append(0)\n",
        "print(aa)\n"
      ],
      "metadata": {
        "colab": {
          "base_uri": "https://localhost:8080/",
          "height": 0
        },
        "id": "3yeXbUE9Ev3J",
        "outputId": "6c6ad7d4-c846-4844-d089-ab4bda60278c"
      },
      "execution_count": 9,
      "outputs": [
        {
          "output_type": "stream",
          "name": "stdout",
          "text": [
            "[0, 0, 0, 0]\n"
          ]
        }
      ]
    },
    {
      "cell_type": "code",
      "source": [
        "aa = []\n",
        "for i in range(0, 100) : # 0부터 99까지의 숫자를 반복(100포함 X) (반복문은 총 100번 실행)\n",
        "  aa.append(0) # 리스트에 0 추가(리스트 끝에 값에)\n",
        "len(aa) # 리스트 aa의 길이를 반환\n",
        "# len() 함수는 리스트의 원소 개수를 계산\n",
        "# aa에 100개의 0이 들어있으므로, 결과는 100"
      ],
      "metadata": {
        "colab": {
          "base_uri": "https://localhost:8080/",
          "height": 0
        },
        "id": "7UgfxhsQFTgY",
        "outputId": "8c83c57f-8d42-40a9-ef11-308d344e4ee5"
      },
      "execution_count": 11,
      "outputs": [
        {
          "output_type": "execute_result",
          "data": {
            "text/plain": [
              "100"
            ]
          },
          "metadata": {},
          "execution_count": 11
        }
      ]
    },
    {
      "cell_type": "code",
      "source": [
        "# 리스트의 첨자가 순서대로 변할 수 있도록 반복문과 함께 활용\n",
        "\n",
        "aa = [] # 빈 리스트 생성\n",
        "for i in range(0, 4) :\n",
        "  aa.append(0)\n",
        "hap = 0\n",
        "\n",
        "for i in range(0, 4) : # i가 0에서 3까지 4번 반복\n",
        "   aa[i] = int(input(str(i + 1) + \"번째 숫자 : \"))\n",
        "# 9번 설명 : input()함수는 첨자 i가 0부터 시작하므로 i + 1로 출력. str()함수가 숫자를 문자로 변환한 후 '번째 숫자 : ' 와 합쳐지므로 결국 '1번째 숫자 : ', '2번째 숫자 : ' 등으로 출력\n",
        "# 9번 설명 : 7행의 첨자 i가 0에서 3까지 4번 변경되므로 aa[0], aa[1], aa[2], aa[3] 등 변수 4개에 값을 차례대로 입력해 [Code07-02]와 같이 작동\n",
        "hap = aa[0] + aa[1] + aa[2] + aa[3] # 빈 리스트 생성\n",
        "\n",
        "print(\"합계 ==> %d\" % hap)"
      ],
      "metadata": {
        "colab": {
          "base_uri": "https://localhost:8080/",
          "height": 0
        },
        "id": "5R2zd04OJp11",
        "outputId": "7094e58f-6619-4891-e415-53bb97ae04a8"
      },
      "execution_count": 16,
      "outputs": [
        {
          "output_type": "stream",
          "name": "stdout",
          "text": [
            "1번째 숫자 : 10\n",
            "2번째 숫자 : 20\n",
            "3번째 숫자 : 30\n",
            "4번째 숫자 : 40\n",
            "합계 ==> 100\n"
          ]
        }
      ]
    },
    {
      "cell_type": "code",
      "source": [
        "# SELF STUDY\n",
        "aa = []  # 빈 리스트 생성\n",
        "for i in range(0, 10):  # 0부터 9까지 10번 반복\n",
        "    aa.append(0)\n",
        "\n",
        "for i in range(0, 10):  # 10개의 값을 입력받아 리스트에 저장\n",
        "    aa[i] = int(input(str(i + 1) + \"번째 숫자 : \"))\n",
        "\n",
        "hap = 0  # 합계를 저장할 변수\n",
        "i = 0    # while문의 초기 첨자 설정\n",
        "\n",
        "while i < 10:  # i가 0부터 9까지 반복\n",
        "    hap += aa[i]  # 리스트의 i번째 값을 합계에 더함\n",
        "    i += 1        # 첨자를 1 증가\n",
        "\n",
        "print(\"합계 ==> %d\" % hap)  # 최종 합계 출력"
      ],
      "metadata": {
        "colab": {
          "base_uri": "https://localhost:8080/",
          "height": 0
        },
        "id": "DRpv9doSLU6u",
        "outputId": "3196cace-c8e3-4a52-bf59-75c6d35079a2"
      },
      "execution_count": 19,
      "outputs": [
        {
          "output_type": "stream",
          "name": "stdout",
          "text": [
            "1번째 숫자 : 10\n",
            "2번째 숫자 : 20\n",
            "3번째 숫자 : 30\n",
            "4번째 숫자 : 40\n",
            "5번째 숫자 : 50\n",
            "6번째 숫자 : 60\n",
            "7번째 숫자 : 70\n",
            "8번째 숫자 : 80\n",
            "9번째 숫자 : 90\n",
            "10번째 숫자 : 100\n",
            "합계 ==> 550\n"
          ]
        }
      ]
    },
    {
      "cell_type": "code",
      "source": [
        "# 리스트 생성 코드\n",
        "\n",
        "aa = [] # 빈 리스트 생성\n",
        "bb = [10, 20, 30] # 정수로만 구성된 리스트 생성\n",
        "cc = ['파이썬', '공부는', '꿀잼'] # 문자열로만 구성된 리스트 생성\n",
        "dd = [10, 20, '파이썬'] # 다양한 데이터형을 섞어 리스트 생성"
      ],
      "metadata": {
        "id": "96dF4bvmMngj"
      },
      "execution_count": null,
      "outputs": []
    },
    {
      "cell_type": "code",
      "source": [
        "# 0701자료 P.17 참고\n",
        "# 리스트 초기화\n",
        "\n",
        "aa = [] # 빈 리스트 aa, bb 생성\n",
        "bb = []\n",
        "value = 0 # 4value는 0, 2, 4, ...로 증가시킬 값\n",
        "\n",
        "for i in range(0, 100) : # 100번을 반복\n",
        "  aa.append(value)\n",
        "  value += 2 # 리스트 aa에 value를 추가한 후 2씩 증가\n",
        "\n",
        "for i in range(0, 100) : # 0 ~ 99로 100번 반복\n",
        "  bb.append(aa[99 - i])\n",
        "\n",
        "print(\"bb[0]에는 %d이, bb[99]에는 %d이 입력됩니다.\" % (bb[0], bb[99]))"
      ],
      "metadata": {
        "colab": {
          "base_uri": "https://localhost:8080/",
          "height": 0
        },
        "id": "to6P-qE5M6af",
        "outputId": "ed7c1be0-cde1-4eca-e4c8-0683aeed6ff4"
      },
      "execution_count": 20,
      "outputs": [
        {
          "output_type": "stream",
          "name": "stdout",
          "text": [
            "bb[0]에는 198이, bb[99]에는 0이 입력됩니다.\n"
          ]
        }
      ]
    },
    {
      "cell_type": "code",
      "source": [
        "# SELF STUDY - 리스트 초기화\n",
        "\n",
        "aa = []\n",
        "bb = []\n",
        "value = 0\n",
        "\n",
        "for i in range(0, 200) :\n",
        "  aa.append(value)\n",
        "  value += 3\n",
        "\n",
        "for i in range(0, 200) :\n",
        "  bb.append(aa[199 - i])\n",
        "\n",
        "print(\"bb[0]에는 %d이, bb[199]에는 %d이 입력됩니다.\" % (bb[0], bb[199]))"
      ],
      "metadata": {
        "colab": {
          "base_uri": "https://localhost:8080/",
          "height": 0
        },
        "id": "bXqVIISdN1eN",
        "outputId": "71650475-2cfa-460c-b1f7-fb89cff345d9"
      },
      "execution_count": 22,
      "outputs": [
        {
          "output_type": "stream",
          "name": "stdout",
          "text": [
            "bb[0]에는 597이, bb[199]에는 0이 입력됩니다.\n"
          ]
        }
      ]
    },
    {
      "cell_type": "code",
      "source": [
        "# 리스트 값에 접근하는 다양한 방법 ( 음수값으로 접근 )\n",
        "aa = [10, 20, 30, 40]\n",
        "print(\"aa[-1]은 %d, aa[-2]는 %d\" % (aa[-1], aa[-2]))"
      ],
      "metadata": {
        "colab": {
          "base_uri": "https://localhost:8080/",
          "height": 0
        },
        "id": "TIkK0zw4PaVN",
        "outputId": "a5cc609a-2e7f-40b8-afc8-afafdb40e23f"
      },
      "execution_count": 23,
      "outputs": [
        {
          "output_type": "stream",
          "name": "stdout",
          "text": [
            "aa[-1]은 40, aa[-2]는 30\n"
          ]
        }
      ]
    },
    {
      "cell_type": "code",
      "source": [
        "# 리스트 값에 접근하는 다양한 방법 ( 리스트에 접근할 때 콜론(:)을 사용해 범위를 지정)\n",
        "aa = [10, 20, 30, 40]\n",
        "aa[0 : 3] # 0번째 리스트부터 3번째 리스트 까지"
      ],
      "metadata": {
        "colab": {
          "base_uri": "https://localhost:8080/",
          "height": 0
        },
        "id": "GT6GSTkQPsLv",
        "outputId": "0358c362-d630-4e27-b22d-eabf6ee2db3f"
      },
      "execution_count": 25,
      "outputs": [
        {
          "output_type": "execute_result",
          "data": {
            "text/plain": [
              "[10, 20, 30]"
            ]
          },
          "metadata": {},
          "execution_count": 25
        }
      ]
    },
    {
      "cell_type": "code",
      "source": [
        "# 리스트 값에 접근하는 다양한 방법 ( 리스트에 접근할 때 콜론(:)을 사용해 범위를 지정)\n",
        "aa = [10, 20, 30, 40]\n",
        "aa[2 : 4] # 2번째 리스트부터 4번째 리스트 까지 ( 0 ~ 3 )"
      ],
      "metadata": {
        "colab": {
          "base_uri": "https://localhost:8080/",
          "height": 0
        },
        "id": "_bVgNxsUQC2Z",
        "outputId": "2e581527-9157-4552-ac03-a2c9cb4957df"
      },
      "execution_count": 26,
      "outputs": [
        {
          "output_type": "execute_result",
          "data": {
            "text/plain": [
              "[30, 40]"
            ]
          },
          "metadata": {},
          "execution_count": 26
        }
      ]
    },
    {
      "cell_type": "code",
      "source": [
        "# 리스트 값에 접근하는 다양한 방법 ( 콜론의 앞이나 뒤 숫자 생략 )\n",
        "aa = [10, 20, 30, 40]\n",
        "aa[2 : ] # 2번째부터 끝까지"
      ],
      "metadata": {
        "colab": {
          "base_uri": "https://localhost:8080/",
          "height": 0
        },
        "id": "HWXpYazpQZrG",
        "outputId": "e0a06112-7dc7-4d59-a7d5-ad8b66e18f04"
      },
      "execution_count": 29,
      "outputs": [
        {
          "output_type": "execute_result",
          "data": {
            "text/plain": [
              "[30, 40]"
            ]
          },
          "metadata": {},
          "execution_count": 29
        }
      ]
    },
    {
      "cell_type": "code",
      "source": [
        "# 리스트 값에 접근하는 다양한 방법 ( 콜론의 앞이나 뒤 숫자 생략 )\n",
        "aa = [10, 20, 30, 40]\n",
        "aa[ : 2] # 처음부터 2번째까지"
      ],
      "metadata": {
        "colab": {
          "base_uri": "https://localhost:8080/",
          "height": 0
        },
        "id": "rmFOWIF8Qo6q",
        "outputId": "9d786083-68e6-4bd6-b66b-5d8364034203"
      },
      "execution_count": 30,
      "outputs": [
        {
          "output_type": "execute_result",
          "data": {
            "text/plain": [
              "[10, 20]"
            ]
          },
          "metadata": {},
          "execution_count": 30
        }
      ]
    },
    {
      "cell_type": "code",
      "source": [
        "# 리스트 값에 접근하는 다양한 방법 ( 리스트끼리 덧셈, 곱셈 연산)\n",
        "aa = [10, 20, 30]\n",
        "bb = [40, 50, 60]\n",
        "aa + bb"
      ],
      "metadata": {
        "colab": {
          "base_uri": "https://localhost:8080/",
          "height": 0
        },
        "id": "ctM_3u6oQ4Gk",
        "outputId": "1b75a27f-07a4-40fd-94fa-81e63f67bc4f"
      },
      "execution_count": 32,
      "outputs": [
        {
          "output_type": "execute_result",
          "data": {
            "text/plain": [
              "[10, 20, 30, 40, 50, 60]"
            ]
          },
          "metadata": {},
          "execution_count": 32
        }
      ]
    },
    {
      "cell_type": "code",
      "source": [
        "# 리스트 값에 접근하는 다양한 방법 ( 리스트끼리 덧셈, 곱셈 연산)\n",
        "aa = [10, 20, 30]\n",
        "bb = [40, 50, 60]\n",
        "aa * 3"
      ],
      "metadata": {
        "colab": {
          "base_uri": "https://localhost:8080/",
          "height": 0
        },
        "id": "BE8rApqWRDj3",
        "outputId": "eaac428a-12a9-4cef-ef9c-2c0187280da6"
      },
      "execution_count": 33,
      "outputs": [
        {
          "output_type": "execute_result",
          "data": {
            "text/plain": [
              "[10, 20, 30, 10, 20, 30, 10, 20, 30]"
            ]
          },
          "metadata": {},
          "execution_count": 33
        }
      ]
    },
    {
      "cell_type": "code",
      "source": [
        "# 리스트 값에 접근하는 다양한 방법 ( 리스트이 항목 건너뛰며 추출)\n",
        "aa = [10, 20, 30, 40, 50, 60 ,70]\n",
        "aa[::2]"
      ],
      "metadata": {
        "colab": {
          "base_uri": "https://localhost:8080/",
          "height": 0
        },
        "id": "Jm6qJUmURGdV",
        "outputId": "3313bcac-7b0a-4552-e7cf-bc2bebc69642"
      },
      "execution_count": 34,
      "outputs": [
        {
          "output_type": "execute_result",
          "data": {
            "text/plain": [
              "[10, 30, 50, 70]"
            ]
          },
          "metadata": {},
          "execution_count": 34
        }
      ]
    },
    {
      "cell_type": "code",
      "source": [
        "# 리스트 값에 접근하는 다양한 방법 ( 리스트이 항목 건너뛰며 추출)\n",
        "aa = [10, 20, 30, 40, 50, 60 ,70]\n",
        "aa[::-2]"
      ],
      "metadata": {
        "colab": {
          "base_uri": "https://localhost:8080/",
          "height": 0
        },
        "id": "NP-bLL-QRQOn",
        "outputId": "fbfc5b3f-4f61-4cf7-b02f-7fa3e17a81eb"
      },
      "execution_count": 35,
      "outputs": [
        {
          "output_type": "execute_result",
          "data": {
            "text/plain": [
              "[70, 50, 30, 10]"
            ]
          },
          "metadata": {},
          "execution_count": 35
        }
      ]
    },
    {
      "cell_type": "code",
      "source": [
        "# 리스트 값에 접근하는 다양한 방법 ( 리스트이 항목 건너뛰며 추출)\n",
        "aa = [10, 20, 30, 40, 50, 60 ,70]\n",
        "aa[::-1]"
      ],
      "metadata": {
        "colab": {
          "base_uri": "https://localhost:8080/",
          "height": 0
        },
        "id": "janYcDPQRTOp",
        "outputId": "225ea197-8c0f-407e-dc5f-9c56006811dd"
      },
      "execution_count": 36,
      "outputs": [
        {
          "output_type": "execute_result",
          "data": {
            "text/plain": [
              "[70, 60, 50, 40, 30, 20, 10]"
            ]
          },
          "metadata": {},
          "execution_count": 36
        }
      ]
    },
    {
      "cell_type": "code",
      "source": [
        "# 리스트 값의 변경 (두 번째에 위치한 값을 1개 변경하는 방법)\n",
        "aa = [10, 20, 30]\n",
        "aa[1] = 200 # 0번째, 1번째, 2번째 순인데, 1번째값인 20을 200으로 변경\n",
        "aa"
      ],
      "metadata": {
        "colab": {
          "base_uri": "https://localhost:8080/",
          "height": 0
        },
        "id": "3RvYj7g3RYvP",
        "outputId": "bd8fab16-72bf-449e-a791-61dd42936543"
      },
      "execution_count": 37,
      "outputs": [
        {
          "output_type": "execute_result",
          "data": {
            "text/plain": [
              "[10, 200, 30]"
            ]
          },
          "metadata": {},
          "execution_count": 37
        }
      ]
    },
    {
      "cell_type": "code",
      "source": [
        "# 리스트 값의 변경 (두 번째 값인 20을 200과 201이라는 값 2개로 변경하는 방법)\n",
        "aa = [10, 20, 30] # aa[0] -> 10 , aa[1] -> 20, aa[2] -> 30\n",
        "aa[1:2] = [200, 201] # aa[1:2]는 인덱스 1부터 2 전까지(즉, aa[1])의 요소를 선택 / 선택된 [20]을 [200, 201]로 교체\n",
        "aa"
      ],
      "metadata": {
        "colab": {
          "base_uri": "https://localhost:8080/",
          "height": 0
        },
        "id": "bpLCouz-RnqC",
        "outputId": "103ead32-b291-4a50-f539-7092e702d385"
      },
      "execution_count": 38,
      "outputs": [
        {
          "output_type": "execute_result",
          "data": {
            "text/plain": [
              "[10, 200, 201, 30]"
            ]
          },
          "metadata": {},
          "execution_count": 38
        }
      ]
    },
    {
      "cell_type": "code",
      "source": [
        "# 리스트 값의 변경 ( aa[1:2] 대신 그냥 aa[1] 사용)\n",
        "aa = [10, 20, 30]\n",
        "aa[1] = [200, 201] # 인덱스 첫번째 리스트인 20을 [200,201]로 변경\n",
        "aa"
      ],
      "metadata": {
        "colab": {
          "base_uri": "https://localhost:8080/",
          "height": 0
        },
        "id": "fl3BzJ-wSPwY",
        "outputId": "c1bf19e9-6b53-4618-9cc1-f8c5e4a26071"
      },
      "execution_count": 39,
      "outputs": [
        {
          "output_type": "execute_result",
          "data": {
            "text/plain": [
              "[10, [200, 201], 30]"
            ]
          },
          "metadata": {},
          "execution_count": 39
        }
      ]
    },
    {
      "cell_type": "code",
      "source": [
        "# 리스트 값의 변경 ( 두 번째인 aa[1]의 항목 삭제)\n",
        "aa = [10, 20, 30]\n",
        "del(aa[1]) # 인덱스 첫번째 리스트인 20을 삭제\n",
        "aa"
      ],
      "metadata": {
        "colab": {
          "base_uri": "https://localhost:8080/",
          "height": 0
        },
        "id": "YX9JS0-cSfUx",
        "outputId": "47512725-f26c-4ddd-8869-30a07fe9ca4e"
      },
      "execution_count": 42,
      "outputs": [
        {
          "output_type": "execute_result",
          "data": {
            "text/plain": [
              "[10, 30]"
            ]
          },
          "metadata": {},
          "execution_count": 42
        }
      ]
    },
    {
      "cell_type": "code",
      "source": [
        "# 리스트 값의 변경 (두 번째인 aa[1]에서 네 번째인 aa[3]까지 삭제)\n",
        "aa = [10, 20, 30, 40, 50]\n",
        "aa[1:4] = [] # aa[1:4]은 인덱스 1부터 4 전까지의 요소를 선택 / 20, 30, 40 삭제\n",
        "aa"
      ],
      "metadata": {
        "colab": {
          "base_uri": "https://localhost:8080/",
          "height": 0
        },
        "id": "TnaUULDMSpmg",
        "outputId": "fdb2f208-4f58-4de4-822d-4e4b7183521a"
      },
      "execution_count": 44,
      "outputs": [
        {
          "output_type": "execute_result",
          "data": {
            "text/plain": [
              "[10, 50]"
            ]
          },
          "metadata": {},
          "execution_count": 44
        }
      ]
    },
    {
      "cell_type": "code",
      "source": [
        "# 리스트 값의 변경 ( 리스트 자체를 삭제하는 방법\n",
        "aa = [10, 20, 30]; aa = []; aa\n",
        "aa = [10, 20, 30]; aa = None; aa\n",
        "aa = [10, 20, 30]; del(aa); aa)\n",
        "# 아무것도 안나오는 코드임 오류"
      ],
      "metadata": {
        "colab": {
          "base_uri": "https://localhost:8080/",
          "height": 110
        },
        "id": "zH2kjOqRTFTj",
        "outputId": "5b3c293f-24cb-44c3-d7ba-61c8142bf00b"
      },
      "execution_count": 45,
      "outputs": [
        {
          "output_type": "error",
          "ename": "SyntaxError",
          "evalue": "unmatched ')' (<ipython-input-45-107702f612b2>, line 4)",
          "traceback": [
            "\u001b[0;36m  File \u001b[0;32m\"<ipython-input-45-107702f612b2>\"\u001b[0;36m, line \u001b[0;32m4\u001b[0m\n\u001b[0;31m    aa = [10, 20, 30]; del(aa); aa)\u001b[0m\n\u001b[0m                                  ^\u001b[0m\n\u001b[0;31mSyntaxError\u001b[0m\u001b[0;31m:\u001b[0m unmatched ')'\n"
          ]
        }
      ]
    },
    {
      "cell_type": "code",
      "source": [
        "리스트 조작 함수\n",
        "함수\t설명\t사용법\n",
        "append()\t리스트 맨 뒤에 항목을 추가한다.\t리스트명.append(값)\n",
        "pop()\t리스트 맨 뒤의 항목을 빼낸다(리스트에서 해당 항목이 삭제된다).\t리스트명.pop()\n",
        "sort()\t리스트의 항목을 정렬한다.\t리스트명.sort()\n",
        "reverse()\t리스트 항목의 순서를 역순으로 만든다.\t리스트명.reverse()\n",
        "index()\t지정한 값을 찾아 해당 위치를 반환한다.\t리스트명.index(찾을값)\n",
        "insert()\t지정된 위치에 값을 삽입한다.\t리스트명.insert(위치, 값)\n",
        "remove()\t리스트에서 지정한 값을 삭제한다. 단 지정한 값이 여러 개면 첫 번째 값만 지운다.\t리스트명.remove(지울값)\n",
        "extend()\t리스트 뒤에 리스트를 추가한다. 리스트의 더하기(+) 연산과 기능이 동일하다.\t리스트명.extend(추가할리스트)\n",
        "count()\t리스트에서 해당 값이 개수를 센다.\t리스트명.count(찾을값)\n",
        "clear()\t리스트의 내용을 모두 지운다.\t리스트명.clear()\n",
        "del()\t리스트에서 해당 위치의 항목을 삭제한다.\tdel(리스트명[위치])\n",
        "len()\t리스트에 포함된 전체 항목의 개수를 센다.\tlen(리스트명)\n",
        "copy()\t리스트의 내용을 새로운 리스트에 복사한다.\t새리스트 = 리스트명.copy()\n",
        "sorted()\t리스트의 항목을 정렬해서 새로운 리스트에 대입한다.\t새리스트 = sorted(리스트명)"
      ],
      "metadata": {
        "id": "g4U1_yHtTT6n"
      },
      "execution_count": null,
      "outputs": []
    },
    {
      "cell_type": "markdown",
      "source": [
        "# 리스트 조작 함수"
      ],
      "metadata": {
        "id": "bcHFEBc9Trhq"
      }
    },
    {
      "cell_type": "code",
      "source": [
        "myList = [30, 10, 20]  # 초기 리스트 생성\n",
        "print(\"현재 리스트 : %s\" % myList)  # 현재 리스트 출력\n",
        "\n",
        "myList.append(40)  # 리스트의 끝에 40 추가\n",
        "print(\"append(40) 후의 리스트 : %s\" % myList)  # 40이 추가된 리스트 출력\n",
        "\n",
        "print(\"pop()으로 추출한 값 : %s\" % myList.pop())  # 리스트의 마지막 값을 추출하고 반환\n",
        "print(\"pop() 후의 리스트 : %s\" % myList)  # pop() 이후의 리스트 출력\n",
        "\n",
        "myList.sort()  # 리스트의 값을 오름차순으로 정렬\n",
        "print(\"sort() 후의 리스트 : %s\" % myList)  # 정렬된 리스트 출력\n",
        "\n",
        "myList.reverse()  # 리스트의 값을 역순으로 정렬\n",
        "print(\"reverse() 후의 리스트 : %s\" % myList)  # 역순으로 정렬된 리스트 출력\n",
        "\n",
        "print(\"20값의 위치 : %d\" % myList.index(20))  # 리스트에서 20의 위치(인덱스)를 반환\n",
        "\n",
        "myList.insert(2, 222)  # 리스트의 2번 인덱스 위치에 222 삽입\n",
        "print(\"insert(2, 222) 후의 리스트 : %s\" % myList)  # 222가 삽입된 리스트 출력\n",
        "\n",
        "myList.remove(222)  # 리스트에서 값 222를 제거\n",
        "print(\"remove(222) 후의 리스트 : %s\" % myList)  # 222가 제거된 리스트 출력\n",
        "\n",
        "myList.extend([77, 88, 77])  # 리스트의 끝에 [77, 88, 77]을 확장하여 추가\n",
        "print(\"extend([77, 88, 77]) 후의 리스트 : %s\" % myList)  # 확장된 리스트 출력\n",
        "\n",
        "print(\"77값의 개수 : %d\" % myList.count(77))  # 리스트에서 77의 개수를 세어 출력"
      ],
      "metadata": {
        "colab": {
          "base_uri": "https://localhost:8080/",
          "height": 0
        },
        "id": "-6rtd-3yTxHt",
        "outputId": "17e1ceaa-04c7-4d68-a012-4e811f291a14"
      },
      "execution_count": 47,
      "outputs": [
        {
          "output_type": "stream",
          "name": "stdout",
          "text": [
            "현재 리스트 : [30, 10, 20]\n",
            "append(40) 후의 리스트 : [30, 10, 20, 40]\n",
            "pop()으로 추출한 값 : 40\n",
            "pop() 후의 리스트 : [30, 10, 20]\n",
            "sort() 후의 리스트 : [10, 20, 30]\n",
            "reverse() 후의 리스트 : [30, 20, 10]\n",
            "20값의 위치 : 1\n",
            "insert(2, 222) 후의 리스트 : %s % myList\n",
            "remove(222) 후의 리스트 : [30, 20, 10]\n",
            "extend([77, 88, 77]) 후의 리스트 : [30, 20, 10, 77, 88, 77]\n",
            "77값의 개수 : 2\n"
          ]
        }
      ]
    },
    {
      "cell_type": "code",
      "source": [
        "myList = [30, 10, 20]  # 초기 리스트 생성\n",
        "newList = sorted(myList)  # 기존 리스트를 변경하지 않고, 정렬된 새로운 리스트를 생성\n",
        "\n",
        "# sorted() 함수는 myList를 정렬하지만, 원본(myList)은 변경하지 않고, 결과를 새로운 리스트(newList)로 반환한다.\n",
        "\n",
        "print(\"sorted() 후의 myList : %s\" % myList)  # 기존 리스트(myList)는 여전히 변경되지 않은 상태\n",
        "print(\"sorted() 후의 newList : %s\" % newList)  # 정렬된 새로운 리스트(newList)를 출력"
      ],
      "metadata": {
        "colab": {
          "base_uri": "https://localhost:8080/",
          "height": 0
        },
        "id": "iIJHtOqbVvYo",
        "outputId": "b9c2df56-0224-4a6d-e1b8-33efa07df820"
      },
      "execution_count": 48,
      "outputs": [
        {
          "output_type": "stream",
          "name": "stdout",
          "text": [
            "sorted() 후의 myList : [30, 10, 20]\n",
            "sorted() 후의 newList : [10, 20, 30]\n"
          ]
        }
      ]
    }
  ]
}